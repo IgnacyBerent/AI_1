{
 "cells": [
  {
   "cell_type": "code",
   "execution_count": 53,
   "id": "da7c2a58",
   "metadata": {},
   "outputs": [],
   "source": [
    "import os\n",
    "import random\n",
    "import numpy as np\n",
    "import matplotlib.pyplot as plt\n",
    "from python_speech_features import logfbank\n",
    "import scipy.io.wavfile as wav\n",
    "from tqdm import tqdm\n",
    "\n",
    "from sklearn.model_selection import train_test_split\n",
    "\n",
    "import torch\n",
    "from torch.utils.data import TensorDataset, DataLoader\n",
    "import torch.nn as nn\n",
    "import torch.nn.functional as F\n",
    "import torch.optim as optim\n",
    "\n",
    "from ignite.metrics import Accuracy, Loss\n",
    "from ignite.contrib.handlers import ProgressBar\n",
    "from ignite.engine import create_supervised_trainer, create_supervised_evaluator, Events\n",
    "from ignite.handlers import FastaiLRFinder"
   ]
  },
  {
   "cell_type": "code",
   "execution_count": 54,
   "id": "e95e68f6",
   "metadata": {},
   "outputs": [],
   "source": [
    "seed = 42\n",
    "random.seed(seed)\n",
    "np.random.seed(seed)\n",
    "torch.manual_seed(seed)\n",
    "if torch.cuda.is_available():\n",
    "    torch.cuda.manual_seed_all(seed)"
   ]
  },
  {
   "cell_type": "code",
   "execution_count": 31,
   "id": "c7e1807f",
   "metadata": {},
   "outputs": [],
   "source": [
    "root = os.path.join('.', 'data/speech_commands')"
   ]
  },
  {
   "cell_type": "code",
   "execution_count": 32,
   "id": "bb5da6a2",
   "metadata": {},
   "outputs": [
    {
     "name": "stderr",
     "output_type": "stream",
     "text": [
      "Audio processing:  99%|█████████▉| 10429/10506 [00:14<00:00, 747.65it/s]C:\\Users\\Ignacy\\AppData\\Local\\Temp\\ipykernel_10960\\2736930703.py:22: WavFileWarning: Chunk (non-data) not understood, skipping it.\n",
      "  fs, sig = wav.read(signal_path)\n",
      "Audio processing: 100%|██████████| 10506/10506 [00:14<00:00, 715.61it/s]\n"
     ]
    }
   ],
   "source": [
    "paths = []\n",
    "labels = []\n",
    "labels_categorical = []\n",
    "\n",
    "# Subfolder iteration\n",
    "for ind, subdir in enumerate(os.listdir(root)):\n",
    "    subdir_path = os.path.join(root, subdir)\n",
    "    if not os.path.isdir(subdir_path):\n",
    "        continue\n",
    "\n",
    "    for file in os.listdir(subdir_path)[:300]:\n",
    "        filepath = os.path.join(subdir_path, file)\n",
    "        if filepath.endswith('.wav'):\n",
    "            paths.append(filepath)\n",
    "            labels.append(ind)\n",
    "            labels_categorical.append(subdir)\n",
    "\n",
    "logfbank_feats = []\n",
    "\n",
    "#  logFBank feature extraction with progress bar\n",
    "for signal_path in tqdm(paths, desc=\"Audio processing\"):\n",
    "    fs, sig = wav.read(signal_path)\n",
    "    fbank_feat = logfbank(sig, samplerate=fs)\n",
    "    logfbank_feats.append(fbank_feat)\n",
    "\n",
    "# Padding up to one length\n",
    "lengths = [i.shape[0] for i in logfbank_feats]\n",
    "max_len = np.max(lengths)\n",
    "feat_dim = logfbank_feats[0].shape[1]\n",
    "\n",
    "padded_feats = np.zeros((len(logfbank_feats), max_len, feat_dim))\n",
    "\n",
    "for i, feats in enumerate(logfbank_feats):\n",
    "    pad_width = max_len - feats.shape[0]\n",
    "    pad_before = pad_width // 2\n",
    "    pad_after = pad_width - pad_before\n",
    "    padded_feats[i, :, :] = np.pad(feats, ((pad_before, pad_after), (0, 0)), mode='constant')\n",
    "\n",
    "# Save temporary\n",
    "np.save('data/processed/logfbank_feats.npy', padded_feats)\n",
    "np.save('data/processed/labels.npy', np.array(labels))\n",
    "np.save('data/processed/labels_categorical.npy', np.array(labels_categorical))"
   ]
  },
  {
   "cell_type": "code",
   "execution_count": 33,
   "id": "b2baf3f1",
   "metadata": {},
   "outputs": [
    {
     "name": "stdout",
     "output_type": "stream",
     "text": [
      "Size of X_train: (8404, 247442)\n",
      "Size of X_val: (1051, 247442)\n",
      "Size of X_test: (1051, 247442)\n"
     ]
    }
   ],
   "source": [
    "feats = np.load('data/processed/logfbank_feats.npy')\n",
    "labels = np.load('data/processed/labels.npy')\n",
    "\n",
    "#  (num_samples, time, filters) → (num_samples, time * filters)\n",
    "feats = feats.reshape(feats.shape[0], -1)\n",
    "feats = feats.astype(np.float32)\n",
    "\n",
    "# Splitting into training (80%) and provisional (20%) sets\n",
    "X_train, X_val_test, y_train, y_val_test = train_test_split(\n",
    "    feats,\n",
    "    labels,\n",
    "    random_state=42,\n",
    "    stratify=labels,\n",
    "    train_size=0.8\n",
    ")\n",
    "\n",
    "# Splitting the provisional set into validation (10%) and test (10%)\n",
    "X_val, X_test, y_val, y_test = train_test_split(\n",
    "    X_val_test,\n",
    "    y_val_test,\n",
    "    random_state=42,\n",
    "    stratify=y_val_test,\n",
    "    train_size=0.5\n",
    ")\n",
    "\n",
    "print(f\"Size of X_train: {X_train.shape}\")\n",
    "print(f\"Size of X_val: {X_val.shape}\")\n",
    "print(f\"Size of X_test: {X_test.shape}\")"
   ]
  },
  {
   "cell_type": "code",
   "execution_count": 34,
   "id": "fb970ae8",
   "metadata": {},
   "outputs": [],
   "source": [
    "trainset = TensorDataset(torch.tensor(X_train), torch.tensor(y_train))\n",
    "valset = TensorDataset(torch.tensor(X_val), torch.tensor(y_val))\n",
    "testset = TensorDataset(torch.tensor(X_test), torch.tensor(y_test))"
   ]
  },
  {
   "cell_type": "code",
   "execution_count": 35,
   "id": "d62ad5b5",
   "metadata": {},
   "outputs": [],
   "source": [
    "train_loader = DataLoader(trainset, batch_size = 256)\n",
    "val_loader = DataLoader(valset, batch_size = 256)\n",
    "test_loader = DataLoader(testset, batch_size = 256)"
   ]
  },
  {
   "cell_type": "code",
   "execution_count": 77,
   "id": "eb7ff24c",
   "metadata": {},
   "outputs": [],
   "source": [
    "class Net(nn.Module):\n",
    "    def __init__(self):\n",
    "        super(Net, self).__init__()\n",
    "        self.fc1 = nn.Linear(247442, 2504) \n",
    "        self.fc2 = nn.Linear(2504, 256)\n",
    "        self.fc3 = nn.Linear(256, 120)\n",
    "        self.fc4 = nn.Linear(120, 36)\n",
    "\n",
    "        # Dropout (rejects some neurons randomly during training)\n",
    "        self.dropout1 = nn.Dropout(p=0.5)   # 50% chance of \"switching off\" the neuron\n",
    "        self.dropout2 = nn.Dropout(p=0.2)\n",
    "        self.dropout3 = nn.Dropout(p=0.2)\n",
    "        \n",
    "\n",
    "    def forward(self, x):\n",
    "        x = self.dropout1(F.relu(self.fc1(x)))\n",
    "        x = self.dropout2(F.relu(self.fc2(x)))\n",
    "        x = self.dropout3(F.relu(self.fc3(x)))\n",
    "\n",
    "        x = F.log_softmax(self.fc4(x), dim=1)\n",
    "        return x"
   ]
  },
  {
   "cell_type": "code",
   "execution_count": 78,
   "id": "a75c8428",
   "metadata": {},
   "outputs": [],
   "source": [
    "device = 'cuda' if torch.cuda.is_available() else 'cpu'\n",
    "criterion = nn.NLLLoss()\n",
    "model = Net()\n",
    "model.to(device)\n",
    "optimizer = optim.SGD(model.parameters(), lr = 3e-4, momentum = 0.9)"
   ]
  },
  {
   "cell_type": "code",
   "execution_count": 79,
   "id": "c018a852",
   "metadata": {},
   "outputs": [],
   "source": [
    "init_model_state = model.state_dict()\n",
    "init_opt_state = optimizer.state_dict()"
   ]
  },
  {
   "cell_type": "code",
   "execution_count": 80,
   "id": "8b091969",
   "metadata": {},
   "outputs": [],
   "source": [
    "trainer = create_supervised_trainer(\n",
    "    model,\n",
    "    optimizer,\n",
    "    criterion,\n",
    "    device=device\n",
    ")"
   ]
  },
  {
   "cell_type": "code",
   "execution_count": 81,
   "id": "6ca5de21",
   "metadata": {},
   "outputs": [
    {
     "name": "stderr",
     "output_type": "stream",
     "text": [
      "c:\\Users\\Ignacy\\Desktop\\programowanie\\Studia\\sem6\\AI_1\\.venv\\Lib\\site-packages\\ignite\\handlers\\lr_finder.py:293: UserWarning: skip_start is larger than the suggested LR found and it will not be visible on the plot. Please, make the value smaller.\n",
      "  warnings.warn(\n"
     ]
    },
    {
     "data": {
      "image/png": "[encoded data removed]",
      "text/plain": [
       "<Figure size 640x480 with 1 Axes>"
      ]
     },
     "metadata": {},
     "output_type": "display_data"
    },
    {
     "name": "stdout",
     "output_type": "stream",
     "text": [
      "Suggested LR: 0.0037460770701952194\n"
     ]
    }
   ],
   "source": [
    "to_save = {'model': model, 'optimizer': optimizer}\n",
    "\n",
    "lr_finder = FastaiLRFinder()\n",
    "\n",
    "with lr_finder.attach(trainer, to_save, diverge_th=1.1) as trainer_with_lr_finder:\n",
    "    trainer_with_lr_finder.run(train_loader)\n",
    "\n",
    "results = lr_finder.get_results()\n",
    "lr_finder.plot()\n",
    "\n",
    "print(\"Suggested LR:\", lr_finder.lr_suggestion())"
   ]
  },
  {
   "cell_type": "code",
   "execution_count": 82,
   "id": "4b638fe7",
   "metadata": {},
   "outputs": [
    {
     "name": "stdout",
     "output_type": "stream",
     "text": [
      "Training with suggested lr: 0.0037460770701952194\n"
     ]
    },
    {
     "name": "stderr",
     "output_type": "stream",
     "text": [
      "Epoch [1/250]: [33/33] 100%|██████████, batch loss=3.59 [01:21<00:00]\n"
     ]
    },
    {
     "name": "stdout",
     "output_type": "stream",
     "text": [
      "Validation Results - Epoch: 1 | Avg accuracy: 0.04 | Avg loss: 3.55\n"
     ]
    },
    {
     "name": "stderr",
     "output_type": "stream",
     "text": [
      "Epoch [2/250]: [33/33] 100%|██████████, batch loss=3.54 [01:21<00:00]\n"
     ]
    },
    {
     "name": "stdout",
     "output_type": "stream",
     "text": [
      "Validation Results - Epoch: 2 | Avg accuracy: 0.05 | Avg loss: 3.53\n"
     ]
    },
    {
     "name": "stderr",
     "output_type": "stream",
     "text": [
      "Epoch [3/250]: [33/33] 100%|██████████, batch loss=3.43 [01:21<00:00]\n"
     ]
    },
    {
     "name": "stdout",
     "output_type": "stream",
     "text": [
      "Validation Results - Epoch: 3 | Avg accuracy: 0.06 | Avg loss: 3.45\n"
     ]
    },
    {
     "name": "stderr",
     "output_type": "stream",
     "text": [
      "Epoch [4/250]: [33/33] 100%|██████████, batch loss=3.37 [01:21<00:00]\n"
     ]
    },
    {
     "name": "stdout",
     "output_type": "stream",
     "text": [
      "Validation Results - Epoch: 4 | Avg accuracy: 0.07 | Avg loss: 3.35\n"
     ]
    },
    {
     "name": "stderr",
     "output_type": "stream",
     "text": [
      "Epoch [5/250]: [33/33] 100%|██████████, batch loss=3.29 [01:20<00:00]\n"
     ]
    },
    {
     "name": "stdout",
     "output_type": "stream",
     "text": [
      "Validation Results - Epoch: 5 | Avg accuracy: 0.08 | Avg loss: 3.31\n"
     ]
    },
    {
     "name": "stderr",
     "output_type": "stream",
     "text": [
      "Epoch [6/250]: [33/33] 100%|██████████, batch loss=3.26 [01:21<00:00]\n"
     ]
    },
    {
     "name": "stdout",
     "output_type": "stream",
     "text": [
      "Validation Results - Epoch: 6 | Avg accuracy: 0.07 | Avg loss: 3.28\n"
     ]
    },
    {
     "name": "stderr",
     "output_type": "stream",
     "text": [
      "Epoch [7/250]: [33/33] 100%|██████████, batch loss=3.21 [01:21<00:00]\n"
     ]
    },
    {
     "name": "stdout",
     "output_type": "stream",
     "text": [
      "Validation Results - Epoch: 7 | Avg accuracy: 0.08 | Avg loss: 3.26\n"
     ]
    },
    {
     "name": "stderr",
     "output_type": "stream",
     "text": [
      "Epoch [8/250]: [33/33] 100%|██████████, batch loss=3.24 [01:22<00:00]\n"
     ]
    },
    {
     "name": "stdout",
     "output_type": "stream",
     "text": [
      "Validation Results - Epoch: 8 | Avg accuracy: 0.11 | Avg loss: 3.20\n"
     ]
    },
    {
     "name": "stderr",
     "output_type": "stream",
     "text": [
      "Epoch [9/250]: [33/33] 100%|██████████, batch loss=3.16 [01:22<00:00]\n"
     ]
    },
    {
     "name": "stdout",
     "output_type": "stream",
     "text": [
      "Validation Results - Epoch: 9 | Avg accuracy: 0.10 | Avg loss: 3.18\n"
     ]
    },
    {
     "name": "stderr",
     "output_type": "stream",
     "text": [
      "Epoch [10/250]: [33/33] 100%|██████████, batch loss=3.16 [01:21<00:00]\n"
     ]
    },
    {
     "name": "stdout",
     "output_type": "stream",
     "text": [
      "Validation Results - Epoch: 10 | Avg accuracy: 0.12 | Avg loss: 3.10\n"
     ]
    },
    {
     "name": "stderr",
     "output_type": "stream",
     "text": [
      "Epoch [11/250]: [33/33] 100%|██████████, batch loss=3.09 [01:21<00:00]\n"
     ]
    },
    {
     "name": "stdout",
     "output_type": "stream",
     "text": [
      "Validation Results - Epoch: 11 | Avg accuracy: 0.15 | Avg loss: 2.99\n"
     ]
    },
    {
     "name": "stderr",
     "output_type": "stream",
     "text": [
      "Epoch [12/250]: [33/33] 100%|██████████, batch loss=2.95 [01:21<00:00]\n"
     ]
    },
    {
     "name": "stdout",
     "output_type": "stream",
     "text": [
      "Validation Results - Epoch: 12 | Avg accuracy: 0.19 | Avg loss: 2.84\n"
     ]
    },
    {
     "name": "stderr",
     "output_type": "stream",
     "text": [
      "Epoch [13/250]: [33/33] 100%|██████████, batch loss=2.89 [01:22<00:00]\n"
     ]
    },
    {
     "name": "stdout",
     "output_type": "stream",
     "text": [
      "Validation Results - Epoch: 13 | Avg accuracy: 0.22 | Avg loss: 2.74\n"
     ]
    },
    {
     "name": "stderr",
     "output_type": "stream",
     "text": [
      "Epoch [14/250]: [33/33] 100%|██████████, batch loss=2.83 [01:22<00:00]\n"
     ]
    },
    {
     "name": "stdout",
     "output_type": "stream",
     "text": [
      "Validation Results - Epoch: 14 | Avg accuracy: 0.22 | Avg loss: 2.69\n"
     ]
    },
    {
     "name": "stderr",
     "output_type": "stream",
     "text": [
      "Epoch [15/250]: [33/33] 100%|██████████, batch loss=2.74 [01:21<00:00]\n"
     ]
    },
    {
     "name": "stdout",
     "output_type": "stream",
     "text": [
      "Validation Results - Epoch: 15 | Avg accuracy: 0.22 | Avg loss: 2.62\n"
     ]
    },
    {
     "name": "stderr",
     "output_type": "stream",
     "text": [
      "Epoch [16/250]: [33/33] 100%|██████████, batch loss=2.74 [01:22<00:00]\n"
     ]
    },
    {
     "name": "stdout",
     "output_type": "stream",
     "text": [
      "Validation Results - Epoch: 16 | Avg accuracy: 0.23 | Avg loss: 2.60\n"
     ]
    },
    {
     "name": "stderr",
     "output_type": "stream",
     "text": [
      "Epoch [17/250]: [33/33] 100%|██████████, batch loss=2.72 [01:22<00:00]\n"
     ]
    },
    {
     "name": "stdout",
     "output_type": "stream",
     "text": [
      "Validation Results - Epoch: 17 | Avg accuracy: 0.26 | Avg loss: 2.51\n"
     ]
    },
    {
     "name": "stderr",
     "output_type": "stream",
     "text": [
      "Epoch [18/250]: [33/33] 100%|██████████, batch loss=2.61 [01:22<00:00]\n"
     ]
    },
    {
     "name": "stdout",
     "output_type": "stream",
     "text": [
      "Validation Results - Epoch: 18 | Avg accuracy: 0.26 | Avg loss: 2.50\n"
     ]
    },
    {
     "name": "stderr",
     "output_type": "stream",
     "text": [
      "Epoch [19/250]: [33/33] 100%|██████████, batch loss=2.77 [01:22<00:00]\n"
     ]
    },
    {
     "name": "stdout",
     "output_type": "stream",
     "text": [
      "Validation Results - Epoch: 19 | Avg accuracy: 0.24 | Avg loss: 2.56\n"
     ]
    },
    {
     "name": "stderr",
     "output_type": "stream",
     "text": [
      "Epoch [20/250]: [33/33] 100%|██████████, batch loss=2.57 [01:22<00:00]\n"
     ]
    },
    {
     "name": "stdout",
     "output_type": "stream",
     "text": [
      "Validation Results - Epoch: 20 | Avg accuracy: 0.30 | Avg loss: 2.44\n"
     ]
    },
    {
     "name": "stderr",
     "output_type": "stream",
     "text": [
      "Epoch [21/250]: [33/33] 100%|██████████, batch loss=2.67 [01:22<00:00]\n"
     ]
    },
    {
     "name": "stdout",
     "output_type": "stream",
     "text": [
      "Validation Results - Epoch: 21 | Avg accuracy: 0.28 | Avg loss: 2.44\n"
     ]
    },
    {
     "name": "stderr",
     "output_type": "stream",
     "text": [
      "Epoch [22/250]: [33/33] 100%|██████████, batch loss=2.47 [01:21<00:00]\n"
     ]
    },
    {
     "name": "stdout",
     "output_type": "stream",
     "text": [
      "Validation Results - Epoch: 22 | Avg accuracy: 0.29 | Avg loss: 2.41\n"
     ]
    },
    {
     "name": "stderr",
     "output_type": "stream",
     "text": [
      "Epoch [23/250]: [33/33] 100%|██████████, batch loss=2.6 [01:21<00:00] \n"
     ]
    },
    {
     "name": "stdout",
     "output_type": "stream",
     "text": [
      "Validation Results - Epoch: 23 | Avg accuracy: 0.34 | Avg loss: 2.33\n"
     ]
    },
    {
     "name": "stderr",
     "output_type": "stream",
     "text": [
      "Epoch [24/250]: [33/33] 100%|██████████, batch loss=2.52 [01:21<00:00]\n"
     ]
    },
    {
     "name": "stdout",
     "output_type": "stream",
     "text": [
      "Validation Results - Epoch: 24 | Avg accuracy: 0.31 | Avg loss: 2.37\n"
     ]
    },
    {
     "name": "stderr",
     "output_type": "stream",
     "text": [
      "Epoch [25/250]: [33/33] 100%|██████████, batch loss=2.48 [01:22<00:00]\n"
     ]
    },
    {
     "name": "stdout",
     "output_type": "stream",
     "text": [
      "Validation Results - Epoch: 25 | Avg accuracy: 0.36 | Avg loss: 2.26\n"
     ]
    },
    {
     "name": "stderr",
     "output_type": "stream",
     "text": [
      "Epoch [26/250]: [33/33] 100%|██████████, batch loss=2.44 [01:21<00:00]\n"
     ]
    },
    {
     "name": "stdout",
     "output_type": "stream",
     "text": [
      "Validation Results - Epoch: 26 | Avg accuracy: 0.35 | Avg loss: 2.25\n"
     ]
    },
    {
     "name": "stderr",
     "output_type": "stream",
     "text": [
      "Epoch [27/250]: [33/33] 100%|██████████, batch loss=2.41 [01:21<00:00]\n"
     ]
    },
    {
     "name": "stdout",
     "output_type": "stream",
     "text": [
      "Validation Results - Epoch: 27 | Avg accuracy: 0.32 | Avg loss: 2.35\n"
     ]
    },
    {
     "name": "stderr",
     "output_type": "stream",
     "text": [
      "Epoch [28/250]: [33/33] 100%|██████████, batch loss=2.45 [01:21<00:00]\n"
     ]
    },
    {
     "name": "stdout",
     "output_type": "stream",
     "text": [
      "Validation Results - Epoch: 28 | Avg accuracy: 0.35 | Avg loss: 2.23\n"
     ]
    },
    {
     "name": "stderr",
     "output_type": "stream",
     "text": [
      "Epoch [29/250]: [33/33] 100%|██████████, batch loss=2.48 [01:21<00:00]\n"
     ]
    },
    {
     "name": "stdout",
     "output_type": "stream",
     "text": [
      "Validation Results - Epoch: 29 | Avg accuracy: 0.36 | Avg loss: 2.25\n"
     ]
    },
    {
     "name": "stderr",
     "output_type": "stream",
     "text": [
      "Epoch [30/250]: [33/33] 100%|██████████, batch loss=2.35 [01:20<00:00]\n"
     ]
    },
    {
     "name": "stdout",
     "output_type": "stream",
     "text": [
      "Validation Results - Epoch: 30 | Avg accuracy: 0.35 | Avg loss: 2.23\n"
     ]
    },
    {
     "name": "stderr",
     "output_type": "stream",
     "text": [
      "Epoch [31/250]: [33/33] 100%|██████████, batch loss=2.38 [01:21<00:00]\n"
     ]
    },
    {
     "name": "stdout",
     "output_type": "stream",
     "text": [
      "Validation Results - Epoch: 31 | Avg accuracy: 0.35 | Avg loss: 2.25\n"
     ]
    },
    {
     "name": "stderr",
     "output_type": "stream",
     "text": [
      "Epoch [32/250]: [33/33] 100%|██████████, batch loss=2.41 [01:21<00:00]\n"
     ]
    },
    {
     "name": "stdout",
     "output_type": "stream",
     "text": [
      "Validation Results - Epoch: 32 | Avg accuracy: 0.38 | Avg loss: 2.14\n"
     ]
    },
    {
     "name": "stderr",
     "output_type": "stream",
     "text": [
      "Epoch [33/250]: [33/33] 100%|██████████, batch loss=2.38 [01:21<00:00]\n"
     ]
    },
    {
     "name": "stdout",
     "output_type": "stream",
     "text": [
      "Validation Results - Epoch: 33 | Avg accuracy: 0.37 | Avg loss: 2.16\n"
     ]
    },
    {
     "name": "stderr",
     "output_type": "stream",
     "text": [
      "Epoch [34/250]: [33/33] 100%|██████████, batch loss=2.38 [01:21<00:00]\n"
     ]
    },
    {
     "name": "stdout",
     "output_type": "stream",
     "text": [
      "Validation Results - Epoch: 34 | Avg accuracy: 0.39 | Avg loss: 2.13\n"
     ]
    },
    {
     "name": "stderr",
     "output_type": "stream",
     "text": [
      "Epoch [35/250]: [33/33] 100%|██████████, batch loss=2.34 [01:21<00:00]\n"
     ]
    },
    {
     "name": "stdout",
     "output_type": "stream",
     "text": [
      "Validation Results - Epoch: 35 | Avg accuracy: 0.39 | Avg loss: 2.17\n"
     ]
    },
    {
     "name": "stderr",
     "output_type": "stream",
     "text": [
      "Epoch [36/250]: [33/33] 100%|██████████, batch loss=2.46 [01:20<00:00]\n"
     ]
    },
    {
     "name": "stdout",
     "output_type": "stream",
     "text": [
      "Validation Results - Epoch: 36 | Avg accuracy: 0.40 | Avg loss: 2.11\n"
     ]
    },
    {
     "name": "stderr",
     "output_type": "stream",
     "text": [
      "Epoch [37/250]: [33/33] 100%|██████████, batch loss=2.32 [01:20<00:00]\n"
     ]
    },
    {
     "name": "stdout",
     "output_type": "stream",
     "text": [
      "Validation Results - Epoch: 37 | Avg accuracy: 0.41 | Avg loss: 2.12\n"
     ]
    },
    {
     "name": "stderr",
     "output_type": "stream",
     "text": [
      "Epoch [38/250]: [33/33] 100%|██████████, batch loss=2.25 [01:21<00:00]\n"
     ]
    },
    {
     "name": "stdout",
     "output_type": "stream",
     "text": [
      "Validation Results - Epoch: 38 | Avg accuracy: 0.41 | Avg loss: 2.06\n"
     ]
    },
    {
     "name": "stderr",
     "output_type": "stream",
     "text": [
      "Epoch [39/250]: [33/33] 100%|██████████, batch loss=2.34 [01:21<00:00]\n"
     ]
    },
    {
     "name": "stdout",
     "output_type": "stream",
     "text": [
      "Validation Results - Epoch: 39 | Avg accuracy: 0.39 | Avg loss: 2.09\n"
     ]
    },
    {
     "name": "stderr",
     "output_type": "stream",
     "text": [
      "Epoch [40/250]: [33/33] 100%|██████████, batch loss=2.31 [01:21<00:00]\n"
     ]
    },
    {
     "name": "stdout",
     "output_type": "stream",
     "text": [
      "Validation Results - Epoch: 40 | Avg accuracy: 0.42 | Avg loss: 2.04\n"
     ]
    },
    {
     "name": "stderr",
     "output_type": "stream",
     "text": [
      "Epoch [41/250]: [33/33] 100%|██████████, batch loss=2.2 [01:21<00:00] \n"
     ]
    },
    {
     "name": "stdout",
     "output_type": "stream",
     "text": [
      "Validation Results - Epoch: 41 | Avg accuracy: 0.43 | Avg loss: 2.03\n"
     ]
    },
    {
     "name": "stderr",
     "output_type": "stream",
     "text": [
      "Epoch [42/250]: [33/33] 100%|██████████, batch loss=2.33 [01:21<00:00]\n"
     ]
    },
    {
     "name": "stdout",
     "output_type": "stream",
     "text": [
      "Validation Results - Epoch: 42 | Avg accuracy: 0.42 | Avg loss: 2.06\n"
     ]
    },
    {
     "name": "stderr",
     "output_type": "stream",
     "text": [
      "Epoch [43/250]: [33/33] 100%|██████████, batch loss=2.44 [01:20<00:00]\n"
     ]
    },
    {
     "name": "stdout",
     "output_type": "stream",
     "text": [
      "Validation Results - Epoch: 43 | Avg accuracy: 0.42 | Avg loss: 2.06\n"
     ]
    },
    {
     "name": "stderr",
     "output_type": "stream",
     "text": [
      "Epoch [44/250]: [33/33] 100%|██████████, batch loss=2.28 [01:21<00:00]\n"
     ]
    },
    {
     "name": "stdout",
     "output_type": "stream",
     "text": [
      "Validation Results - Epoch: 44 | Avg accuracy: 0.45 | Avg loss: 2.01\n"
     ]
    },
    {
     "name": "stderr",
     "output_type": "stream",
     "text": [
      "Epoch [45/250]: [33/33] 100%|██████████, batch loss=2.4 [01:21<00:00] \n"
     ]
    },
    {
     "name": "stdout",
     "output_type": "stream",
     "text": [
      "Validation Results - Epoch: 45 | Avg accuracy: 0.43 | Avg loss: 2.02\n"
     ]
    },
    {
     "name": "stderr",
     "output_type": "stream",
     "text": [
      "Epoch [46/250]: [33/33] 100%|██████████, batch loss=2.23 [01:21<00:00]\n"
     ]
    },
    {
     "name": "stdout",
     "output_type": "stream",
     "text": [
      "Validation Results - Epoch: 46 | Avg accuracy: 0.44 | Avg loss: 1.99\n"
     ]
    },
    {
     "name": "stderr",
     "output_type": "stream",
     "text": [
      "Epoch [47/250]: [33/33] 100%|██████████, batch loss=2.3 [01:21<00:00] \n"
     ]
    },
    {
     "name": "stdout",
     "output_type": "stream",
     "text": [
      "Validation Results - Epoch: 47 | Avg accuracy: 0.44 | Avg loss: 2.04\n"
     ]
    },
    {
     "name": "stderr",
     "output_type": "stream",
     "text": [
      "Epoch [48/250]: [33/33] 100%|██████████, batch loss=2.3 [01:21<00:00] \n"
     ]
    },
    {
     "name": "stdout",
     "output_type": "stream",
     "text": [
      "Validation Results - Epoch: 48 | Avg accuracy: 0.43 | Avg loss: 2.07\n"
     ]
    },
    {
     "name": "stderr",
     "output_type": "stream",
     "text": [
      "Epoch [49/250]: [33/33] 100%|██████████, batch loss=2.2 [01:21<00:00] \n"
     ]
    },
    {
     "name": "stdout",
     "output_type": "stream",
     "text": [
      "Validation Results - Epoch: 49 | Avg accuracy: 0.44 | Avg loss: 1.98\n"
     ]
    },
    {
     "name": "stderr",
     "output_type": "stream",
     "text": [
      "Epoch [50/250]: [33/33] 100%|██████████, batch loss=2.16 [01:21<00:00]\n"
     ]
    },
    {
     "name": "stdout",
     "output_type": "stream",
     "text": [
      "Validation Results - Epoch: 50 | Avg accuracy: 0.45 | Avg loss: 1.97\n"
     ]
    },
    {
     "name": "stderr",
     "output_type": "stream",
     "text": [
      "Epoch [51/250]: [33/33] 100%|██████████, batch loss=2.18 [01:21<00:00]\n"
     ]
    },
    {
     "name": "stdout",
     "output_type": "stream",
     "text": [
      "Validation Results - Epoch: 51 | Avg accuracy: 0.47 | Avg loss: 1.90\n"
     ]
    },
    {
     "name": "stderr",
     "output_type": "stream",
     "text": [
      "Epoch [52/250]: [33/33] 100%|██████████, batch loss=2.15 [01:21<00:00]\n"
     ]
    },
    {
     "name": "stdout",
     "output_type": "stream",
     "text": [
      "Validation Results - Epoch: 52 | Avg accuracy: 0.47 | Avg loss: 1.90\n"
     ]
    },
    {
     "name": "stderr",
     "output_type": "stream",
     "text": [
      "Epoch [53/250]: [33/33] 100%|██████████, batch loss=2.13 [01:21<00:00]\n"
     ]
    },
    {
     "name": "stdout",
     "output_type": "stream",
     "text": [
      "Validation Results - Epoch: 53 | Avg accuracy: 0.46 | Avg loss: 1.94\n"
     ]
    },
    {
     "name": "stderr",
     "output_type": "stream",
     "text": [
      "Epoch [54/250]: [33/33] 100%|██████████, batch loss=2.08 [01:21<00:00]\n"
     ]
    },
    {
     "name": "stdout",
     "output_type": "stream",
     "text": [
      "Validation Results - Epoch: 54 | Avg accuracy: 0.45 | Avg loss: 1.90\n"
     ]
    },
    {
     "name": "stderr",
     "output_type": "stream",
     "text": [
      "Epoch [55/250]: [33/33] 100%|██████████, batch loss=2.42 [01:21<00:00]\n"
     ]
    },
    {
     "name": "stdout",
     "output_type": "stream",
     "text": [
      "Validation Results - Epoch: 55 | Avg accuracy: 0.44 | Avg loss: 1.91\n"
     ]
    },
    {
     "name": "stderr",
     "output_type": "stream",
     "text": [
      "Epoch [56/250]: [33/33] 100%|██████████, batch loss=2.08 [01:21<00:00]\n"
     ]
    },
    {
     "name": "stdout",
     "output_type": "stream",
     "text": [
      "Validation Results - Epoch: 56 | Avg accuracy: 0.46 | Avg loss: 1.91\n"
     ]
    },
    {
     "name": "stderr",
     "output_type": "stream",
     "text": [
      "Epoch [57/250]: [33/33] 100%|██████████, batch loss=2.15 [01:21<00:00]\n"
     ]
    },
    {
     "name": "stdout",
     "output_type": "stream",
     "text": [
      "Validation Results - Epoch: 57 | Avg accuracy: 0.48 | Avg loss: 1.85\n"
     ]
    },
    {
     "name": "stderr",
     "output_type": "stream",
     "text": [
      "Epoch [58/250]: [33/33] 100%|██████████, batch loss=2.17 [01:20<00:00]\n"
     ]
    },
    {
     "name": "stdout",
     "output_type": "stream",
     "text": [
      "Validation Results - Epoch: 58 | Avg accuracy: 0.49 | Avg loss: 1.87\n"
     ]
    },
    {
     "name": "stderr",
     "output_type": "stream",
     "text": [
      "Epoch [59/250]: [33/33] 100%|██████████, batch loss=2.06 [01:20<00:00]\n"
     ]
    },
    {
     "name": "stdout",
     "output_type": "stream",
     "text": [
      "Validation Results - Epoch: 59 | Avg accuracy: 0.45 | Avg loss: 1.89\n"
     ]
    },
    {
     "name": "stderr",
     "output_type": "stream",
     "text": [
      "Epoch [60/250]: [33/33] 100%|██████████, batch loss=2.05 [01:20<00:00]\n"
     ]
    },
    {
     "name": "stdout",
     "output_type": "stream",
     "text": [
      "Validation Results - Epoch: 60 | Avg accuracy: 0.49 | Avg loss: 1.81\n"
     ]
    },
    {
     "name": "stderr",
     "output_type": "stream",
     "text": [
      "Epoch [61/250]: [33/33] 100%|██████████, batch loss=1.98 [01:20<00:00]\n"
     ]
    },
    {
     "name": "stdout",
     "output_type": "stream",
     "text": [
      "Validation Results - Epoch: 61 | Avg accuracy: 0.49 | Avg loss: 1.81\n"
     ]
    },
    {
     "name": "stderr",
     "output_type": "stream",
     "text": [
      "Epoch [62/250]: [33/33] 100%|██████████, batch loss=2.09 [01:20<00:00]\n"
     ]
    },
    {
     "name": "stdout",
     "output_type": "stream",
     "text": [
      "Validation Results - Epoch: 62 | Avg accuracy: 0.47 | Avg loss: 1.82\n"
     ]
    },
    {
     "name": "stderr",
     "output_type": "stream",
     "text": [
      "Epoch [63/250]: [33/33] 100%|██████████, batch loss=2.12 [01:20<00:00]\n"
     ]
    },
    {
     "name": "stdout",
     "output_type": "stream",
     "text": [
      "Validation Results - Epoch: 63 | Avg accuracy: 0.51 | Avg loss: 1.79\n"
     ]
    },
    {
     "name": "stderr",
     "output_type": "stream",
     "text": [
      "Epoch [64/250]: [33/33] 100%|██████████, batch loss=2.02 [01:20<00:00]\n"
     ]
    },
    {
     "name": "stdout",
     "output_type": "stream",
     "text": [
      "Validation Results - Epoch: 64 | Avg accuracy: 0.48 | Avg loss: 1.81\n"
     ]
    },
    {
     "name": "stderr",
     "output_type": "stream",
     "text": [
      "Epoch [65/250]: [33/33] 100%|██████████, batch loss=2.02 [01:20<00:00]\n"
     ]
    },
    {
     "name": "stdout",
     "output_type": "stream",
     "text": [
      "Validation Results - Epoch: 65 | Avg accuracy: 0.49 | Avg loss: 1.81\n"
     ]
    },
    {
     "name": "stderr",
     "output_type": "stream",
     "text": [
      "Epoch [66/250]: [33/33] 100%|██████████, batch loss=2.01 [01:20<00:00]\n"
     ]
    },
    {
     "name": "stdout",
     "output_type": "stream",
     "text": [
      "Validation Results - Epoch: 66 | Avg accuracy: 0.51 | Avg loss: 1.76\n"
     ]
    },
    {
     "name": "stderr",
     "output_type": "stream",
     "text": [
      "Epoch [67/250]: [33/33] 100%|██████████, batch loss=1.91 [01:20<00:00]\n"
     ]
    },
    {
     "name": "stdout",
     "output_type": "stream",
     "text": [
      "Validation Results - Epoch: 67 | Avg accuracy: 0.52 | Avg loss: 1.74\n"
     ]
    },
    {
     "name": "stderr",
     "output_type": "stream",
     "text": [
      "Epoch [68/250]: [33/33] 100%|██████████, batch loss=1.91 [01:21<00:00]\n"
     ]
    },
    {
     "name": "stdout",
     "output_type": "stream",
     "text": [
      "Validation Results - Epoch: 68 | Avg accuracy: 0.50 | Avg loss: 1.73\n"
     ]
    },
    {
     "name": "stderr",
     "output_type": "stream",
     "text": [
      "Epoch [69/250]: [33/33] 100%|██████████, batch loss=1.93 [01:20<00:00]\n"
     ]
    },
    {
     "name": "stdout",
     "output_type": "stream",
     "text": [
      "Validation Results - Epoch: 69 | Avg accuracy: 0.53 | Avg loss: 1.76\n"
     ]
    },
    {
     "name": "stderr",
     "output_type": "stream",
     "text": [
      "Epoch [70/250]: [33/33] 100%|██████████, batch loss=1.96 [01:20<00:00]\n"
     ]
    },
    {
     "name": "stdout",
     "output_type": "stream",
     "text": [
      "Validation Results - Epoch: 70 | Avg accuracy: 0.52 | Avg loss: 1.71\n"
     ]
    },
    {
     "name": "stderr",
     "output_type": "stream",
     "text": [
      "Epoch [71/250]: [33/33] 100%|██████████, batch loss=1.86 [01:20<00:00]\n"
     ]
    },
    {
     "name": "stdout",
     "output_type": "stream",
     "text": [
      "Validation Results - Epoch: 71 | Avg accuracy: 0.52 | Avg loss: 1.70\n"
     ]
    },
    {
     "name": "stderr",
     "output_type": "stream",
     "text": [
      "Epoch [72/250]: [33/33] 100%|██████████, batch loss=1.97 [01:20<00:00]\n"
     ]
    },
    {
     "name": "stdout",
     "output_type": "stream",
     "text": [
      "Validation Results - Epoch: 72 | Avg accuracy: 0.53 | Avg loss: 1.71\n"
     ]
    },
    {
     "name": "stderr",
     "output_type": "stream",
     "text": [
      "Epoch [73/250]: [33/33] 100%|██████████, batch loss=1.91 [01:20<00:00]\n"
     ]
    },
    {
     "name": "stdout",
     "output_type": "stream",
     "text": [
      "Validation Results - Epoch: 73 | Avg accuracy: 0.51 | Avg loss: 1.68\n"
     ]
    },
    {
     "name": "stderr",
     "output_type": "stream",
     "text": [
      "Epoch [74/250]: [33/33] 100%|██████████, batch loss=1.92 [01:20<00:00]\n"
     ]
    },
    {
     "name": "stdout",
     "output_type": "stream",
     "text": [
      "Validation Results - Epoch: 74 | Avg accuracy: 0.51 | Avg loss: 1.74\n"
     ]
    },
    {
     "name": "stderr",
     "output_type": "stream",
     "text": [
      "Epoch [75/250]: [33/33] 100%|██████████, batch loss=1.88 [01:20<00:00]\n"
     ]
    },
    {
     "name": "stdout",
     "output_type": "stream",
     "text": [
      "Validation Results - Epoch: 75 | Avg accuracy: 0.52 | Avg loss: 1.70\n"
     ]
    },
    {
     "name": "stderr",
     "output_type": "stream",
     "text": [
      "Epoch [76/250]: [33/33] 100%|██████████, batch loss=1.9 [01:20<00:00] \n"
     ]
    },
    {
     "name": "stdout",
     "output_type": "stream",
     "text": [
      "Validation Results - Epoch: 76 | Avg accuracy: 0.54 | Avg loss: 1.67\n"
     ]
    },
    {
     "name": "stderr",
     "output_type": "stream",
     "text": [
      "Epoch [77/250]: [33/33] 100%|██████████, batch loss=1.9 [01:20<00:00] \n"
     ]
    },
    {
     "name": "stdout",
     "output_type": "stream",
     "text": [
      "Validation Results - Epoch: 77 | Avg accuracy: 0.53 | Avg loss: 1.63\n"
     ]
    },
    {
     "name": "stderr",
     "output_type": "stream",
     "text": [
      "Epoch [78/250]: [33/33] 100%|██████████, batch loss=1.89 [01:21<00:00]\n"
     ]
    },
    {
     "name": "stdout",
     "output_type": "stream",
     "text": [
      "Validation Results - Epoch: 78 | Avg accuracy: 0.52 | Avg loss: 1.73\n"
     ]
    },
    {
     "name": "stderr",
     "output_type": "stream",
     "text": [
      "Epoch [79/250]: [33/33] 100%|██████████, batch loss=1.97 [01:20<00:00]\n"
     ]
    },
    {
     "name": "stdout",
     "output_type": "stream",
     "text": [
      "Validation Results - Epoch: 79 | Avg accuracy: 0.52 | Avg loss: 1.70\n"
     ]
    },
    {
     "name": "stderr",
     "output_type": "stream",
     "text": [
      "Epoch [80/250]: [33/33] 100%|██████████, batch loss=1.74 [01:21<00:00]\n"
     ]
    },
    {
     "name": "stdout",
     "output_type": "stream",
     "text": [
      "Validation Results - Epoch: 80 | Avg accuracy: 0.52 | Avg loss: 1.67\n"
     ]
    },
    {
     "name": "stderr",
     "output_type": "stream",
     "text": [
      "Epoch [81/250]: [33/33] 100%|██████████, batch loss=1.87 [01:21<00:00]\n"
     ]
    },
    {
     "name": "stdout",
     "output_type": "stream",
     "text": [
      "Validation Results - Epoch: 81 | Avg accuracy: 0.53 | Avg loss: 1.71\n"
     ]
    },
    {
     "name": "stderr",
     "output_type": "stream",
     "text": [
      "Epoch [82/250]: [33/33] 100%|██████████, batch loss=1.77 [01:20<00:00]\n"
     ]
    },
    {
     "name": "stdout",
     "output_type": "stream",
     "text": [
      "Validation Results - Epoch: 82 | Avg accuracy: 0.52 | Avg loss: 1.64\n"
     ]
    },
    {
     "name": "stderr",
     "output_type": "stream",
     "text": [
      "Epoch [83/250]: [33/33] 100%|██████████, batch loss=1.8 [01:20<00:00] \n"
     ]
    },
    {
     "name": "stdout",
     "output_type": "stream",
     "text": [
      "Validation Results - Epoch: 83 | Avg accuracy: 0.53 | Avg loss: 1.64\n"
     ]
    },
    {
     "name": "stderr",
     "output_type": "stream",
     "text": [
      "Epoch [84/250]: [33/33] 100%|██████████, batch loss=1.7 [01:21<00:00] \n"
     ]
    },
    {
     "name": "stdout",
     "output_type": "stream",
     "text": [
      "Validation Results - Epoch: 84 | Avg accuracy: 0.54 | Avg loss: 1.64\n"
     ]
    },
    {
     "name": "stderr",
     "output_type": "stream",
     "text": [
      "Epoch [85/250]: [33/33] 100%|██████████, batch loss=1.86 [01:20<00:00]\n"
     ]
    },
    {
     "name": "stdout",
     "output_type": "stream",
     "text": [
      "Validation Results - Epoch: 85 | Avg accuracy: 0.54 | Avg loss: 1.62\n"
     ]
    },
    {
     "name": "stderr",
     "output_type": "stream",
     "text": [
      "Epoch [86/250]: [33/33] 100%|██████████, batch loss=1.77 [01:20<00:00]\n"
     ]
    },
    {
     "name": "stdout",
     "output_type": "stream",
     "text": [
      "Validation Results - Epoch: 86 | Avg accuracy: 0.56 | Avg loss: 1.58\n"
     ]
    },
    {
     "name": "stderr",
     "output_type": "stream",
     "text": [
      "Epoch [87/250]: [33/33] 100%|██████████, batch loss=1.74 [01:20<00:00]\n"
     ]
    },
    {
     "name": "stdout",
     "output_type": "stream",
     "text": [
      "Validation Results - Epoch: 87 | Avg accuracy: 0.58 | Avg loss: 1.56\n"
     ]
    },
    {
     "name": "stderr",
     "output_type": "stream",
     "text": [
      "Epoch [88/250]: [33/33] 100%|██████████, batch loss=1.72 [01:20<00:00]\n"
     ]
    },
    {
     "name": "stdout",
     "output_type": "stream",
     "text": [
      "Validation Results - Epoch: 88 | Avg accuracy: 0.57 | Avg loss: 1.53\n"
     ]
    },
    {
     "name": "stderr",
     "output_type": "stream",
     "text": [
      "Epoch [89/250]: [33/33] 100%|██████████, batch loss=1.74 [01:21<00:00]\n"
     ]
    },
    {
     "name": "stdout",
     "output_type": "stream",
     "text": [
      "Validation Results - Epoch: 89 | Avg accuracy: 0.57 | Avg loss: 1.53\n"
     ]
    },
    {
     "name": "stderr",
     "output_type": "stream",
     "text": [
      "Epoch [90/250]: [33/33] 100%|██████████, batch loss=1.67 [01:20<00:00]\n"
     ]
    },
    {
     "name": "stdout",
     "output_type": "stream",
     "text": [
      "Validation Results - Epoch: 90 | Avg accuracy: 0.56 | Avg loss: 1.54\n"
     ]
    },
    {
     "name": "stderr",
     "output_type": "stream",
     "text": [
      "Epoch [91/250]: [33/33] 100%|██████████, batch loss=1.86 [01:20<00:00]\n"
     ]
    },
    {
     "name": "stdout",
     "output_type": "stream",
     "text": [
      "Validation Results - Epoch: 91 | Avg accuracy: 0.55 | Avg loss: 1.56\n"
     ]
    },
    {
     "name": "stderr",
     "output_type": "stream",
     "text": [
      "Epoch [92/250]: [33/33] 100%|██████████, batch loss=1.82 [01:21<00:00]\n"
     ]
    },
    {
     "name": "stdout",
     "output_type": "stream",
     "text": [
      "Validation Results - Epoch: 92 | Avg accuracy: 0.58 | Avg loss: 1.53\n"
     ]
    },
    {
     "name": "stderr",
     "output_type": "stream",
     "text": [
      "Epoch [93/250]: [33/33] 100%|██████████, batch loss=1.83 [01:20<00:00]\n"
     ]
    },
    {
     "name": "stdout",
     "output_type": "stream",
     "text": [
      "Validation Results - Epoch: 93 | Avg accuracy: 0.57 | Avg loss: 1.55\n"
     ]
    },
    {
     "name": "stderr",
     "output_type": "stream",
     "text": [
      "Epoch [94/250]: [33/33] 100%|██████████, batch loss=1.64 [01:20<00:00]\n"
     ]
    },
    {
     "name": "stdout",
     "output_type": "stream",
     "text": [
      "Validation Results - Epoch: 94 | Avg accuracy: 0.56 | Avg loss: 1.54\n"
     ]
    },
    {
     "name": "stderr",
     "output_type": "stream",
     "text": [
      "Epoch [95/250]: [33/33] 100%|██████████, batch loss=1.73 [01:21<00:00]\n"
     ]
    },
    {
     "name": "stdout",
     "output_type": "stream",
     "text": [
      "Validation Results - Epoch: 95 | Avg accuracy: 0.57 | Avg loss: 1.49\n"
     ]
    },
    {
     "name": "stderr",
     "output_type": "stream",
     "text": [
      "Epoch [96/250]: [33/33] 100%|██████████, batch loss=1.65 [01:20<00:00]\n"
     ]
    },
    {
     "name": "stdout",
     "output_type": "stream",
     "text": [
      "Validation Results - Epoch: 96 | Avg accuracy: 0.57 | Avg loss: 1.54\n"
     ]
    },
    {
     "name": "stderr",
     "output_type": "stream",
     "text": [
      "Epoch [97/250]: [33/33] 100%|██████████, batch loss=1.54 [01:21<00:00]\n"
     ]
    },
    {
     "name": "stdout",
     "output_type": "stream",
     "text": [
      "Validation Results - Epoch: 97 | Avg accuracy: 0.59 | Avg loss: 1.49\n"
     ]
    },
    {
     "name": "stderr",
     "output_type": "stream",
     "text": [
      "Epoch [98/250]: [33/33] 100%|██████████, batch loss=1.68 [01:20<00:00]\n"
     ]
    },
    {
     "name": "stdout",
     "output_type": "stream",
     "text": [
      "Validation Results - Epoch: 98 | Avg accuracy: 0.56 | Avg loss: 1.52\n"
     ]
    },
    {
     "name": "stderr",
     "output_type": "stream",
     "text": [
      "Epoch [99/250]: [33/33] 100%|██████████, batch loss=1.69 [01:20<00:00]\n"
     ]
    },
    {
     "name": "stdout",
     "output_type": "stream",
     "text": [
      "Validation Results - Epoch: 99 | Avg accuracy: 0.57 | Avg loss: 1.53\n"
     ]
    },
    {
     "name": "stderr",
     "output_type": "stream",
     "text": [
      "Epoch [100/250]: [33/33] 100%|██████████, batch loss=1.65 [01:21<00:00]\n"
     ]
    },
    {
     "name": "stdout",
     "output_type": "stream",
     "text": [
      "Validation Results - Epoch: 100 | Avg accuracy: 0.59 | Avg loss: 1.50\n"
     ]
    },
    {
     "name": "stderr",
     "output_type": "stream",
     "text": [
      "Epoch [101/250]: [33/33] 100%|██████████, batch loss=1.8 [01:20<00:00] \n"
     ]
    },
    {
     "name": "stdout",
     "output_type": "stream",
     "text": [
      "Validation Results - Epoch: 101 | Avg accuracy: 0.57 | Avg loss: 1.49\n"
     ]
    },
    {
     "name": "stderr",
     "output_type": "stream",
     "text": [
      "Epoch [102/250]: [33/33] 100%|██████████, batch loss=1.62 [01:21<00:00]\n"
     ]
    },
    {
     "name": "stdout",
     "output_type": "stream",
     "text": [
      "Validation Results - Epoch: 102 | Avg accuracy: 0.59 | Avg loss: 1.47\n"
     ]
    },
    {
     "name": "stderr",
     "output_type": "stream",
     "text": [
      "Epoch [103/250]: [33/33] 100%|██████████, batch loss=1.56 [01:20<00:00]\n"
     ]
    },
    {
     "name": "stdout",
     "output_type": "stream",
     "text": [
      "Validation Results - Epoch: 103 | Avg accuracy: 0.58 | Avg loss: 1.50\n"
     ]
    },
    {
     "name": "stderr",
     "output_type": "stream",
     "text": [
      "Epoch [104/250]: [33/33] 100%|██████████, batch loss=1.52 [01:20<00:00]\n"
     ]
    },
    {
     "name": "stdout",
     "output_type": "stream",
     "text": [
      "Validation Results - Epoch: 104 | Avg accuracy: 0.59 | Avg loss: 1.47\n"
     ]
    },
    {
     "name": "stderr",
     "output_type": "stream",
     "text": [
      "Epoch [105/250]: [33/33] 100%|██████████, batch loss=1.65 [01:21<00:00]\n"
     ]
    },
    {
     "name": "stdout",
     "output_type": "stream",
     "text": [
      "Validation Results - Epoch: 105 | Avg accuracy: 0.58 | Avg loss: 1.47\n"
     ]
    },
    {
     "name": "stderr",
     "output_type": "stream",
     "text": [
      "Epoch [106/250]: [33/33] 100%|██████████, batch loss=1.58 [01:21<00:00]\n"
     ]
    },
    {
     "name": "stdout",
     "output_type": "stream",
     "text": [
      "Validation Results - Epoch: 106 | Avg accuracy: 0.57 | Avg loss: 1.48\n"
     ]
    },
    {
     "name": "stderr",
     "output_type": "stream",
     "text": [
      "Epoch [107/250]: [33/33] 100%|██████████, batch loss=1.5 [01:20<00:00] \n"
     ]
    },
    {
     "name": "stdout",
     "output_type": "stream",
     "text": [
      "Validation Results - Epoch: 107 | Avg accuracy: 0.58 | Avg loss: 1.44\n"
     ]
    },
    {
     "name": "stderr",
     "output_type": "stream",
     "text": [
      "Epoch [108/250]: [33/33] 100%|██████████, batch loss=1.59 [01:21<00:00]\n"
     ]
    },
    {
     "name": "stdout",
     "output_type": "stream",
     "text": [
      "Validation Results - Epoch: 108 | Avg accuracy: 0.59 | Avg loss: 1.44\n"
     ]
    },
    {
     "name": "stderr",
     "output_type": "stream",
     "text": [
      "Epoch [109/250]: [33/33] 100%|██████████, batch loss=1.54 [01:20<00:00]\n"
     ]
    },
    {
     "name": "stdout",
     "output_type": "stream",
     "text": [
      "Validation Results - Epoch: 109 | Avg accuracy: 0.61 | Avg loss: 1.42\n"
     ]
    },
    {
     "name": "stderr",
     "output_type": "stream",
     "text": [
      "Epoch [110/250]: [33/33] 100%|██████████, batch loss=1.56 [01:20<00:00]\n"
     ]
    },
    {
     "name": "stdout",
     "output_type": "stream",
     "text": [
      "Validation Results - Epoch: 110 | Avg accuracy: 0.59 | Avg loss: 1.43\n"
     ]
    },
    {
     "name": "stderr",
     "output_type": "stream",
     "text": [
      "Epoch [111/250]: [33/33] 100%|██████████, batch loss=1.66 [01:20<00:00]\n"
     ]
    },
    {
     "name": "stdout",
     "output_type": "stream",
     "text": [
      "Validation Results - Epoch: 111 | Avg accuracy: 0.61 | Avg loss: 1.40\n"
     ]
    },
    {
     "name": "stderr",
     "output_type": "stream",
     "text": [
      "Epoch [112/250]: [33/33] 100%|██████████, batch loss=1.62 [01:20<00:00]\n"
     ]
    },
    {
     "name": "stdout",
     "output_type": "stream",
     "text": [
      "Validation Results - Epoch: 112 | Avg accuracy: 0.59 | Avg loss: 1.41\n"
     ]
    },
    {
     "name": "stderr",
     "output_type": "stream",
     "text": [
      "Epoch [113/250]: [33/33] 100%|██████████, batch loss=1.47 [01:21<00:00]\n"
     ]
    },
    {
     "name": "stdout",
     "output_type": "stream",
     "text": [
      "Validation Results - Epoch: 113 | Avg accuracy: 0.62 | Avg loss: 1.36\n"
     ]
    },
    {
     "name": "stderr",
     "output_type": "stream",
     "text": [
      "Epoch [114/250]: [33/33] 100%|██████████, batch loss=1.72 [01:20<00:00]\n"
     ]
    },
    {
     "name": "stdout",
     "output_type": "stream",
     "text": [
      "Validation Results - Epoch: 114 | Avg accuracy: 0.61 | Avg loss: 1.40\n"
     ]
    },
    {
     "name": "stderr",
     "output_type": "stream",
     "text": [
      "Epoch [115/250]: [33/33] 100%|██████████, batch loss=1.46 [01:20<00:00]\n"
     ]
    },
    {
     "name": "stdout",
     "output_type": "stream",
     "text": [
      "Validation Results - Epoch: 115 | Avg accuracy: 0.61 | Avg loss: 1.40\n"
     ]
    },
    {
     "name": "stderr",
     "output_type": "stream",
     "text": [
      "Epoch [116/250]: [33/33] 100%|██████████, batch loss=1.62 [01:21<00:00]\n"
     ]
    },
    {
     "name": "stdout",
     "output_type": "stream",
     "text": [
      "Validation Results - Epoch: 116 | Avg accuracy: 0.60 | Avg loss: 1.41\n"
     ]
    },
    {
     "name": "stderr",
     "output_type": "stream",
     "text": [
      "Epoch [117/250]: [33/33] 100%|██████████, batch loss=1.47 [01:20<00:00]\n"
     ]
    },
    {
     "name": "stdout",
     "output_type": "stream",
     "text": [
      "Validation Results - Epoch: 117 | Avg accuracy: 0.60 | Avg loss: 1.40\n"
     ]
    },
    {
     "name": "stderr",
     "output_type": "stream",
     "text": [
      "Epoch [118/250]: [33/33] 100%|██████████, batch loss=1.48 [01:20<00:00]\n"
     ]
    },
    {
     "name": "stdout",
     "output_type": "stream",
     "text": [
      "Validation Results - Epoch: 118 | Avg accuracy: 0.60 | Avg loss: 1.39\n"
     ]
    },
    {
     "name": "stderr",
     "output_type": "stream",
     "text": [
      "Epoch [119/250]: [33/33] 100%|██████████, batch loss=1.47 [01:21<00:00]\n"
     ]
    },
    {
     "name": "stdout",
     "output_type": "stream",
     "text": [
      "Validation Results - Epoch: 119 | Avg accuracy: 0.63 | Avg loss: 1.38\n"
     ]
    },
    {
     "name": "stderr",
     "output_type": "stream",
     "text": [
      "Epoch [120/250]: [33/33] 100%|██████████, batch loss=1.53 [01:20<00:00]\n"
     ]
    },
    {
     "name": "stdout",
     "output_type": "stream",
     "text": [
      "Validation Results - Epoch: 120 | Avg accuracy: 0.62 | Avg loss: 1.39\n"
     ]
    },
    {
     "name": "stderr",
     "output_type": "stream",
     "text": [
      "Epoch [121/250]: [33/33] 100%|██████████, batch loss=1.53 [01:21<00:00]\n"
     ]
    },
    {
     "name": "stdout",
     "output_type": "stream",
     "text": [
      "Validation Results - Epoch: 121 | Avg accuracy: 0.59 | Avg loss: 1.41\n"
     ]
    },
    {
     "name": "stderr",
     "output_type": "stream",
     "text": [
      "Epoch [122/250]: [33/33] 100%|██████████, batch loss=1.57 [01:21<00:00]\n"
     ]
    },
    {
     "name": "stdout",
     "output_type": "stream",
     "text": [
      "Validation Results - Epoch: 122 | Avg accuracy: 0.61 | Avg loss: 1.42\n"
     ]
    },
    {
     "name": "stderr",
     "output_type": "stream",
     "text": [
      "Epoch [123/250]: [33/33] 100%|██████████, batch loss=1.48 [01:21<00:00]\n"
     ]
    },
    {
     "name": "stdout",
     "output_type": "stream",
     "text": [
      "Validation Results - Epoch: 123 | Avg accuracy: 0.62 | Avg loss: 1.37\n"
     ]
    },
    {
     "name": "stderr",
     "output_type": "stream",
     "text": [
      "Epoch [124/250]: [33/33] 100%|██████████, batch loss=1.51 [01:20<00:00]\n"
     ]
    },
    {
     "name": "stdout",
     "output_type": "stream",
     "text": [
      "Validation Results - Epoch: 124 | Avg accuracy: 0.63 | Avg loss: 1.32\n"
     ]
    },
    {
     "name": "stderr",
     "output_type": "stream",
     "text": [
      "Epoch [125/250]: [33/33] 100%|██████████, batch loss=1.42 [01:21<00:00]\n"
     ]
    },
    {
     "name": "stdout",
     "output_type": "stream",
     "text": [
      "Validation Results - Epoch: 125 | Avg accuracy: 0.61 | Avg loss: 1.37\n"
     ]
    },
    {
     "name": "stderr",
     "output_type": "stream",
     "text": [
      "Epoch [126/250]: [33/33] 100%|██████████, batch loss=1.51 [01:20<00:00]\n"
     ]
    },
    {
     "name": "stdout",
     "output_type": "stream",
     "text": [
      "Validation Results - Epoch: 126 | Avg accuracy: 0.61 | Avg loss: 1.39\n"
     ]
    },
    {
     "name": "stderr",
     "output_type": "stream",
     "text": [
      "Epoch [127/250]: [33/33] 100%|██████████, batch loss=1.39 [01:20<00:00]\n"
     ]
    },
    {
     "name": "stdout",
     "output_type": "stream",
     "text": [
      "Validation Results - Epoch: 127 | Avg accuracy: 0.63 | Avg loss: 1.33\n"
     ]
    },
    {
     "name": "stderr",
     "output_type": "stream",
     "text": [
      "Epoch [128/250]: [33/33] 100%|██████████, batch loss=1.56 [01:20<00:00]\n"
     ]
    },
    {
     "name": "stdout",
     "output_type": "stream",
     "text": [
      "Validation Results - Epoch: 128 | Avg accuracy: 0.63 | Avg loss: 1.34\n"
     ]
    },
    {
     "name": "stderr",
     "output_type": "stream",
     "text": [
      "Epoch [129/250]: [33/33] 100%|██████████, batch loss=1.58 [01:21<00:00]\n"
     ]
    },
    {
     "name": "stdout",
     "output_type": "stream",
     "text": [
      "Validation Results - Epoch: 129 | Avg accuracy: 0.62 | Avg loss: 1.37\n"
     ]
    },
    {
     "name": "stderr",
     "output_type": "stream",
     "text": [
      "Epoch [130/250]: [33/33] 100%|██████████, batch loss=1.51 [01:20<00:00]\n"
     ]
    },
    {
     "name": "stdout",
     "output_type": "stream",
     "text": [
      "Validation Results - Epoch: 130 | Avg accuracy: 0.62 | Avg loss: 1.36\n"
     ]
    },
    {
     "name": "stderr",
     "output_type": "stream",
     "text": [
      "Epoch [131/250]: [33/33] 100%|██████████, batch loss=1.43 [01:21<00:00]\n"
     ]
    },
    {
     "name": "stdout",
     "output_type": "stream",
     "text": [
      "Validation Results - Epoch: 131 | Avg accuracy: 0.65 | Avg loss: 1.33\n"
     ]
    },
    {
     "name": "stderr",
     "output_type": "stream",
     "text": [
      "Epoch [132/250]: [33/33] 100%|██████████, batch loss=1.43 [01:20<00:00]\n"
     ]
    },
    {
     "name": "stdout",
     "output_type": "stream",
     "text": [
      "Validation Results - Epoch: 132 | Avg accuracy: 0.63 | Avg loss: 1.30\n"
     ]
    },
    {
     "name": "stderr",
     "output_type": "stream",
     "text": [
      "Epoch [133/250]: [33/33] 100%|██████████, batch loss=1.47 [01:21<00:00]\n"
     ]
    },
    {
     "name": "stdout",
     "output_type": "stream",
     "text": [
      "Validation Results - Epoch: 133 | Avg accuracy: 0.64 | Avg loss: 1.30\n"
     ]
    },
    {
     "name": "stderr",
     "output_type": "stream",
     "text": [
      "Epoch [134/250]: [33/33] 100%|██████████, batch loss=1.41 [01:20<00:00]\n"
     ]
    },
    {
     "name": "stdout",
     "output_type": "stream",
     "text": [
      "Validation Results - Epoch: 134 | Avg accuracy: 0.61 | Avg loss: 1.34\n"
     ]
    },
    {
     "name": "stderr",
     "output_type": "stream",
     "text": [
      "Epoch [135/250]: [33/33] 100%|██████████, batch loss=1.39 [01:20<00:00]\n"
     ]
    },
    {
     "name": "stdout",
     "output_type": "stream",
     "text": [
      "Validation Results - Epoch: 135 | Avg accuracy: 0.64 | Avg loss: 1.30\n"
     ]
    },
    {
     "name": "stderr",
     "output_type": "stream",
     "text": [
      "Epoch [136/250]: [33/33] 100%|██████████, batch loss=1.38 [01:20<00:00]\n"
     ]
    },
    {
     "name": "stdout",
     "output_type": "stream",
     "text": [
      "Validation Results - Epoch: 136 | Avg accuracy: 0.62 | Avg loss: 1.31\n"
     ]
    },
    {
     "name": "stderr",
     "output_type": "stream",
     "text": [
      "Epoch [137/250]: [33/33] 100%|██████████, batch loss=1.45 [01:20<00:00]\n"
     ]
    },
    {
     "name": "stdout",
     "output_type": "stream",
     "text": [
      "Validation Results - Epoch: 137 | Avg accuracy: 0.63 | Avg loss: 1.34\n"
     ]
    },
    {
     "name": "stderr",
     "output_type": "stream",
     "text": [
      "Epoch [138/250]: [33/33] 100%|██████████, batch loss=1.39 [01:20<00:00]\n"
     ]
    },
    {
     "name": "stdout",
     "output_type": "stream",
     "text": [
      "Validation Results - Epoch: 138 | Avg accuracy: 0.65 | Avg loss: 1.28\n"
     ]
    },
    {
     "name": "stderr",
     "output_type": "stream",
     "text": [
      "Epoch [139/250]: [33/33] 100%|██████████, batch loss=1.46 [01:20<00:00]\n"
     ]
    },
    {
     "name": "stdout",
     "output_type": "stream",
     "text": [
      "Validation Results - Epoch: 139 | Avg accuracy: 0.63 | Avg loss: 1.29\n"
     ]
    },
    {
     "name": "stderr",
     "output_type": "stream",
     "text": [
      "Epoch [140/250]: [33/33] 100%|██████████, batch loss=1.36 [01:21<00:00]\n"
     ]
    },
    {
     "name": "stdout",
     "output_type": "stream",
     "text": [
      "Validation Results - Epoch: 140 | Avg accuracy: 0.65 | Avg loss: 1.29\n"
     ]
    },
    {
     "name": "stderr",
     "output_type": "stream",
     "text": [
      "Epoch [141/250]: [33/33] 100%|██████████, batch loss=1.2 [01:20<00:00] \n"
     ]
    },
    {
     "name": "stdout",
     "output_type": "stream",
     "text": [
      "Validation Results - Epoch: 141 | Avg accuracy: 0.63 | Avg loss: 1.28\n"
     ]
    },
    {
     "name": "stderr",
     "output_type": "stream",
     "text": [
      "Epoch [142/250]: [33/33] 100%|██████████, batch loss=1.36 [01:20<00:00]\n"
     ]
    },
    {
     "name": "stdout",
     "output_type": "stream",
     "text": [
      "Validation Results - Epoch: 142 | Avg accuracy: 0.65 | Avg loss: 1.29\n"
     ]
    },
    {
     "name": "stderr",
     "output_type": "stream",
     "text": [
      "Epoch [143/250]: [33/33] 100%|██████████, batch loss=1.3 [01:21<00:00] \n"
     ]
    },
    {
     "name": "stdout",
     "output_type": "stream",
     "text": [
      "Validation Results - Epoch: 143 | Avg accuracy: 0.64 | Avg loss: 1.29\n"
     ]
    },
    {
     "name": "stderr",
     "output_type": "stream",
     "text": [
      "Epoch [144/250]: [33/33] 100%|██████████, batch loss=1.32 [01:21<00:00]\n"
     ]
    },
    {
     "name": "stdout",
     "output_type": "stream",
     "text": [
      "Validation Results - Epoch: 144 | Avg accuracy: 0.65 | Avg loss: 1.27\n"
     ]
    },
    {
     "name": "stderr",
     "output_type": "stream",
     "text": [
      "Epoch [145/250]: [33/33] 100%|██████████, batch loss=1.27 [01:20<00:00]\n"
     ]
    },
    {
     "name": "stdout",
     "output_type": "stream",
     "text": [
      "Validation Results - Epoch: 145 | Avg accuracy: 0.63 | Avg loss: 1.31\n"
     ]
    },
    {
     "name": "stderr",
     "output_type": "stream",
     "text": [
      "Epoch [146/250]: [33/33] 100%|██████████, batch loss=1.28 [01:21<00:00]\n"
     ]
    },
    {
     "name": "stdout",
     "output_type": "stream",
     "text": [
      "Validation Results - Epoch: 146 | Avg accuracy: 0.65 | Avg loss: 1.27\n"
     ]
    },
    {
     "name": "stderr",
     "output_type": "stream",
     "text": [
      "Epoch [147/250]: [33/33] 100%|██████████, batch loss=1.36 [01:20<00:00]\n"
     ]
    },
    {
     "name": "stdout",
     "output_type": "stream",
     "text": [
      "Validation Results - Epoch: 147 | Avg accuracy: 0.64 | Avg loss: 1.30\n"
     ]
    },
    {
     "name": "stderr",
     "output_type": "stream",
     "text": [
      "Epoch [148/250]: [33/33] 100%|██████████, batch loss=1.32 [01:20<00:00]\n"
     ]
    },
    {
     "name": "stdout",
     "output_type": "stream",
     "text": [
      "Validation Results - Epoch: 148 | Avg accuracy: 0.65 | Avg loss: 1.23\n"
     ]
    },
    {
     "name": "stderr",
     "output_type": "stream",
     "text": [
      "Epoch [149/250]: [33/33] 100%|██████████, batch loss=1.33 [01:20<00:00]\n"
     ]
    },
    {
     "name": "stdout",
     "output_type": "stream",
     "text": [
      "Validation Results - Epoch: 149 | Avg accuracy: 0.64 | Avg loss: 1.28\n"
     ]
    },
    {
     "name": "stderr",
     "output_type": "stream",
     "text": [
      "Epoch [150/250]: [33/33] 100%|██████████, batch loss=1.36 [01:20<00:00]\n"
     ]
    },
    {
     "name": "stdout",
     "output_type": "stream",
     "text": [
      "Validation Results - Epoch: 150 | Avg accuracy: 0.63 | Avg loss: 1.32\n"
     ]
    },
    {
     "name": "stderr",
     "output_type": "stream",
     "text": [
      "Epoch [151/250]: [33/33] 100%|██████████, batch loss=1.45 [01:20<00:00]\n"
     ]
    },
    {
     "name": "stdout",
     "output_type": "stream",
     "text": [
      "Validation Results - Epoch: 151 | Avg accuracy: 0.63 | Avg loss: 1.31\n"
     ]
    },
    {
     "name": "stderr",
     "output_type": "stream",
     "text": [
      "Epoch [152/250]: [33/33] 100%|██████████, batch loss=1.35 [01:20<00:00]\n"
     ]
    },
    {
     "name": "stdout",
     "output_type": "stream",
     "text": [
      "Validation Results - Epoch: 152 | Avg accuracy: 0.64 | Avg loss: 1.25\n"
     ]
    },
    {
     "name": "stderr",
     "output_type": "stream",
     "text": [
      "Epoch [153/250]: [33/33] 100%|██████████, batch loss=1.31 [01:21<00:00]\n"
     ]
    },
    {
     "name": "stdout",
     "output_type": "stream",
     "text": [
      "Validation Results - Epoch: 153 | Avg accuracy: 0.64 | Avg loss: 1.26\n"
     ]
    },
    {
     "name": "stderr",
     "output_type": "stream",
     "text": [
      "Epoch [154/250]: [33/33] 100%|██████████, batch loss=1.25 [01:20<00:00]\n"
     ]
    },
    {
     "name": "stdout",
     "output_type": "stream",
     "text": [
      "Validation Results - Epoch: 154 | Avg accuracy: 0.65 | Avg loss: 1.27\n"
     ]
    },
    {
     "name": "stderr",
     "output_type": "stream",
     "text": [
      "Epoch [155/250]: [33/33] 100%|██████████, batch loss=1.47 [01:20<00:00]\n"
     ]
    },
    {
     "name": "stdout",
     "output_type": "stream",
     "text": [
      "Validation Results - Epoch: 155 | Avg accuracy: 0.66 | Avg loss: 1.25\n"
     ]
    },
    {
     "name": "stderr",
     "output_type": "stream",
     "text": [
      "Epoch [156/250]: [33/33] 100%|██████████, batch loss=1.19 [01:20<00:00]\n"
     ]
    },
    {
     "name": "stdout",
     "output_type": "stream",
     "text": [
      "Validation Results - Epoch: 156 | Avg accuracy: 0.64 | Avg loss: 1.26\n"
     ]
    },
    {
     "name": "stderr",
     "output_type": "stream",
     "text": [
      "Epoch [157/250]: [33/33] 100%|██████████, batch loss=1.25 [01:21<00:00]\n"
     ]
    },
    {
     "name": "stdout",
     "output_type": "stream",
     "text": [
      "Validation Results - Epoch: 157 | Avg accuracy: 0.65 | Avg loss: 1.24\n"
     ]
    },
    {
     "name": "stderr",
     "output_type": "stream",
     "text": [
      "Epoch [158/250]: [33/33] 100%|██████████, batch loss=1.3 [01:21<00:00] \n"
     ]
    },
    {
     "name": "stdout",
     "output_type": "stream",
     "text": [
      "Validation Results - Epoch: 158 | Avg accuracy: 0.65 | Avg loss: 1.26\n"
     ]
    },
    {
     "name": "stderr",
     "output_type": "stream",
     "text": [
      "Epoch [159/250]: [33/33] 100%|██████████, batch loss=1.3 [01:20<00:00] \n"
     ]
    },
    {
     "name": "stdout",
     "output_type": "stream",
     "text": [
      "Validation Results - Epoch: 159 | Avg accuracy: 0.66 | Avg loss: 1.25\n"
     ]
    },
    {
     "name": "stderr",
     "output_type": "stream",
     "text": [
      "Epoch [160/250]: [33/33] 100%|██████████, batch loss=1.18 [01:21<00:00]\n"
     ]
    },
    {
     "name": "stdout",
     "output_type": "stream",
     "text": [
      "Validation Results - Epoch: 160 | Avg accuracy: 0.67 | Avg loss: 1.20\n"
     ]
    },
    {
     "name": "stderr",
     "output_type": "stream",
     "text": [
      "Epoch [161/250]: [33/33] 100%|██████████, batch loss=1.36 [01:20<00:00]\n"
     ]
    },
    {
     "name": "stdout",
     "output_type": "stream",
     "text": [
      "Validation Results - Epoch: 161 | Avg accuracy: 0.66 | Avg loss: 1.24\n"
     ]
    },
    {
     "name": "stderr",
     "output_type": "stream",
     "text": [
      "Epoch [162/250]: [33/33] 100%|██████████, batch loss=1.28 [01:21<00:00]\n"
     ]
    },
    {
     "name": "stdout",
     "output_type": "stream",
     "text": [
      "Validation Results - Epoch: 162 | Avg accuracy: 0.65 | Avg loss: 1.22\n"
     ]
    },
    {
     "name": "stderr",
     "output_type": "stream",
     "text": [
      "Epoch [163/250]: [33/33] 100%|██████████, batch loss=1.29 [01:20<00:00]\n"
     ]
    },
    {
     "name": "stdout",
     "output_type": "stream",
     "text": [
      "Validation Results - Epoch: 163 | Avg accuracy: 0.66 | Avg loss: 1.25\n"
     ]
    },
    {
     "name": "stderr",
     "output_type": "stream",
     "text": [
      "Epoch [164/250]: [33/33] 100%|██████████, batch loss=1.22 [01:21<00:00]\n"
     ]
    },
    {
     "name": "stdout",
     "output_type": "stream",
     "text": [
      "Validation Results - Epoch: 164 | Avg accuracy: 0.67 | Avg loss: 1.22\n"
     ]
    },
    {
     "name": "stderr",
     "output_type": "stream",
     "text": [
      "Epoch [165/250]: [33/33] 100%|██████████, batch loss=1.22 [01:21<00:00]\n"
     ]
    },
    {
     "name": "stdout",
     "output_type": "stream",
     "text": [
      "Validation Results - Epoch: 165 | Avg accuracy: 0.66 | Avg loss: 1.26\n"
     ]
    },
    {
     "name": "stderr",
     "output_type": "stream",
     "text": [
      "Epoch [166/250]: [33/33] 100%|██████████, batch loss=1.25 [01:21<00:00]\n"
     ]
    },
    {
     "name": "stdout",
     "output_type": "stream",
     "text": [
      "Validation Results - Epoch: 166 | Avg accuracy: 0.66 | Avg loss: 1.21\n"
     ]
    },
    {
     "name": "stderr",
     "output_type": "stream",
     "text": [
      "Epoch [167/250]: [33/33] 100%|██████████, batch loss=1.24 [01:20<00:00]\n"
     ]
    },
    {
     "name": "stdout",
     "output_type": "stream",
     "text": [
      "Validation Results - Epoch: 167 | Avg accuracy: 0.67 | Avg loss: 1.21\n"
     ]
    },
    {
     "name": "stderr",
     "output_type": "stream",
     "text": [
      "Epoch [168/250]: [33/33] 100%|██████████, batch loss=1.28 [01:20<00:00]\n"
     ]
    },
    {
     "name": "stdout",
     "output_type": "stream",
     "text": [
      "Validation Results - Epoch: 168 | Avg accuracy: 0.67 | Avg loss: 1.22\n"
     ]
    },
    {
     "name": "stderr",
     "output_type": "stream",
     "text": [
      "Epoch [169/250]: [33/33] 100%|██████████, batch loss=1.12 [01:20<00:00]\n"
     ]
    },
    {
     "name": "stdout",
     "output_type": "stream",
     "text": [
      "Validation Results - Epoch: 169 | Avg accuracy: 0.67 | Avg loss: 1.17\n"
     ]
    },
    {
     "name": "stderr",
     "output_type": "stream",
     "text": [
      "Epoch [170/250]: [33/33] 100%|██████████, batch loss=1.26 [01:21<00:00]\n"
     ]
    },
    {
     "name": "stdout",
     "output_type": "stream",
     "text": [
      "Validation Results - Epoch: 170 | Avg accuracy: 0.66 | Avg loss: 1.20\n"
     ]
    },
    {
     "name": "stderr",
     "output_type": "stream",
     "text": [
      "Epoch [171/250]: [33/33] 100%|██████████, batch loss=1.26 [01:20<00:00]\n"
     ]
    },
    {
     "name": "stdout",
     "output_type": "stream",
     "text": [
      "Validation Results - Epoch: 171 | Avg accuracy: 0.67 | Avg loss: 1.22\n"
     ]
    },
    {
     "name": "stderr",
     "output_type": "stream",
     "text": [
      "Epoch [172/250]: [33/33] 100%|██████████, batch loss=1.18 [01:20<00:00]\n"
     ]
    },
    {
     "name": "stdout",
     "output_type": "stream",
     "text": [
      "Validation Results - Epoch: 172 | Avg accuracy: 0.66 | Avg loss: 1.20\n"
     ]
    },
    {
     "name": "stderr",
     "output_type": "stream",
     "text": [
      "Epoch [173/250]: [33/33] 100%|██████████, batch loss=1.23 [01:21<00:00]\n"
     ]
    },
    {
     "name": "stdout",
     "output_type": "stream",
     "text": [
      "Validation Results - Epoch: 173 | Avg accuracy: 0.69 | Avg loss: 1.19\n"
     ]
    },
    {
     "name": "stderr",
     "output_type": "stream",
     "text": [
      "Epoch [174/250]: [33/33] 100%|██████████, batch loss=1.14 [01:21<00:00]\n"
     ]
    },
    {
     "name": "stdout",
     "output_type": "stream",
     "text": [
      "Validation Results - Epoch: 174 | Avg accuracy: 0.67 | Avg loss: 1.20\n"
     ]
    },
    {
     "name": "stderr",
     "output_type": "stream",
     "text": [
      "Epoch [175/250]: [33/33] 100%|██████████, batch loss=1.13 [01:20<00:00]\n"
     ]
    },
    {
     "name": "stdout",
     "output_type": "stream",
     "text": [
      "Validation Results - Epoch: 175 | Avg accuracy: 0.66 | Avg loss: 1.22\n"
     ]
    },
    {
     "name": "stderr",
     "output_type": "stream",
     "text": [
      "Epoch [176/250]: [33/33] 100%|██████████, batch loss=1.07 [01:21<00:00]\n"
     ]
    },
    {
     "name": "stdout",
     "output_type": "stream",
     "text": [
      "Validation Results - Epoch: 176 | Avg accuracy: 0.67 | Avg loss: 1.20\n"
     ]
    },
    {
     "name": "stderr",
     "output_type": "stream",
     "text": [
      "Epoch [177/250]: [33/33] 100%|██████████, batch loss=1.16 [01:21<00:00]\n"
     ]
    },
    {
     "name": "stdout",
     "output_type": "stream",
     "text": [
      "Validation Results - Epoch: 177 | Avg accuracy: 0.66 | Avg loss: 1.21\n"
     ]
    },
    {
     "name": "stderr",
     "output_type": "stream",
     "text": [
      "Epoch [178/250]: [33/33] 100%|██████████, batch loss=1.05 [01:20<00:00]\n"
     ]
    },
    {
     "name": "stdout",
     "output_type": "stream",
     "text": [
      "Validation Results - Epoch: 178 | Avg accuracy: 0.67 | Avg loss: 1.20\n"
     ]
    },
    {
     "name": "stderr",
     "output_type": "stream",
     "text": [
      "Epoch [179/250]: [33/33] 100%|██████████, batch loss=1.16 [01:20<00:00]\n"
     ]
    },
    {
     "name": "stdout",
     "output_type": "stream",
     "text": [
      "Validation Results - Epoch: 179 | Avg accuracy: 0.67 | Avg loss: 1.19\n"
     ]
    },
    {
     "name": "stderr",
     "output_type": "stream",
     "text": [
      "Epoch [180/250]: [33/33] 100%|██████████, batch loss=1.15 [01:21<00:00]\n"
     ]
    },
    {
     "name": "stdout",
     "output_type": "stream",
     "text": [
      "Validation Results - Epoch: 180 | Avg accuracy: 0.67 | Avg loss: 1.18\n"
     ]
    },
    {
     "name": "stderr",
     "output_type": "stream",
     "text": [
      "Epoch [181/250]: [33/33] 100%|██████████, batch loss=1.13 [01:21<00:00]\n"
     ]
    },
    {
     "name": "stdout",
     "output_type": "stream",
     "text": [
      "Validation Results - Epoch: 181 | Avg accuracy: 0.66 | Avg loss: 1.24\n"
     ]
    },
    {
     "name": "stderr",
     "output_type": "stream",
     "text": [
      "Epoch [182/250]: [33/33] 100%|██████████, batch loss=1.14 [01:20<00:00]\n"
     ]
    },
    {
     "name": "stdout",
     "output_type": "stream",
     "text": [
      "Validation Results - Epoch: 182 | Avg accuracy: 0.66 | Avg loss: 1.25\n"
     ]
    },
    {
     "name": "stderr",
     "output_type": "stream",
     "text": [
      "Epoch [183/250]: [33/33] 100%|██████████, batch loss=1.21 [01:21<00:00]\n"
     ]
    },
    {
     "name": "stdout",
     "output_type": "stream",
     "text": [
      "Validation Results - Epoch: 183 | Avg accuracy: 0.67 | Avg loss: 1.21\n"
     ]
    },
    {
     "name": "stderr",
     "output_type": "stream",
     "text": [
      "Epoch [184/250]: [33/33] 100%|██████████, batch loss=1.24 [01:23<00:00]\n"
     ]
    },
    {
     "name": "stdout",
     "output_type": "stream",
     "text": [
      "Validation Results - Epoch: 184 | Avg accuracy: 0.69 | Avg loss: 1.19\n"
     ]
    },
    {
     "name": "stderr",
     "output_type": "stream",
     "text": [
      "Epoch [185/250]: [33/33] 100%|██████████, batch loss=1.1 [01:21<00:00] \n"
     ]
    },
    {
     "name": "stdout",
     "output_type": "stream",
     "text": [
      "Validation Results - Epoch: 185 | Avg accuracy: 0.69 | Avg loss: 1.18\n"
     ]
    },
    {
     "name": "stderr",
     "output_type": "stream",
     "text": [
      "Epoch [186/250]: [33/33] 100%|██████████, batch loss=1.23 [01:21<00:00]\n"
     ]
    },
    {
     "name": "stdout",
     "output_type": "stream",
     "text": [
      "Validation Results - Epoch: 186 | Avg accuracy: 0.67 | Avg loss: 1.20\n"
     ]
    },
    {
     "name": "stderr",
     "output_type": "stream",
     "text": [
      "Epoch [187/250]: [33/33] 100%|██████████, batch loss=1.19 [01:22<00:00]\n"
     ]
    },
    {
     "name": "stdout",
     "output_type": "stream",
     "text": [
      "Validation Results - Epoch: 187 | Avg accuracy: 0.69 | Avg loss: 1.15\n"
     ]
    },
    {
     "name": "stderr",
     "output_type": "stream",
     "text": [
      "Epoch [188/250]: [33/33] 100%|██████████, batch loss=1.1 [01:21<00:00] \n"
     ]
    },
    {
     "name": "stdout",
     "output_type": "stream",
     "text": [
      "Validation Results - Epoch: 188 | Avg accuracy: 0.69 | Avg loss: 1.19\n"
     ]
    },
    {
     "name": "stderr",
     "output_type": "stream",
     "text": [
      "Epoch [189/250]: [33/33] 100%|██████████, batch loss=1.21 [01:21<00:00]\n"
     ]
    },
    {
     "name": "stdout",
     "output_type": "stream",
     "text": [
      "Validation Results - Epoch: 189 | Avg accuracy: 0.69 | Avg loss: 1.15\n"
     ]
    },
    {
     "name": "stderr",
     "output_type": "stream",
     "text": [
      "Epoch [190/250]: [33/33] 100%|██████████, batch loss=1.25 [01:21<00:00]\n"
     ]
    },
    {
     "name": "stdout",
     "output_type": "stream",
     "text": [
      "Validation Results - Epoch: 190 | Avg accuracy: 0.69 | Avg loss: 1.15\n"
     ]
    },
    {
     "name": "stderr",
     "output_type": "stream",
     "text": [
      "Epoch [191/250]: [33/33] 100%|██████████, batch loss=1.25 [01:21<00:00]\n"
     ]
    },
    {
     "name": "stdout",
     "output_type": "stream",
     "text": [
      "Validation Results - Epoch: 191 | Avg accuracy: 0.69 | Avg loss: 1.16\n"
     ]
    },
    {
     "name": "stderr",
     "output_type": "stream",
     "text": [
      "Epoch [192/250]: [33/33] 100%|██████████, batch loss=1.21 [01:21<00:00]\n"
     ]
    },
    {
     "name": "stdout",
     "output_type": "stream",
     "text": [
      "Validation Results - Epoch: 192 | Avg accuracy: 0.67 | Avg loss: 1.20\n"
     ]
    },
    {
     "name": "stderr",
     "output_type": "stream",
     "text": [
      "Epoch [193/250]: [33/33] 100%|██████████, batch loss=1.08 [01:20<00:00]\n"
     ]
    },
    {
     "name": "stdout",
     "output_type": "stream",
     "text": [
      "Validation Results - Epoch: 193 | Avg accuracy: 0.67 | Avg loss: 1.20\n"
     ]
    },
    {
     "name": "stderr",
     "output_type": "stream",
     "text": [
      "Epoch [194/250]: [33/33] 100%|██████████, batch loss=1.13 [01:21<00:00]\n"
     ]
    },
    {
     "name": "stdout",
     "output_type": "stream",
     "text": [
      "Validation Results - Epoch: 194 | Avg accuracy: 0.69 | Avg loss: 1.16\n"
     ]
    },
    {
     "name": "stderr",
     "output_type": "stream",
     "text": [
      "Epoch [195/250]: [33/33] 100%|██████████, batch loss=1.21 [01:20<00:00]\n"
     ]
    },
    {
     "name": "stdout",
     "output_type": "stream",
     "text": [
      "Validation Results - Epoch: 195 | Avg accuracy: 0.68 | Avg loss: 1.13\n"
     ]
    },
    {
     "name": "stderr",
     "output_type": "stream",
     "text": [
      "Epoch [196/250]: [33/33] 100%|██████████, batch loss=1.16 [01:22<00:00] \n"
     ]
    },
    {
     "name": "stdout",
     "output_type": "stream",
     "text": [
      "Validation Results - Epoch: 196 | Avg accuracy: 0.69 | Avg loss: 1.13\n"
     ]
    },
    {
     "name": "stderr",
     "output_type": "stream",
     "text": [
      "Epoch [197/250]: [33/33] 100%|██████████, batch loss=1.15 [01:22<00:00]\n"
     ]
    },
    {
     "name": "stdout",
     "output_type": "stream",
     "text": [
      "Validation Results - Epoch: 197 | Avg accuracy: 0.68 | Avg loss: 1.14\n"
     ]
    },
    {
     "name": "stderr",
     "output_type": "stream",
     "text": [
      "Epoch [198/250]: [33/33] 100%|██████████, batch loss=1.16 [01:22<00:00]\n"
     ]
    },
    {
     "name": "stdout",
     "output_type": "stream",
     "text": [
      "Validation Results - Epoch: 198 | Avg accuracy: 0.69 | Avg loss: 1.14\n"
     ]
    },
    {
     "name": "stderr",
     "output_type": "stream",
     "text": [
      "Epoch [199/250]: [33/33] 100%|██████████, batch loss=1.16 [01:22<00:00]\n"
     ]
    },
    {
     "name": "stdout",
     "output_type": "stream",
     "text": [
      "Validation Results - Epoch: 199 | Avg accuracy: 0.66 | Avg loss: 1.19\n"
     ]
    },
    {
     "name": "stderr",
     "output_type": "stream",
     "text": [
      "Epoch [200/250]: [33/33] 100%|██████████, batch loss=1.12 [01:22<00:00]\n"
     ]
    },
    {
     "name": "stdout",
     "output_type": "stream",
     "text": [
      "Validation Results - Epoch: 200 | Avg accuracy: 0.68 | Avg loss: 1.19\n"
     ]
    },
    {
     "name": "stderr",
     "output_type": "stream",
     "text": [
      "Epoch [201/250]: [33/33] 100%|██████████, batch loss=1.1 [01:23<00:00] \n"
     ]
    },
    {
     "name": "stdout",
     "output_type": "stream",
     "text": [
      "Validation Results - Epoch: 201 | Avg accuracy: 0.69 | Avg loss: 1.15\n"
     ]
    },
    {
     "name": "stderr",
     "output_type": "stream",
     "text": [
      "Epoch [202/250]: [33/33] 100%|██████████, batch loss=1.02 [01:25<00:00]\n"
     ]
    },
    {
     "name": "stdout",
     "output_type": "stream",
     "text": [
      "Validation Results - Epoch: 202 | Avg accuracy: 0.68 | Avg loss: 1.16\n"
     ]
    },
    {
     "name": "stderr",
     "output_type": "stream",
     "text": [
      "Epoch [203/250]: [33/33] 100%|██████████, batch loss=1.04 [01:22<00:00] \n"
     ]
    },
    {
     "name": "stdout",
     "output_type": "stream",
     "text": [
      "Validation Results - Epoch: 203 | Avg accuracy: 0.69 | Avg loss: 1.13\n"
     ]
    },
    {
     "name": "stderr",
     "output_type": "stream",
     "text": [
      "Epoch [204/250]: [33/33] 100%|██████████, batch loss=1.02 [01:22<00:00]\n"
     ]
    },
    {
     "name": "stdout",
     "output_type": "stream",
     "text": [
      "Validation Results - Epoch: 204 | Avg accuracy: 0.67 | Avg loss: 1.16\n"
     ]
    },
    {
     "name": "stderr",
     "output_type": "stream",
     "text": [
      "Epoch [205/250]: [33/33] 100%|██████████, batch loss=1.03 [01:23<00:00]\n"
     ]
    },
    {
     "name": "stdout",
     "output_type": "stream",
     "text": [
      "Validation Results - Epoch: 205 | Avg accuracy: 0.69 | Avg loss: 1.14\n"
     ]
    },
    {
     "name": "stderr",
     "output_type": "stream",
     "text": [
      "Epoch [206/250]: [33/33] 100%|██████████, batch loss=1.15 [01:22<00:00]\n"
     ]
    },
    {
     "name": "stdout",
     "output_type": "stream",
     "text": [
      "Validation Results - Epoch: 206 | Avg accuracy: 0.67 | Avg loss: 1.18\n"
     ]
    },
    {
     "name": "stderr",
     "output_type": "stream",
     "text": [
      "Epoch [207/250]: [33/33] 100%|██████████, batch loss=1.09 [01:23<00:00] \n"
     ]
    },
    {
     "name": "stdout",
     "output_type": "stream",
     "text": [
      "Validation Results - Epoch: 207 | Avg accuracy: 0.68 | Avg loss: 1.14\n"
     ]
    },
    {
     "name": "stderr",
     "output_type": "stream",
     "text": [
      "Epoch [208/250]: [33/33] 100%|██████████, batch loss=1.04 [01:22<00:00] \n"
     ]
    },
    {
     "name": "stdout",
     "output_type": "stream",
     "text": [
      "Validation Results - Epoch: 208 | Avg accuracy: 0.67 | Avg loss: 1.18\n"
     ]
    },
    {
     "name": "stderr",
     "output_type": "stream",
     "text": [
      "Epoch [209/250]: [33/33] 100%|██████████, batch loss=1.08 [01:22<00:00]\n"
     ]
    },
    {
     "name": "stdout",
     "output_type": "stream",
     "text": [
      "Validation Results - Epoch: 209 | Avg accuracy: 0.68 | Avg loss: 1.14\n"
     ]
    },
    {
     "name": "stderr",
     "output_type": "stream",
     "text": [
      "Epoch [210/250]: [33/33] 100%|██████████, batch loss=1.08 [01:21<00:00] \n"
     ]
    },
    {
     "name": "stdout",
     "output_type": "stream",
     "text": [
      "Validation Results - Epoch: 210 | Avg accuracy: 0.68 | Avg loss: 1.13\n"
     ]
    },
    {
     "name": "stderr",
     "output_type": "stream",
     "text": [
      "Epoch [211/250]: [33/33] 100%|██████████, batch loss=0.969 [01:21<00:00]\n"
     ]
    },
    {
     "name": "stdout",
     "output_type": "stream",
     "text": [
      "Validation Results - Epoch: 211 | Avg accuracy: 0.68 | Avg loss: 1.12\n"
     ]
    },
    {
     "name": "stderr",
     "output_type": "stream",
     "text": [
      "Epoch [212/250]: [33/33] 100%|██████████, batch loss=1.09 [01:21<00:00] \n"
     ]
    },
    {
     "name": "stdout",
     "output_type": "stream",
     "text": [
      "Validation Results - Epoch: 212 | Avg accuracy: 0.68 | Avg loss: 1.10\n"
     ]
    },
    {
     "name": "stderr",
     "output_type": "stream",
     "text": [
      "Epoch [213/250]: [33/33] 100%|██████████, batch loss=1.04 [01:21<00:00] \n"
     ]
    },
    {
     "name": "stdout",
     "output_type": "stream",
     "text": [
      "Validation Results - Epoch: 213 | Avg accuracy: 0.68 | Avg loss: 1.13\n"
     ]
    },
    {
     "name": "stderr",
     "output_type": "stream",
     "text": [
      "Epoch [214/250]: [33/33] 100%|██████████, batch loss=1.1 [01:21<00:00]  \n"
     ]
    },
    {
     "name": "stdout",
     "output_type": "stream",
     "text": [
      "Validation Results - Epoch: 214 | Avg accuracy: 0.71 | Avg loss: 1.11\n"
     ]
    },
    {
     "name": "stderr",
     "output_type": "stream",
     "text": [
      "Epoch [215/250]: [33/33] 100%|██████████, batch loss=1.16 [01:21<00:00] \n"
     ]
    },
    {
     "name": "stdout",
     "output_type": "stream",
     "text": [
      "Validation Results - Epoch: 215 | Avg accuracy: 0.68 | Avg loss: 1.16\n"
     ]
    },
    {
     "name": "stderr",
     "output_type": "stream",
     "text": [
      "Epoch [216/250]: [33/33] 100%|██████████, batch loss=1.2 [01:21<00:00]  \n"
     ]
    },
    {
     "name": "stdout",
     "output_type": "stream",
     "text": [
      "Validation Results - Epoch: 216 | Avg accuracy: 0.68 | Avg loss: 1.15\n"
     ]
    },
    {
     "name": "stderr",
     "output_type": "stream",
     "text": [
      "Epoch [217/250]: [33/33] 100%|██████████, batch loss=0.984 [01:21<00:00]\n"
     ]
    },
    {
     "name": "stdout",
     "output_type": "stream",
     "text": [
      "Validation Results - Epoch: 217 | Avg accuracy: 0.68 | Avg loss: 1.12\n"
     ]
    },
    {
     "name": "stderr",
     "output_type": "stream",
     "text": [
      "Epoch [218/250]: [33/33] 100%|██████████, batch loss=0.937 [01:21<00:00]\n"
     ]
    },
    {
     "name": "stdout",
     "output_type": "stream",
     "text": [
      "Validation Results - Epoch: 218 | Avg accuracy: 0.67 | Avg loss: 1.17\n"
     ]
    },
    {
     "name": "stderr",
     "output_type": "stream",
     "text": [
      "Epoch [219/250]: [33/33] 100%|██████████, batch loss=1.07 [01:21<00:00] \n"
     ]
    },
    {
     "name": "stdout",
     "output_type": "stream",
     "text": [
      "Validation Results - Epoch: 219 | Avg accuracy: 0.70 | Avg loss: 1.12\n"
     ]
    },
    {
     "name": "stderr",
     "output_type": "stream",
     "text": [
      "Epoch [220/250]: [33/33] 100%|██████████, batch loss=1.05 [01:22<00:00] \n"
     ]
    },
    {
     "name": "stdout",
     "output_type": "stream",
     "text": [
      "Validation Results - Epoch: 220 | Avg accuracy: 0.68 | Avg loss: 1.17\n"
     ]
    },
    {
     "name": "stderr",
     "output_type": "stream",
     "text": [
      "Epoch [221/250]: [33/33] 100%|██████████, batch loss=1.02 [01:21<00:00] \n"
     ]
    },
    {
     "name": "stdout",
     "output_type": "stream",
     "text": [
      "Validation Results - Epoch: 221 | Avg accuracy: 0.69 | Avg loss: 1.13\n"
     ]
    },
    {
     "name": "stderr",
     "output_type": "stream",
     "text": [
      "Epoch [222/250]: [33/33] 100%|██████████, batch loss=1.06 [01:21<00:00] \n"
     ]
    },
    {
     "name": "stdout",
     "output_type": "stream",
     "text": [
      "Validation Results - Epoch: 222 | Avg accuracy: 0.67 | Avg loss: 1.15\n"
     ]
    },
    {
     "name": "stderr",
     "output_type": "stream",
     "text": [
      "Epoch [223/250]: [33/33] 100%|██████████, batch loss=0.976 [01:22<00:00]\n"
     ]
    },
    {
     "name": "stdout",
     "output_type": "stream",
     "text": [
      "Validation Results - Epoch: 223 | Avg accuracy: 0.69 | Avg loss: 1.10\n"
     ]
    },
    {
     "name": "stderr",
     "output_type": "stream",
     "text": [
      "Epoch [224/250]: [33/33] 100%|██████████, batch loss=0.964 [01:21<00:00]\n"
     ]
    },
    {
     "name": "stdout",
     "output_type": "stream",
     "text": [
      "Validation Results - Epoch: 224 | Avg accuracy: 0.69 | Avg loss: 1.14\n"
     ]
    },
    {
     "name": "stderr",
     "output_type": "stream",
     "text": [
      "Epoch [225/250]: [33/33] 100%|██████████, batch loss=1.02 [01:21<00:00] \n"
     ]
    },
    {
     "name": "stdout",
     "output_type": "stream",
     "text": [
      "Validation Results - Epoch: 225 | Avg accuracy: 0.70 | Avg loss: 1.09\n"
     ]
    },
    {
     "name": "stderr",
     "output_type": "stream",
     "text": [
      "Epoch [226/250]: [33/33] 100%|██████████, batch loss=1.06 [01:21<00:00] \n"
     ]
    },
    {
     "name": "stdout",
     "output_type": "stream",
     "text": [
      "Validation Results - Epoch: 226 | Avg accuracy: 0.70 | Avg loss: 1.10\n"
     ]
    },
    {
     "name": "stderr",
     "output_type": "stream",
     "text": [
      "Epoch [227/250]: [33/33] 100%|██████████, batch loss=1.03 [01:21<00:00] \n"
     ]
    },
    {
     "name": "stdout",
     "output_type": "stream",
     "text": [
      "Validation Results - Epoch: 227 | Avg accuracy: 0.68 | Avg loss: 1.13\n"
     ]
    },
    {
     "name": "stderr",
     "output_type": "stream",
     "text": [
      "Epoch [228/250]: [33/33] 100%|██████████, batch loss=0.95 [01:22<00:00] \n"
     ]
    },
    {
     "name": "stdout",
     "output_type": "stream",
     "text": [
      "Validation Results - Epoch: 228 | Avg accuracy: 0.71 | Avg loss: 1.11\n"
     ]
    },
    {
     "name": "stderr",
     "output_type": "stream",
     "text": [
      "Epoch [229/250]: [33/33] 100%|██████████, batch loss=1.03 [01:21<00:00] \n"
     ]
    },
    {
     "name": "stdout",
     "output_type": "stream",
     "text": [
      "Validation Results - Epoch: 229 | Avg accuracy: 0.69 | Avg loss: 1.09\n"
     ]
    },
    {
     "name": "stderr",
     "output_type": "stream",
     "text": [
      "Epoch [230/250]: [33/33] 100%|██████████, batch loss=1.08 [01:21<00:00] \n"
     ]
    },
    {
     "name": "stdout",
     "output_type": "stream",
     "text": [
      "Validation Results - Epoch: 230 | Avg accuracy: 0.68 | Avg loss: 1.13\n"
     ]
    },
    {
     "name": "stderr",
     "output_type": "stream",
     "text": [
      "Epoch [231/250]: [33/33] 100%|██████████, batch loss=1.03 [01:21<00:00] \n"
     ]
    },
    {
     "name": "stdout",
     "output_type": "stream",
     "text": [
      "Validation Results - Epoch: 231 | Avg accuracy: 0.67 | Avg loss: 1.18\n"
     ]
    },
    {
     "name": "stderr",
     "output_type": "stream",
     "text": [
      "Epoch [232/250]: [33/33] 100%|██████████, batch loss=0.944 [01:21<00:00]\n"
     ]
    },
    {
     "name": "stdout",
     "output_type": "stream",
     "text": [
      "Validation Results - Epoch: 232 | Avg accuracy: 0.69 | Avg loss: 1.10\n"
     ]
    },
    {
     "name": "stderr",
     "output_type": "stream",
     "text": [
      "Epoch [233/250]: [33/33] 100%|██████████, batch loss=1.06 [01:20<00:00] \n"
     ]
    },
    {
     "name": "stdout",
     "output_type": "stream",
     "text": [
      "Validation Results - Epoch: 233 | Avg accuracy: 0.70 | Avg loss: 1.10\n"
     ]
    },
    {
     "name": "stderr",
     "output_type": "stream",
     "text": [
      "Epoch [234/250]: [33/33] 100%|██████████, batch loss=0.926 [01:21<00:00]\n"
     ]
    },
    {
     "name": "stdout",
     "output_type": "stream",
     "text": [
      "Validation Results - Epoch: 234 | Avg accuracy: 0.68 | Avg loss: 1.15\n"
     ]
    },
    {
     "name": "stderr",
     "output_type": "stream",
     "text": [
      "Epoch [235/250]: [33/33] 100%|██████████, batch loss=0.989 [01:20<00:00]\n"
     ]
    },
    {
     "name": "stdout",
     "output_type": "stream",
     "text": [
      "Validation Results - Epoch: 235 | Avg accuracy: 0.69 | Avg loss: 1.12\n"
     ]
    },
    {
     "name": "stderr",
     "output_type": "stream",
     "text": [
      "Epoch [236/250]: [33/33] 100%|██████████, batch loss=1.11 [01:20<00:00] \n"
     ]
    },
    {
     "name": "stdout",
     "output_type": "stream",
     "text": [
      "Validation Results - Epoch: 236 | Avg accuracy: 0.70 | Avg loss: 1.09\n"
     ]
    },
    {
     "name": "stderr",
     "output_type": "stream",
     "text": [
      "Epoch [237/250]: [33/33] 100%|██████████, batch loss=0.912 [01:21<00:00]\n"
     ]
    },
    {
     "name": "stdout",
     "output_type": "stream",
     "text": [
      "Validation Results - Epoch: 237 | Avg accuracy: 0.69 | Avg loss: 1.11\n"
     ]
    },
    {
     "name": "stderr",
     "output_type": "stream",
     "text": [
      "Epoch [238/250]: [33/33] 100%|██████████, batch loss=0.956 [01:21<00:00]\n"
     ]
    },
    {
     "name": "stdout",
     "output_type": "stream",
     "text": [
      "Validation Results - Epoch: 238 | Avg accuracy: 0.72 | Avg loss: 1.09\n"
     ]
    },
    {
     "name": "stderr",
     "output_type": "stream",
     "text": [
      "Epoch [239/250]: [33/33] 100%|██████████, batch loss=0.915 [01:20<00:00]\n"
     ]
    },
    {
     "name": "stdout",
     "output_type": "stream",
     "text": [
      "Validation Results - Epoch: 239 | Avg accuracy: 0.70 | Avg loss: 1.08\n"
     ]
    },
    {
     "name": "stderr",
     "output_type": "stream",
     "text": [
      "Epoch [240/250]: [33/33] 100%|██████████, batch loss=0.971 [01:21<00:00]\n"
     ]
    },
    {
     "name": "stdout",
     "output_type": "stream",
     "text": [
      "Validation Results - Epoch: 240 | Avg accuracy: 0.71 | Avg loss: 1.08\n"
     ]
    },
    {
     "name": "stderr",
     "output_type": "stream",
     "text": [
      "Epoch [241/250]: [33/33] 100%|██████████, batch loss=0.993 [01:21<00:00]\n"
     ]
    },
    {
     "name": "stdout",
     "output_type": "stream",
     "text": [
      "Validation Results - Epoch: 241 | Avg accuracy: 0.70 | Avg loss: 1.11\n"
     ]
    },
    {
     "name": "stderr",
     "output_type": "stream",
     "text": [
      "Epoch [242/250]: [33/33] 100%|██████████, batch loss=0.87 [01:21<00:00] \n"
     ]
    },
    {
     "name": "stdout",
     "output_type": "stream",
     "text": [
      "Validation Results - Epoch: 242 | Avg accuracy: 0.69 | Avg loss: 1.10\n"
     ]
    },
    {
     "name": "stderr",
     "output_type": "stream",
     "text": [
      "Epoch [243/250]: [33/33] 100%|██████████, batch loss=0.958 [01:20<00:00]\n"
     ]
    },
    {
     "name": "stdout",
     "output_type": "stream",
     "text": [
      "Validation Results - Epoch: 243 | Avg accuracy: 0.68 | Avg loss: 1.16\n"
     ]
    },
    {
     "name": "stderr",
     "output_type": "stream",
     "text": [
      "Epoch [244/250]: [33/33] 100%|██████████, batch loss=0.904 [01:20<00:00]\n"
     ]
    },
    {
     "name": "stdout",
     "output_type": "stream",
     "text": [
      "Validation Results - Epoch: 244 | Avg accuracy: 0.69 | Avg loss: 1.11\n"
     ]
    },
    {
     "name": "stderr",
     "output_type": "stream",
     "text": [
      "Epoch [245/250]: [33/33] 100%|██████████, batch loss=1.01 [01:21<00:00] \n"
     ]
    },
    {
     "name": "stdout",
     "output_type": "stream",
     "text": [
      "Validation Results - Epoch: 245 | Avg accuracy: 0.72 | Avg loss: 1.06\n"
     ]
    },
    {
     "name": "stderr",
     "output_type": "stream",
     "text": [
      "Epoch [246/250]: [33/33] 100%|██████████, batch loss=0.896 [01:21<00:00]\n"
     ]
    },
    {
     "name": "stdout",
     "output_type": "stream",
     "text": [
      "Validation Results - Epoch: 246 | Avg accuracy: 0.70 | Avg loss: 1.09\n"
     ]
    },
    {
     "name": "stderr",
     "output_type": "stream",
     "text": [
      "Epoch [247/250]: [33/33] 100%|██████████, batch loss=1.04 [01:21<00:00] \n"
     ]
    },
    {
     "name": "stdout",
     "output_type": "stream",
     "text": [
      "Validation Results - Epoch: 247 | Avg accuracy: 0.70 | Avg loss: 1.07\n"
     ]
    },
    {
     "name": "stderr",
     "output_type": "stream",
     "text": [
      "Epoch [248/250]: [33/33] 100%|██████████, batch loss=0.929 [01:20<00:00]\n"
     ]
    },
    {
     "name": "stdout",
     "output_type": "stream",
     "text": [
      "Validation Results - Epoch: 248 | Avg accuracy: 0.69 | Avg loss: 1.10\n"
     ]
    },
    {
     "name": "stderr",
     "output_type": "stream",
     "text": [
      "Epoch [249/250]: [33/33] 100%|██████████, batch loss=0.932 [01:21<00:00]\n"
     ]
    },
    {
     "name": "stdout",
     "output_type": "stream",
     "text": [
      "Validation Results - Epoch: 249 | Avg accuracy: 0.70 | Avg loss: 1.09\n"
     ]
    },
    {
     "name": "stderr",
     "output_type": "stream",
     "text": [
      "Epoch [250/250]: [33/33] 100%|██████████, batch loss=0.829 [01:20<00:00]\n"
     ]
    },
    {
     "name": "stdout",
     "output_type": "stream",
     "text": [
      "Validation Results - Epoch: 250 | Avg accuracy: 0.69 | Avg loss: 1.08\n",
      "Test set results:\n",
      "{'acc': 0.6879162702188392, 'loss': 1.0561579187975738}\n"
     ]
    }
   ],
   "source": [
    "trainer = create_supervised_trainer(\n",
    "    model, optimizer, criterion, device=device\n",
    ")\n",
    "\n",
    "evaluator = create_supervised_evaluator(\n",
    "    model,\n",
    "    metrics={\n",
    "        \"acc\": Accuracy(),\n",
    "        \"loss\": Loss(nn.NLLLoss())\n",
    "    },\n",
    "    device=device\n",
    ")\n",
    "\n",
    "ProgressBar(persist=True).attach(\n",
    "    trainer,\n",
    "    output_transform=lambda x: {\"batch loss\": x}\n",
    ")\n",
    "\n",
    "@trainer.on(Events.EPOCH_COMPLETED)\n",
    "def log_validation_results(trainer):\n",
    "    evaluator.run(val_loader)\n",
    "    metrics = evaluator.state.metrics\n",
    "    print(\"Validation Results - Epoch: {} | Avg accuracy: {:.2f} | Avg loss: {:.2f}\".format(\n",
    "        trainer.state.epoch, metrics['acc'], metrics['loss']\n",
    "    ))\n",
    "\n",
    "lr_finder.apply_suggested_lr(optimizer)\n",
    "print('Training with suggested lr:', optimizer.param_groups[0]['lr'])\n",
    "\n",
    "trainer.run(train_loader, max_epochs=250)\n",
    "\n",
    "evaluator.run(test_loader)\n",
    "print(\"Test set results:\")\n",
    "print(evaluator.state.metrics)"
   ]
  },
  {
   "cell_type": "code",
   "execution_count": 83,
   "id": "62814573",
   "metadata": {},
   "outputs": [
    {
     "name": "stdout",
     "output_type": "stream",
     "text": [
      "Test set results:\n",
      "{'acc': 0.6879162702188392, 'loss': 1.0561579187975738}\n"
     ]
    }
   ],
   "source": [
    "print(\"Test set results:\")\n",
    "print(evaluator.state.metrics)"
   ]
  },
  {
   "cell_type": "markdown",
   "id": "c0bc68ee",
   "metadata": {},
   "source": [
    "Test results with 150 epochs, SGD optimizer, two dropuout layers on p=0.5 and p=0.2\n",
    "\n",
    "Accuracy $\\approx$ 55.754%"
   ]
  },
  {
   "cell_type": "markdown",
   "id": "ef274292",
   "metadata": {},
   "source": [
    "Test results with 250 epochs, ADAM optimizer, two dropuout layers on p=0.5 and p=0.2\n",
    "\n",
    "Accuracy $\\approx$ 61.371%"
   ]
  },
  {
   "cell_type": "markdown",
   "id": "c43b0b4c",
   "metadata": {},
   "source": [
    "Test results with 250 epochs, SGD optimizer, additional dense layer at the beginning (2504 parameters), three dropuout layers on p=0.5, p=0.2 and p=0.2\n",
    "\n",
    "Accuracy $\\approx$ 68.792%"
   ]
  }
 ],
 "metadata": {
  "kernelspec": {
   "display_name": ".venv",
   "language": "python",
   "name": "python3"
  },
  "language_info": {
   "codemirror_mode": {
    "name": "ipython",
    "version": 3
   },
   "file_extension": ".py",
   "mimetype": "text/x-python",
   "name": "python",
   "nbconvert_exporter": "python",
   "pygments_lexer": "ipython3",
   "version": "3.12.1"
  }
 },
 "nbformat": 4,
 "nbformat_minor": 5
}
