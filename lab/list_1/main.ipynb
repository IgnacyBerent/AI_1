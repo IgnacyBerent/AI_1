{
 "cells": [
  {
   "cell_type": "code",
   "execution_count": 623,
   "metadata": {},
   "outputs": [],
   "source": [
    "import pandas as pd\n",
    "from Bio.SeqUtils import molecular_weight\n",
    "from Bio.SeqUtils.ProtParam import ProteinAnalysis\n",
    "import matplotlib.pyplot as plt"
   ]
  },
  {
   "cell_type": "markdown",
   "metadata": {},
   "source": [
    "# Downloading data"
   ]
  },
  {
   "cell_type": "markdown",
   "metadata": {},
   "source": [
    "## dbAMP3"
   ]
  },
  {
   "cell_type": "markdown",
   "metadata": {},
   "source": [
    "### Information:\n",
    "- link: https://awi.cuhk.edu.cn/dbAMP/download2024.php\n",
    "- last update in 06/2024\n",
    "- available data: 35600\n",
    "- used data: 23925\n",
    "- formats available: xlsx, fasta"
   ]
  },
  {
   "cell_type": "markdown",
   "metadata": {},
   "source": [
    "### Downloading:\n",
    "- download tab was selected\n",
    "- no filters or queries were applied\n",
    "- Download All Antimicrobial peptides Sequence Data was selected\n",
    "- the data was downloaded in xlsx format"
   ]
  },
  {
   "cell_type": "markdown",
   "metadata": {},
   "source": [
    "### Preprocessing"
   ]
  },
  {
   "cell_type": "code",
   "execution_count": 624,
   "metadata": {},
   "outputs": [
    {
     "name": "stdout",
     "output_type": "stream",
     "text": [
      "Index(['dbAMP_ID', 'Name', 'Source', 'Tax', 'Uniprot', 'PDB', 'Targets',\n",
      "       'Seq'],\n",
      "      dtype='object')\n",
      "(35600, 8)\n"
     ]
    }
   ],
   "source": [
    "df_dbamp3 = pd.read_excel('data/dbAMP3.xlsx')\n",
    "print(df_dbamp3.columns)\n",
    "print(df_dbamp3.shape)"
   ]
  },
  {
   "cell_type": "code",
   "execution_count": 625,
   "metadata": {},
   "outputs": [
    {
     "data": {
      "text/html": [
       "<div>\n",
       "<style scoped>\n",
       "    .dataframe tbody tr th:only-of-type {\n",
       "        vertical-align: middle;\n",
       "    }\n",
       "\n",
       "    .dataframe tbody tr th {\n",
       "        vertical-align: top;\n",
       "    }\n",
       "\n",
       "    .dataframe thead th {\n",
       "        text-align: right;\n",
       "    }\n",
       "</style>\n",
       "<table border=\"1\" class=\"dataframe\">\n",
       "  <thead>\n",
       "    <tr style=\"text-align: right;\">\n",
       "      <th></th>\n",
       "      <th>Name</th>\n",
       "      <th>Sequence</th>\n",
       "      <th>Length</th>\n",
       "      <th>Classification</th>\n",
       "    </tr>\n",
       "  </thead>\n",
       "  <tbody>\n",
       "    <tr>\n",
       "      <th>0</th>\n",
       "      <td>Designed AMP No.1</td>\n",
       "      <td>FAAKHNGKSLFKPQN</td>\n",
       "      <td>15</td>\n",
       "      <td>1</td>\n",
       "    </tr>\n",
       "    <tr>\n",
       "      <th>1</th>\n",
       "      <td>Synthetic construct&amp;&amp;4A</td>\n",
       "      <td>AAAAGSVWGAVNYTSDCNGECKRRGYKGGYCGSFANVNCWCET</td>\n",
       "      <td>43</td>\n",
       "      <td>1</td>\n",
       "    </tr>\n",
       "    <tr>\n",
       "      <th>2</th>\n",
       "      <td>gag</td>\n",
       "      <td>AAANPGLLETSEGCRQIL</td>\n",
       "      <td>18</td>\n",
       "      <td>1</td>\n",
       "    </tr>\n",
       "    <tr>\n",
       "      <th>3</th>\n",
       "      <td>gag</td>\n",
       "      <td>AAAPAATLEEHMTACQGV</td>\n",
       "      <td>18</td>\n",
       "      <td>1</td>\n",
       "    </tr>\n",
       "    <tr>\n",
       "      <th>5</th>\n",
       "      <td>jellyfish, Aurelia aurita&amp;&amp;Aurelin (jellyfish,...</td>\n",
       "      <td>AACSDRAHGHICESFKSFCKDSGRNGVKLRANCKKTCGLC</td>\n",
       "      <td>40</td>\n",
       "      <td>1</td>\n",
       "    </tr>\n",
       "    <tr>\n",
       "      <th>...</th>\n",
       "      <td>...</td>\n",
       "      <td>...</td>\n",
       "      <td>...</td>\n",
       "      <td>...</td>\n",
       "    </tr>\n",
       "    <tr>\n",
       "      <th>35595</th>\n",
       "      <td>Designed AMP No.78</td>\n",
       "      <td>LNFHAVRKLFIWIDA</td>\n",
       "      <td>15</td>\n",
       "      <td>1</td>\n",
       "    </tr>\n",
       "    <tr>\n",
       "      <th>35596</th>\n",
       "      <td>Designed AMP No.79</td>\n",
       "      <td>VHFYVAGQYWCRITNHKGRYV</td>\n",
       "      <td>21</td>\n",
       "      <td>1</td>\n",
       "    </tr>\n",
       "    <tr>\n",
       "      <th>35597</th>\n",
       "      <td>Designed AMP No.80</td>\n",
       "      <td>YKQTIAAHNWNYRKYAFCIQVRPYCV</td>\n",
       "      <td>26</td>\n",
       "      <td>1</td>\n",
       "    </tr>\n",
       "    <tr>\n",
       "      <th>35598</th>\n",
       "      <td>Designed AMP No.81</td>\n",
       "      <td>QRRMFRFPMHRFK</td>\n",
       "      <td>13</td>\n",
       "      <td>1</td>\n",
       "    </tr>\n",
       "    <tr>\n",
       "      <th>35599</th>\n",
       "      <td>Designed AMP No.82</td>\n",
       "      <td>AAKVHPAWQIFHWKQAVKVRN</td>\n",
       "      <td>21</td>\n",
       "      <td>1</td>\n",
       "    </tr>\n",
       "  </tbody>\n",
       "</table>\n",
       "<p>23925 rows × 4 columns</p>\n",
       "</div>"
      ],
      "text/plain": [
       "                                                    Name  \\\n",
       "0                                      Designed AMP No.1   \n",
       "1                                Synthetic construct&&4A   \n",
       "2                                                    gag   \n",
       "3                                                    gag   \n",
       "5      jellyfish, Aurelia aurita&&Aurelin (jellyfish,...   \n",
       "...                                                  ...   \n",
       "35595                                 Designed AMP No.78   \n",
       "35596                                 Designed AMP No.79   \n",
       "35597                                 Designed AMP No.80   \n",
       "35598                                 Designed AMP No.81   \n",
       "35599                                 Designed AMP No.82   \n",
       "\n",
       "                                          Sequence  Length  Classification  \n",
       "0                                  FAAKHNGKSLFKPQN      15               1  \n",
       "1      AAAAGSVWGAVNYTSDCNGECKRRGYKGGYCGSFANVNCWCET      43               1  \n",
       "2                               AAANPGLLETSEGCRQIL      18               1  \n",
       "3                               AAAPAATLEEHMTACQGV      18               1  \n",
       "5         AACSDRAHGHICESFKSFCKDSGRNGVKLRANCKKTCGLC      40               1  \n",
       "...                                            ...     ...             ...  \n",
       "35595                              LNFHAVRKLFIWIDA      15               1  \n",
       "35596                        VHFYVAGQYWCRITNHKGRYV      21               1  \n",
       "35597                   YKQTIAAHNWNYRKYAFCIQVRPYCV      26               1  \n",
       "35598                                QRRMFRFPMHRFK      13               1  \n",
       "35599                        AAKVHPAWQIFHWKQAVKVRN      21               1  \n",
       "\n",
       "[23925 rows x 4 columns]"
      ]
     },
     "execution_count": 625,
     "metadata": {},
     "output_type": "execute_result"
    }
   ],
   "source": [
    "# select columns\n",
    "df_dbamp3 = df_dbamp3[['Name', 'Seq']]\n",
    "\n",
    "# add sequence length and Classification\n",
    "df_dbamp3['Length'] = df_dbamp3['Seq'].apply(len)\n",
    "df_dbamp3['Classification'] = 1\n",
    "\n",
    "# rename columns\n",
    "df_dbamp3.rename(columns={'Seq': 'Sequence'}, inplace=True)\n",
    "\n",
    "# remove sequences with length < 10 or > 50\n",
    "df_dbamp3 = df_dbamp3[(df_dbamp3['Length'] >= 10) & (df_dbamp3['Length'] <= 50)]\n",
    "\n",
    "# display first few rows\n",
    "df_dbamp3"
   ]
  },
  {
   "cell_type": "markdown",
   "metadata": {},
   "source": [
    "## DRAMP"
   ]
  },
  {
   "cell_type": "markdown",
   "metadata": {},
   "source": [
    "### Information:\n",
    "- link: http://dramp.cpu-bioinfor.org/downloads/\n",
    "- last update in 09/2024\n",
    "- available data: 30260\n",
    "- used data: 9364\n",
    "- formats available: xlsx, txt, fasta"
   ]
  },
  {
   "cell_type": "markdown",
   "metadata": {},
   "source": [
    "### Downloading:\n",
    "- downloads tab was selected\n",
    "- no filters or queries were applied\n",
    "- General dataset was selected\n",
    "- the data was downloaded in xlsx format "
   ]
  },
  {
   "cell_type": "markdown",
   "metadata": {},
   "source": [
    "### Preprocessing"
   ]
  },
  {
   "cell_type": "code",
   "execution_count": 626,
   "metadata": {},
   "outputs": [
    {
     "name": "stdout",
     "output_type": "stream",
     "text": [
      "Index(['DRAMP_ID', 'Sequence', 'Sequence_Length', 'Name', 'Swiss_Prot_Entry',\n",
      "       'Family', 'Gene', 'Source', 'Activity', 'Protein_existence',\n",
      "       'Structure', 'Structure_Description', 'PDB_ID', 'Comments',\n",
      "       'Target_Organism', 'Hemolytic_activity', 'Linear/Cyclic/Branched',\n",
      "       'N-terminal_Modification', 'C-terminal_Modification',\n",
      "       'Other_Modifications', 'Stereochemistry', 'Cytotoxicity',\n",
      "       'Binding_Traget', 'Pubmed_ID', 'Reference', 'Author', 'Title'],\n",
      "      dtype='object')\n",
      "(11612, 27)\n"
     ]
    }
   ],
   "source": [
    "df_dramp = pd.read_excel('data/dramp.xlsx')\n",
    "print(df_dramp.columns)\n",
    "print(df_dramp.shape)"
   ]
  },
  {
   "cell_type": "code",
   "execution_count": 627,
   "metadata": {},
   "outputs": [
    {
     "data": {
      "text/html": [
       "<div>\n",
       "<style scoped>\n",
       "    .dataframe tbody tr th:only-of-type {\n",
       "        vertical-align: middle;\n",
       "    }\n",
       "\n",
       "    .dataframe tbody tr th {\n",
       "        vertical-align: top;\n",
       "    }\n",
       "\n",
       "    .dataframe thead th {\n",
       "        text-align: right;\n",
       "    }\n",
       "</style>\n",
       "<table border=\"1\" class=\"dataframe\">\n",
       "  <thead>\n",
       "    <tr style=\"text-align: right;\">\n",
       "      <th></th>\n",
       "      <th>Name</th>\n",
       "      <th>Sequence</th>\n",
       "      <th>Length</th>\n",
       "      <th>Classification</th>\n",
       "    </tr>\n",
       "  </thead>\n",
       "  <tbody>\n",
       "    <tr>\n",
       "      <th>0</th>\n",
       "      <td>Epicidin 280 (Bacteriocin)</td>\n",
       "      <td>SLGPAIKATRQVCPKATRFVTVSCKKSDCQ</td>\n",
       "      <td>30</td>\n",
       "      <td>1</td>\n",
       "    </tr>\n",
       "    <tr>\n",
       "      <th>1</th>\n",
       "      <td>Microbisporicin A1 (Bacteriocin)</td>\n",
       "      <td>VTSWSLCTPGCTSPGGGSNCSFCC</td>\n",
       "      <td>24</td>\n",
       "      <td>1</td>\n",
       "    </tr>\n",
       "    <tr>\n",
       "      <th>2</th>\n",
       "      <td>Ruminococcin A (RumA; Bacteriocin)</td>\n",
       "      <td>GNGVLKTISHECNMNTWQFLFTCC</td>\n",
       "      <td>24</td>\n",
       "      <td>1</td>\n",
       "    </tr>\n",
       "    <tr>\n",
       "      <th>3</th>\n",
       "      <td>Lantibiotic michiganin-A (Bacteriocin)</td>\n",
       "      <td>SSSGWLCTLTIECGTIICACR</td>\n",
       "      <td>21</td>\n",
       "      <td>1</td>\n",
       "    </tr>\n",
       "    <tr>\n",
       "      <th>5</th>\n",
       "      <td>Garvieacin Q (GarQ; Bacteriocin)</td>\n",
       "      <td>EYHLMNGANGYLTRVNGKTVYRVTKDPVSAVFGVISNCWGSAGAGF...</td>\n",
       "      <td>50</td>\n",
       "      <td>1</td>\n",
       "    </tr>\n",
       "    <tr>\n",
       "      <th>...</th>\n",
       "      <td>...</td>\n",
       "      <td>...</td>\n",
       "      <td>...</td>\n",
       "      <td>...</td>\n",
       "    </tr>\n",
       "    <tr>\n",
       "      <th>11607</th>\n",
       "      <td>C18-PLL11</td>\n",
       "      <td>LLLLLLLLLLL</td>\n",
       "      <td>11</td>\n",
       "      <td>1</td>\n",
       "    </tr>\n",
       "    <tr>\n",
       "      <th>11608</th>\n",
       "      <td>C18-PLL23</td>\n",
       "      <td>LLLLLLLLLLLLLLLLLLLLLLL</td>\n",
       "      <td>23</td>\n",
       "      <td>1</td>\n",
       "    </tr>\n",
       "    <tr>\n",
       "      <th>11609</th>\n",
       "      <td>C18-PLL37</td>\n",
       "      <td>LLLLLLLLLLLLLLLLLLLLLLLLLLLLLLLLLLLLL</td>\n",
       "      <td>37</td>\n",
       "      <td>1</td>\n",
       "    </tr>\n",
       "    <tr>\n",
       "      <th>11610</th>\n",
       "      <td>C18-PLL37</td>\n",
       "      <td>LLLLLLLLLLLLLLLLLLLLLLLLLLLLLLLLLLLLL</td>\n",
       "      <td>37</td>\n",
       "      <td>1</td>\n",
       "    </tr>\n",
       "    <tr>\n",
       "      <th>11611</th>\n",
       "      <td>GE18</td>\n",
       "      <td>GAGIVVASIDTGVRVSHE</td>\n",
       "      <td>18</td>\n",
       "      <td>1</td>\n",
       "    </tr>\n",
       "  </tbody>\n",
       "</table>\n",
       "<p>9364 rows × 4 columns</p>\n",
       "</div>"
      ],
      "text/plain": [
       "                                         Name  \\\n",
       "0                  Epicidin 280 (Bacteriocin)   \n",
       "1            Microbisporicin A1 (Bacteriocin)   \n",
       "2          Ruminococcin A (RumA; Bacteriocin)   \n",
       "3      Lantibiotic michiganin-A (Bacteriocin)   \n",
       "5            Garvieacin Q (GarQ; Bacteriocin)   \n",
       "...                                       ...   \n",
       "11607                               C18-PLL11   \n",
       "11608                               C18-PLL23   \n",
       "11609                               C18-PLL37   \n",
       "11610                               C18-PLL37   \n",
       "11611                                    GE18   \n",
       "\n",
       "                                                Sequence  Length  \\\n",
       "0                         SLGPAIKATRQVCPKATRFVTVSCKKSDCQ      30   \n",
       "1                               VTSWSLCTPGCTSPGGGSNCSFCC      24   \n",
       "2                               GNGVLKTISHECNMNTWQFLFTCC      24   \n",
       "3                                  SSSGWLCTLTIECGTIICACR      21   \n",
       "5      EYHLMNGANGYLTRVNGKTVYRVTKDPVSAVFGVISNCWGSAGAGF...      50   \n",
       "...                                                  ...     ...   \n",
       "11607                                        LLLLLLLLLLL      11   \n",
       "11608                            LLLLLLLLLLLLLLLLLLLLLLL      23   \n",
       "11609              LLLLLLLLLLLLLLLLLLLLLLLLLLLLLLLLLLLLL      37   \n",
       "11610              LLLLLLLLLLLLLLLLLLLLLLLLLLLLLLLLLLLLL      37   \n",
       "11611                                 GAGIVVASIDTGVRVSHE      18   \n",
       "\n",
       "       Classification  \n",
       "0                   1  \n",
       "1                   1  \n",
       "2                   1  \n",
       "3                   1  \n",
       "5                   1  \n",
       "...               ...  \n",
       "11607               1  \n",
       "11608               1  \n",
       "11609               1  \n",
       "11610               1  \n",
       "11611               1  \n",
       "\n",
       "[9364 rows x 4 columns]"
      ]
     },
     "execution_count": 627,
     "metadata": {},
     "output_type": "execute_result"
    }
   ],
   "source": [
    "# select columns\n",
    "df_dramp = df_dramp[['Name', 'Sequence', 'Sequence_Length']]\n",
    "\n",
    "# rename columns\n",
    "df_dramp.rename(columns={'Sequence_Length': 'Length'}, inplace=True)\n",
    "\n",
    "# add Classification\n",
    "df_dramp['Classification'] = 1\n",
    "\n",
    "# remove sequences with length < 10 or > 50\n",
    "df_dramp = df_dramp[(df_dramp['Length'] >= 10) & (df_dramp['Length'] <= 50)]\n",
    "\n",
    "# display first few rows\n",
    "df_dramp"
   ]
  },
  {
   "cell_type": "markdown",
   "metadata": {},
   "source": [
    "## CAMPR3"
   ]
  },
  {
   "cell_type": "markdown",
   "metadata": {},
   "source": [
    "### Information:\n",
    "- link: http://www.camp3.bicnirrh.res.in/index.php\n",
    "- last update unknown\n",
    "- available data: 8164\n",
    "- used data: 3985\n",
    "- formats available: -"
   ]
  },
  {
   "cell_type": "markdown",
   "metadata": {},
   "source": [
    "### Downloading:\n",
    "- due to the lack of download all option, the data was scraped using scrape.py script and saved into a csv file"
   ]
  },
  {
   "cell_type": "markdown",
   "metadata": {},
   "source": [
    "### Preprocessing"
   ]
  },
  {
   "cell_type": "code",
   "execution_count": 628,
   "metadata": {},
   "outputs": [
    {
     "name": "stdout",
     "output_type": "stream",
     "text": [
      "Index(['Name', 'Sequence', 'Length'], dtype='object')\n",
      "(4075, 3)\n"
     ]
    }
   ],
   "source": [
    "df_campr3 = pd.read_csv('data/campr3.csv')\n",
    "print(df_campr3.columns)\n",
    "print(df_campr3.shape)"
   ]
  },
  {
   "cell_type": "code",
   "execution_count": 629,
   "metadata": {},
   "outputs": [
    {
     "data": {
      "text/html": [
       "<div>\n",
       "<style scoped>\n",
       "    .dataframe tbody tr th:only-of-type {\n",
       "        vertical-align: middle;\n",
       "    }\n",
       "\n",
       "    .dataframe tbody tr th {\n",
       "        vertical-align: top;\n",
       "    }\n",
       "\n",
       "    .dataframe thead th {\n",
       "        text-align: right;\n",
       "    }\n",
       "</style>\n",
       "<table border=\"1\" class=\"dataframe\">\n",
       "  <thead>\n",
       "    <tr style=\"text-align: right;\">\n",
       "      <th></th>\n",
       "      <th>Name</th>\n",
       "      <th>Sequence</th>\n",
       "      <th>Length</th>\n",
       "      <th>Classification</th>\n",
       "    </tr>\n",
       "  </thead>\n",
       "  <tbody>\n",
       "    <tr>\n",
       "      <th>62</th>\n",
       "      <td>HaA4</td>\n",
       "      <td>IGGYCSWLRL</td>\n",
       "      <td>10</td>\n",
       "      <td>1</td>\n",
       "    </tr>\n",
       "    <tr>\n",
       "      <th>63</th>\n",
       "      <td>Temporin-ECa</td>\n",
       "      <td>FLPGLLAGLL</td>\n",
       "      <td>10</td>\n",
       "      <td>1</td>\n",
       "    </tr>\n",
       "    <tr>\n",
       "      <th>64</th>\n",
       "      <td>Antifungal protein from coconut</td>\n",
       "      <td>EQCREEEDDR</td>\n",
       "      <td>10</td>\n",
       "      <td>1</td>\n",
       "    </tr>\n",
       "    <tr>\n",
       "      <th>65</th>\n",
       "      <td>Sesquin</td>\n",
       "      <td>KTCENLADTY</td>\n",
       "      <td>10</td>\n",
       "      <td>1</td>\n",
       "    </tr>\n",
       "    <tr>\n",
       "      <th>66</th>\n",
       "      <td>Gymnin</td>\n",
       "      <td>KTCENLADDY</td>\n",
       "      <td>10</td>\n",
       "      <td>1</td>\n",
       "    </tr>\n",
       "    <tr>\n",
       "      <th>...</th>\n",
       "      <td>...</td>\n",
       "      <td>...</td>\n",
       "      <td>...</td>\n",
       "      <td>...</td>\n",
       "    </tr>\n",
       "    <tr>\n",
       "      <th>4045</th>\n",
       "      <td>Beta-defensin 50</td>\n",
       "      <td>HPGTFHVRIKCMPKMTAVFGDNCSFYSSMGDLCNNTKSVCCMVPVR...</td>\n",
       "      <td>50</td>\n",
       "      <td>1</td>\n",
       "    </tr>\n",
       "    <tr>\n",
       "      <th>4046</th>\n",
       "      <td>Beta-defensin</td>\n",
       "      <td>KFKICERPNGSCRDFCLETEIHFGRCLNSRPCCLPLGHQPRIESTT...</td>\n",
       "      <td>50</td>\n",
       "      <td>1</td>\n",
       "    </tr>\n",
       "    <tr>\n",
       "      <th>4047</th>\n",
       "      <td>Defensin D1</td>\n",
       "      <td>KFCEKPSGTWSGVCGNSGACKDQCIRLEGAKHGSCNYKPPAHRCIC...</td>\n",
       "      <td>50</td>\n",
       "      <td>1</td>\n",
       "    </tr>\n",
       "    <tr>\n",
       "      <th>4048</th>\n",
       "      <td>Defensin D2</td>\n",
       "      <td>KFCEKPSGTWSGVCGNSGACKDQCIRLEGAKHGSCNYKLPAHRCIC...</td>\n",
       "      <td>50</td>\n",
       "      <td>1</td>\n",
       "    </tr>\n",
       "    <tr>\n",
       "      <th>4049</th>\n",
       "      <td>Truncated beta-defensin 16</td>\n",
       "      <td>FFLLFLQGAAGNSVLCRIRGGRCHVGSCHFPERHIGRCSGFQACCI...</td>\n",
       "      <td>50</td>\n",
       "      <td>1</td>\n",
       "    </tr>\n",
       "  </tbody>\n",
       "</table>\n",
       "<p>3985 rows × 4 columns</p>\n",
       "</div>"
      ],
      "text/plain": [
       "                                 Name  \\\n",
       "62                               HaA4   \n",
       "63                       Temporin-ECa   \n",
       "64    Antifungal protein from coconut   \n",
       "65                            Sesquin   \n",
       "66                             Gymnin   \n",
       "...                               ...   \n",
       "4045                 Beta-defensin 50   \n",
       "4046                    Beta-defensin   \n",
       "4047                      Defensin D1   \n",
       "4048                      Defensin D2   \n",
       "4049       Truncated beta-defensin 16   \n",
       "\n",
       "                                               Sequence  Length  \\\n",
       "62                                           IGGYCSWLRL      10   \n",
       "63                                           FLPGLLAGLL      10   \n",
       "64                                           EQCREEEDDR      10   \n",
       "65                                           KTCENLADTY      10   \n",
       "66                                           KTCENLADDY      10   \n",
       "...                                                 ...     ...   \n",
       "4045  HPGTFHVRIKCMPKMTAVFGDNCSFYSSMGDLCNNTKSVCCMVPVR...      50   \n",
       "4046  KFKICERPNGSCRDFCLETEIHFGRCLNSRPCCLPLGHQPRIESTT...      50   \n",
       "4047  KFCEKPSGTWSGVCGNSGACKDQCIRLEGAKHGSCNYKPPAHRCIC...      50   \n",
       "4048  KFCEKPSGTWSGVCGNSGACKDQCIRLEGAKHGSCNYKLPAHRCIC...      50   \n",
       "4049  FFLLFLQGAAGNSVLCRIRGGRCHVGSCHFPERHIGRCSGFQACCI...      50   \n",
       "\n",
       "      Classification  \n",
       "62                 1  \n",
       "63                 1  \n",
       "64                 1  \n",
       "65                 1  \n",
       "66                 1  \n",
       "...              ...  \n",
       "4045               1  \n",
       "4046               1  \n",
       "4047               1  \n",
       "4048               1  \n",
       "4049               1  \n",
       "\n",
       "[3985 rows x 4 columns]"
      ]
     },
     "execution_count": 629,
     "metadata": {},
     "output_type": "execute_result"
    }
   ],
   "source": [
    "# add Classification\n",
    "df_campr3['Classification'] = 1\n",
    "\n",
    "# remove sequences with length < 10 or > 50\n",
    "df_campr3 = df_campr3[(df_campr3['Length'] >= 10) & (df_campr3['Length'] <= 50)]\n",
    "\n",
    "# display first few rows\n",
    "df_campr3"
   ]
  },
  {
   "cell_type": "markdown",
   "metadata": {},
   "source": [
    "## UniProt"
   ]
  },
  {
   "cell_type": "markdown",
   "metadata": {},
   "source": [
    "### Information:\n",
    "- link: https://www.uniprot.org/\n",
    "- last update in 02/2025\n",
    "- available data: 253,206,170\n",
    "- used data: 11222\n",
    "- formats available: fasta, tsv, excel, json, xml, rdf/xml, text, gff, list, embeddings"
   ]
  },
  {
   "cell_type": "markdown",
   "metadata": {},
   "source": [
    "### Downloading:\n",
    "- follwoing query was applied in search: (length:[10 TO 50]) NOT (keyword:KW-0044) NOT (keyword:KW-0929) AND (reviewed:true)\n",
    "- downloaded all the data, not compressed, with customzied columns: Sequence, Length\n",
    "- the data was downloaded in excel(xlsx) format "
   ]
  },
  {
   "cell_type": "markdown",
   "metadata": {},
   "source": [
    "### Preprocessing"
   ]
  },
  {
   "cell_type": "code",
   "execution_count": 630,
   "metadata": {},
   "outputs": [
    {
     "name": "stderr",
     "output_type": "stream",
     "text": [
      "c:\\Users\\Ignacy\\Desktop\\programowanie\\Studia\\sem6\\AI_1\\.venv\\Lib\\site-packages\\openpyxl\\styles\\stylesheet.py:237: UserWarning: Workbook contains no default style, apply openpyxl's default\n",
      "  warn(\"Workbook contains no default style, apply openpyxl's default\")\n"
     ]
    },
    {
     "name": "stdout",
     "output_type": "stream",
     "text": [
      "Index(['Entry', 'Sequence', 'Length'], dtype='object')\n",
      "(11222, 3)\n"
     ]
    }
   ],
   "source": [
    "df_uniprot = pd.read_excel('data/uniprot.xlsx')\n",
    "print(df_uniprot.columns)\n",
    "print(df_uniprot.shape)"
   ]
  },
  {
   "cell_type": "code",
   "execution_count": 631,
   "metadata": {},
   "outputs": [
    {
     "data": {
      "text/html": [
       "<div>\n",
       "<style scoped>\n",
       "    .dataframe tbody tr th:only-of-type {\n",
       "        vertical-align: middle;\n",
       "    }\n",
       "\n",
       "    .dataframe tbody tr th {\n",
       "        vertical-align: top;\n",
       "    }\n",
       "\n",
       "    .dataframe thead th {\n",
       "        text-align: right;\n",
       "    }\n",
       "</style>\n",
       "<table border=\"1\" class=\"dataframe\">\n",
       "  <thead>\n",
       "    <tr style=\"text-align: right;\">\n",
       "      <th></th>\n",
       "      <th>Name</th>\n",
       "      <th>Sequence</th>\n",
       "      <th>Length</th>\n",
       "      <th>Classification</th>\n",
       "    </tr>\n",
       "  </thead>\n",
       "  <tbody>\n",
       "    <tr>\n",
       "      <th>0</th>\n",
       "      <td>A0A068B6Q6</td>\n",
       "      <td>PDGRNAAAKAFDLITPTVRKGCCSNPACILNNPNQCG</td>\n",
       "      <td>37</td>\n",
       "      <td>0</td>\n",
       "    </tr>\n",
       "    <tr>\n",
       "      <th>1</th>\n",
       "      <td>A0A0C5B5G6</td>\n",
       "      <td>MRWQEMGYIFYPRKLR</td>\n",
       "      <td>16</td>\n",
       "      <td>0</td>\n",
       "    </tr>\n",
       "    <tr>\n",
       "      <th>2</th>\n",
       "      <td>A0A2R8VHR8</td>\n",
       "      <td>MLKMSGWQRQSQNNSRNLRRECSRRKCIFIHHHT</td>\n",
       "      <td>34</td>\n",
       "      <td>0</td>\n",
       "    </tr>\n",
       "    <tr>\n",
       "      <th>3</th>\n",
       "      <td>A0A4V8GZX0</td>\n",
       "      <td>ECKGFGKSCVPGKNECCSGLTCSNKHKWCKVLL</td>\n",
       "      <td>33</td>\n",
       "      <td>0</td>\n",
       "    </tr>\n",
       "    <tr>\n",
       "      <th>4</th>\n",
       "      <td>A5A616</td>\n",
       "      <td>MLGNMNVFMAVLGIILFSGFLAAYFSHKWDD</td>\n",
       "      <td>31</td>\n",
       "      <td>0</td>\n",
       "    </tr>\n",
       "    <tr>\n",
       "      <th>...</th>\n",
       "      <td>...</td>\n",
       "      <td>...</td>\n",
       "      <td>...</td>\n",
       "      <td>...</td>\n",
       "    </tr>\n",
       "    <tr>\n",
       "      <th>11217</th>\n",
       "      <td>Q9Z6N3</td>\n",
       "      <td>MFFIAVRSRGFLDIHGILAARKGKQVVKSTAGAWIGSRGAVFYSLVS</td>\n",
       "      <td>47</td>\n",
       "      <td>0</td>\n",
       "    </tr>\n",
       "    <tr>\n",
       "      <th>11218</th>\n",
       "      <td>Q9ZDH6</td>\n",
       "      <td>MILLKVNHKPFMLPCVVIASLAYSEQVGWNRQLLPSSGEIKYL</td>\n",
       "      <td>43</td>\n",
       "      <td>0</td>\n",
       "    </tr>\n",
       "    <tr>\n",
       "      <th>11219</th>\n",
       "      <td>Q9ZDZ9</td>\n",
       "      <td>MEFCTNTIDTISYTTHESIEEPNLKEKDIEDDLVVVSLIGN</td>\n",
       "      <td>41</td>\n",
       "      <td>0</td>\n",
       "    </tr>\n",
       "    <tr>\n",
       "      <th>11220</th>\n",
       "      <td>Q9ZE67</td>\n",
       "      <td>MFDLSDSVKNAYLQNIFLLLHCSTLHNDCHDICITIKTRYTMIKNK...</td>\n",
       "      <td>50</td>\n",
       "      <td>0</td>\n",
       "    </tr>\n",
       "    <tr>\n",
       "      <th>11221</th>\n",
       "      <td>Q9ZZW3</td>\n",
       "      <td>MGLWISFGTPPSYTYLLIMNHKLLLINNNNLTEVHTYFNININIDK...</td>\n",
       "      <td>50</td>\n",
       "      <td>0</td>\n",
       "    </tr>\n",
       "  </tbody>\n",
       "</table>\n",
       "<p>11222 rows × 4 columns</p>\n",
       "</div>"
      ],
      "text/plain": [
       "             Name                                           Sequence  Length  \\\n",
       "0      A0A068B6Q6              PDGRNAAAKAFDLITPTVRKGCCSNPACILNNPNQCG      37   \n",
       "1      A0A0C5B5G6                                   MRWQEMGYIFYPRKLR      16   \n",
       "2      A0A2R8VHR8                 MLKMSGWQRQSQNNSRNLRRECSRRKCIFIHHHT      34   \n",
       "3      A0A4V8GZX0                  ECKGFGKSCVPGKNECCSGLTCSNKHKWCKVLL      33   \n",
       "4          A5A616                    MLGNMNVFMAVLGIILFSGFLAAYFSHKWDD      31   \n",
       "...           ...                                                ...     ...   \n",
       "11217      Q9Z6N3    MFFIAVRSRGFLDIHGILAARKGKQVVKSTAGAWIGSRGAVFYSLVS      47   \n",
       "11218      Q9ZDH6        MILLKVNHKPFMLPCVVIASLAYSEQVGWNRQLLPSSGEIKYL      43   \n",
       "11219      Q9ZDZ9          MEFCTNTIDTISYTTHESIEEPNLKEKDIEDDLVVVSLIGN      41   \n",
       "11220      Q9ZE67  MFDLSDSVKNAYLQNIFLLLHCSTLHNDCHDICITIKTRYTMIKNK...      50   \n",
       "11221      Q9ZZW3  MGLWISFGTPPSYTYLLIMNHKLLLINNNNLTEVHTYFNININIDK...      50   \n",
       "\n",
       "       Classification  \n",
       "0                   0  \n",
       "1                   0  \n",
       "2                   0  \n",
       "3                   0  \n",
       "4                   0  \n",
       "...               ...  \n",
       "11217               0  \n",
       "11218               0  \n",
       "11219               0  \n",
       "11220               0  \n",
       "11221               0  \n",
       "\n",
       "[11222 rows x 4 columns]"
      ]
     },
     "execution_count": 631,
     "metadata": {},
     "output_type": "execute_result"
    }
   ],
   "source": [
    "# rename columns\n",
    "df_uniprot.rename(columns={'Entry': 'Name'}, inplace=True)\n",
    "\n",
    "# add Classification\n",
    "df_uniprot['Classification'] = 0\n",
    "\n",
    "# display first few rows\n",
    "df_uniprot"
   ]
  },
  {
   "cell_type": "markdown",
   "metadata": {},
   "source": [
    "# Merging Data"
   ]
  },
  {
   "cell_type": "markdown",
   "metadata": {},
   "source": [
    "## Statistics Before and After Cleaning"
   ]
  },
  {
   "cell_type": "markdown",
   "metadata": {},
   "source": [
    "### Results before merge preprocessing"
   ]
  },
  {
   "cell_type": "code",
   "execution_count": 632,
   "metadata": {},
   "outputs": [],
   "source": [
    "valid_chars = set('ACDEFGHIKLMNPQRSTVWY')"
   ]
  },
  {
   "cell_type": "code",
   "execution_count": 633,
   "metadata": {},
   "outputs": [
    {
     "data": {
      "text/plain": [
       "(48496, 4)"
      ]
     },
     "execution_count": 633,
     "metadata": {},
     "output_type": "execute_result"
    }
   ],
   "source": [
    "df = pd.concat([df_dbamp3, df_dramp, df_campr3, df_uniprot], ignore_index=True)\n",
    "df.shape"
   ]
  },
  {
   "cell_type": "code",
   "execution_count": 634,
   "metadata": {},
   "outputs": [
    {
     "data": {
      "text/plain": [
       "<Axes: title={'center': 'Histogram of Sequence Lengths before Data Cleaning'}>"
      ]
     },
     "execution_count": 634,
     "metadata": {},
     "output_type": "execute_result"
    },
    {
     "data": {
      "image/png": "[encoded data removed]",
      "text/plain": [
       "<Figure size 640x480 with 1 Axes>"
      ]
     },
     "metadata": {},
     "output_type": "display_data"
    }
   ],
   "source": [
    "# plot histogram of sequence lengths\n",
    "plt.figure()\n",
    "plt.title('Histogram of Sequence Lengths before Data Cleaning')\n",
    "df['Length'].hist(bins=40)"
   ]
  },
  {
   "cell_type": "code",
   "execution_count": 635,
   "metadata": {},
   "outputs": [
    {
     "data": {
      "text/plain": [
       "Classification\n",
       "1    37274\n",
       "0    11222\n",
       "Name: count, dtype: int64"
      ]
     },
     "execution_count": 635,
     "metadata": {},
     "output_type": "execute_result"
    }
   ],
   "source": [
    "df['Classification'].value_counts()"
   ]
  },
  {
   "cell_type": "code",
   "execution_count": 636,
   "metadata": {},
   "outputs": [
    {
     "name": "stdout",
     "output_type": "stream",
     "text": [
      "removed rows with duplicates:\n",
      "14974\n",
      "removed rows with invalid characters:\n",
      "3536\n"
     ]
    }
   ],
   "source": [
    "# count and remove duplicates\n",
    "print(\"removed rows with duplicates:\")\n",
    "df[df.duplicated('Sequence')]\n",
    "print(df.duplicated('Sequence').sum())\n",
    "df.drop_duplicates('Sequence', inplace=True)\n",
    "\n",
    "# count and remove data with invalid characters\n",
    "print(\"removed rows with invalid characters:\")\n",
    "df['Valid'] = df['Sequence'].apply(lambda x: set(x).issubset(valid_chars))\n",
    "print(len(df) - df['Valid'].sum())\n",
    "df = df[df['Valid']]\n",
    "df.drop('Valid', axis=1, inplace=True)"
   ]
  },
  {
   "cell_type": "code",
   "execution_count": 637,
   "metadata": {},
   "outputs": [
    {
     "name": "stdout",
     "output_type": "stream",
     "text": [
      "(29986, 4)\n"
     ]
    },
    {
     "data": {
      "text/html": [
       "<div>\n",
       "<style scoped>\n",
       "    .dataframe tbody tr th:only-of-type {\n",
       "        vertical-align: middle;\n",
       "    }\n",
       "\n",
       "    .dataframe tbody tr th {\n",
       "        vertical-align: top;\n",
       "    }\n",
       "\n",
       "    .dataframe thead th {\n",
       "        text-align: right;\n",
       "    }\n",
       "</style>\n",
       "<table border=\"1\" class=\"dataframe\">\n",
       "  <thead>\n",
       "    <tr style=\"text-align: right;\">\n",
       "      <th></th>\n",
       "      <th>Name</th>\n",
       "      <th>Sequence</th>\n",
       "      <th>Length</th>\n",
       "      <th>Classification</th>\n",
       "    </tr>\n",
       "  </thead>\n",
       "  <tbody>\n",
       "    <tr>\n",
       "      <th>0</th>\n",
       "      <td>Designed AMP No.1</td>\n",
       "      <td>FAAKHNGKSLFKPQN</td>\n",
       "      <td>15</td>\n",
       "      <td>1</td>\n",
       "    </tr>\n",
       "    <tr>\n",
       "      <th>1</th>\n",
       "      <td>Synthetic construct&amp;&amp;4A</td>\n",
       "      <td>AAAAGSVWGAVNYTSDCNGECKRRGYKGGYCGSFANVNCWCET</td>\n",
       "      <td>43</td>\n",
       "      <td>1</td>\n",
       "    </tr>\n",
       "    <tr>\n",
       "      <th>2</th>\n",
       "      <td>gag</td>\n",
       "      <td>AAANPGLLETSEGCRQIL</td>\n",
       "      <td>18</td>\n",
       "      <td>1</td>\n",
       "    </tr>\n",
       "    <tr>\n",
       "      <th>3</th>\n",
       "      <td>gag</td>\n",
       "      <td>AAAPAATLEEHMTACQGV</td>\n",
       "      <td>18</td>\n",
       "      <td>1</td>\n",
       "    </tr>\n",
       "    <tr>\n",
       "      <th>4</th>\n",
       "      <td>jellyfish, Aurelia aurita&amp;&amp;Aurelin (jellyfish,...</td>\n",
       "      <td>AACSDRAHGHICESFKSFCKDSGRNGVKLRANCKKTCGLC</td>\n",
       "      <td>40</td>\n",
       "      <td>1</td>\n",
       "    </tr>\n",
       "  </tbody>\n",
       "</table>\n",
       "</div>"
      ],
      "text/plain": [
       "                                                Name  \\\n",
       "0                                  Designed AMP No.1   \n",
       "1                            Synthetic construct&&4A   \n",
       "2                                                gag   \n",
       "3                                                gag   \n",
       "4  jellyfish, Aurelia aurita&&Aurelin (jellyfish,...   \n",
       "\n",
       "                                      Sequence  Length  Classification  \n",
       "0                              FAAKHNGKSLFKPQN      15               1  \n",
       "1  AAAAGSVWGAVNYTSDCNGECKRRGYKGGYCGSFANVNCWCET      43               1  \n",
       "2                           AAANPGLLETSEGCRQIL      18               1  \n",
       "3                           AAAPAATLEEHMTACQGV      18               1  \n",
       "4     AACSDRAHGHICESFKSFCKDSGRNGVKLRANCKKTCGLC      40               1  "
      ]
     },
     "execution_count": 637,
     "metadata": {},
     "output_type": "execute_result"
    }
   ],
   "source": [
    "print(df.shape)\n",
    "df.head()"
   ]
  },
  {
   "cell_type": "code",
   "execution_count": 638,
   "metadata": {},
   "outputs": [
    {
     "data": {
      "text/plain": [
       "<Axes: title={'center': 'Histogram of Sequence Lengths after Data Cleaning'}>"
      ]
     },
     "execution_count": 638,
     "metadata": {},
     "output_type": "execute_result"
    },
    {
     "data": {
      "image/png": "[encoded data removed]",
      "text/plain": [
       "<Figure size 640x480 with 1 Axes>"
      ]
     },
     "metadata": {},
     "output_type": "display_data"
    }
   ],
   "source": [
    "# plot histogram of sequence lengths\n",
    "plt.figure()\n",
    "plt.title('Histogram of Sequence Lengths after Data Cleaning')\n",
    "df['Length'].hist(bins=40)"
   ]
  },
  {
   "cell_type": "code",
   "execution_count": 639,
   "metadata": {},
   "outputs": [
    {
     "data": {
      "text/plain": [
       "Classification\n",
       "1    22572\n",
       "0     7414\n",
       "Name: count, dtype: int64"
      ]
     },
     "execution_count": 639,
     "metadata": {},
     "output_type": "execute_result"
    }
   ],
   "source": [
    "df['Classification'].value_counts()"
   ]
  },
  {
   "cell_type": "code",
   "execution_count": 640,
   "metadata": {},
   "outputs": [
    {
     "data": {
      "text/plain": [
       "<matplotlib.legend.Legend at 0x292ef84e300>"
      ]
     },
     "execution_count": 640,
     "metadata": {},
     "output_type": "execute_result"
    },
    {
     "data": {
      "image/png": "[encoded data removed]",
      "text/plain": [
       "<Figure size 1000x600 with 1 Axes>"
      ]
     },
     "metadata": {},
     "output_type": "display_data"
    }
   ],
   "source": [
    "# plot histogram of sequence lengths for each class\n",
    "plt.figure(figsize=(10, 6))\n",
    "plt.title('Sequence Lengths for each Class')\n",
    "df[df['Classification'] == 0]['Length'].hist(bins=40, alpha=0.5, label='0')\n",
    "df[df['Classification'] == 1]['Length'].hist(bins=40, alpha=0.5, label='1')\n",
    "plt.legend()"
   ]
  },
  {
   "cell_type": "markdown",
   "metadata": {},
   "source": [
    "## Calculate sequence statistics"
   ]
  },
  {
   "cell_type": "code",
   "execution_count": 641,
   "metadata": {},
   "outputs": [
    {
     "data": {
      "text/html": [
       "<div>\n",
       "<style scoped>\n",
       "    .dataframe tbody tr th:only-of-type {\n",
       "        vertical-align: middle;\n",
       "    }\n",
       "\n",
       "    .dataframe tbody tr th {\n",
       "        vertical-align: top;\n",
       "    }\n",
       "\n",
       "    .dataframe thead th {\n",
       "        text-align: right;\n",
       "    }\n",
       "</style>\n",
       "<table border=\"1\" class=\"dataframe\">\n",
       "  <thead>\n",
       "    <tr style=\"text-align: right;\">\n",
       "      <th></th>\n",
       "      <th>Name</th>\n",
       "      <th>Sequence</th>\n",
       "      <th>Length</th>\n",
       "      <th>Classification</th>\n",
       "      <th>Molecular_Weight</th>\n",
       "      <th>Isoelectric_Point</th>\n",
       "      <th>Amino_Acid_Composition</th>\n",
       "      <th>Hydrophobicity</th>\n",
       "      <th>Instability_Index</th>\n",
       "    </tr>\n",
       "  </thead>\n",
       "  <tbody>\n",
       "    <tr>\n",
       "      <th>0</th>\n",
       "      <td>Designed AMP No.1</td>\n",
       "      <td>FAAKHNGKSLFKPQN</td>\n",
       "      <td>15</td>\n",
       "      <td>1</td>\n",
       "      <td>1686.9107</td>\n",
       "      <td>10.302064</td>\n",
       "      <td>{'A': 2, 'C': 0, 'D': 0, 'E': 0, 'F': 2, 'G': ...</td>\n",
       "      <td>-1.013333</td>\n",
       "      <td>7.233333</td>\n",
       "    </tr>\n",
       "    <tr>\n",
       "      <th>1</th>\n",
       "      <td>Synthetic construct&amp;&amp;4A</td>\n",
       "      <td>AAAAGSVWGAVNYTSDCNGECKRRGYKGGYCGSFANVNCWCET</td>\n",
       "      <td>43</td>\n",
       "      <td>1</td>\n",
       "      <td>4527.9440</td>\n",
       "      <td>7.842273</td>\n",
       "      <td>{'A': 6, 'C': 5, 'D': 1, 'E': 2, 'F': 1, 'G': ...</td>\n",
       "      <td>-0.346512</td>\n",
       "      <td>29.088372</td>\n",
       "    </tr>\n",
       "    <tr>\n",
       "      <th>2</th>\n",
       "      <td>gag</td>\n",
       "      <td>AAANPGLLETSEGCRQIL</td>\n",
       "      <td>18</td>\n",
       "      <td>1</td>\n",
       "      <td>1843.0668</td>\n",
       "      <td>4.531511</td>\n",
       "      <td>{'A': 3, 'C': 1, 'D': 0, 'E': 2, 'F': 0, 'G': ...</td>\n",
       "      <td>0.077778</td>\n",
       "      <td>39.944444</td>\n",
       "    </tr>\n",
       "    <tr>\n",
       "      <th>3</th>\n",
       "      <td>gag</td>\n",
       "      <td>AAAPAATLEEHMTACQGV</td>\n",
       "      <td>18</td>\n",
       "      <td>1</td>\n",
       "      <td>1770.9810</td>\n",
       "      <td>4.507355</td>\n",
       "      <td>{'A': 6, 'C': 1, 'D': 0, 'E': 2, 'F': 0, 'G': ...</td>\n",
       "      <td>0.338889</td>\n",
       "      <td>63.388889</td>\n",
       "    </tr>\n",
       "    <tr>\n",
       "      <th>4</th>\n",
       "      <td>jellyfish, Aurelia aurita&amp;&amp;Aurelin (jellyfish,...</td>\n",
       "      <td>AACSDRAHGHICESFKSFCKDSGRNGVKLRANCKKTCGLC</td>\n",
       "      <td>40</td>\n",
       "      <td>1</td>\n",
       "      <td>4302.9452</td>\n",
       "      <td>9.126870</td>\n",
       "      <td>{'A': 4, 'C': 6, 'D': 2, 'E': 1, 'F': 2, 'G': ...</td>\n",
       "      <td>-0.457500</td>\n",
       "      <td>31.572500</td>\n",
       "    </tr>\n",
       "    <tr>\n",
       "      <th>...</th>\n",
       "      <td>...</td>\n",
       "      <td>...</td>\n",
       "      <td>...</td>\n",
       "      <td>...</td>\n",
       "      <td>...</td>\n",
       "      <td>...</td>\n",
       "      <td>...</td>\n",
       "      <td>...</td>\n",
       "      <td>...</td>\n",
       "    </tr>\n",
       "    <tr>\n",
       "      <th>48491</th>\n",
       "      <td>Q9Z6N3</td>\n",
       "      <td>MFFIAVRSRGFLDIHGILAARKGKQVVKSTAGAWIGSRGAVFYSLVS</td>\n",
       "      <td>47</td>\n",
       "      <td>0</td>\n",
       "      <td>5069.9290</td>\n",
       "      <td>11.580343</td>\n",
       "      <td>{'A': 6, 'C': 0, 'D': 1, 'E': 0, 'F': 4, 'G': ...</td>\n",
       "      <td>0.534043</td>\n",
       "      <td>28.953404</td>\n",
       "    </tr>\n",
       "    <tr>\n",
       "      <th>48492</th>\n",
       "      <td>Q9ZDH6</td>\n",
       "      <td>MILLKVNHKPFMLPCVVIASLAYSEQVGWNRQLLPSSGEIKYL</td>\n",
       "      <td>43</td>\n",
       "      <td>0</td>\n",
       "      <td>4887.8270</td>\n",
       "      <td>9.034938</td>\n",
       "      <td>{'A': 2, 'C': 1, 'D': 0, 'E': 2, 'F': 1, 'G': ...</td>\n",
       "      <td>0.393023</td>\n",
       "      <td>49.139535</td>\n",
       "    </tr>\n",
       "    <tr>\n",
       "      <th>48493</th>\n",
       "      <td>Q9ZDZ9</td>\n",
       "      <td>MEFCTNTIDTISYTTHESIEEPNLKEKDIEDDLVVVSLIGN</td>\n",
       "      <td>41</td>\n",
       "      <td>0</td>\n",
       "      <td>4657.0982</td>\n",
       "      <td>4.050028</td>\n",
       "      <td>{'A': 0, 'C': 1, 'D': 4, 'E': 6, 'F': 1, 'G': ...</td>\n",
       "      <td>-0.292683</td>\n",
       "      <td>45.570732</td>\n",
       "    </tr>\n",
       "    <tr>\n",
       "      <th>48494</th>\n",
       "      <td>Q9ZE67</td>\n",
       "      <td>MFDLSDSVKNAYLQNIFLLLHCSTLHNDCHDICITIKTRYTMIKNK...</td>\n",
       "      <td>50</td>\n",
       "      <td>0</td>\n",
       "      <td>5814.7990</td>\n",
       "      <td>7.760307</td>\n",
       "      <td>{'A': 2, 'C': 3, 'D': 4, 'E': 0, 'F': 2, 'G': ...</td>\n",
       "      <td>0.186000</td>\n",
       "      <td>40.242000</td>\n",
       "    </tr>\n",
       "    <tr>\n",
       "      <th>48495</th>\n",
       "      <td>Q9ZZW3</td>\n",
       "      <td>MGLWISFGTPPSYTYLLIMNHKLLLINNNNLTEVHTYFNININIDK...</td>\n",
       "      <td>50</td>\n",
       "      <td>0</td>\n",
       "      <td>5939.8789</td>\n",
       "      <td>6.807743</td>\n",
       "      <td>{'A': 0, 'C': 0, 'D': 1, 'E': 1, 'F': 2, 'G': ...</td>\n",
       "      <td>0.134000</td>\n",
       "      <td>62.616000</td>\n",
       "    </tr>\n",
       "  </tbody>\n",
       "</table>\n",
       "<p>29986 rows × 9 columns</p>\n",
       "</div>"
      ],
      "text/plain": [
       "                                                    Name  \\\n",
       "0                                      Designed AMP No.1   \n",
       "1                                Synthetic construct&&4A   \n",
       "2                                                    gag   \n",
       "3                                                    gag   \n",
       "4      jellyfish, Aurelia aurita&&Aurelin (jellyfish,...   \n",
       "...                                                  ...   \n",
       "48491                                             Q9Z6N3   \n",
       "48492                                             Q9ZDH6   \n",
       "48493                                             Q9ZDZ9   \n",
       "48494                                             Q9ZE67   \n",
       "48495                                             Q9ZZW3   \n",
       "\n",
       "                                                Sequence  Length  \\\n",
       "0                                        FAAKHNGKSLFKPQN      15   \n",
       "1            AAAAGSVWGAVNYTSDCNGECKRRGYKGGYCGSFANVNCWCET      43   \n",
       "2                                     AAANPGLLETSEGCRQIL      18   \n",
       "3                                     AAAPAATLEEHMTACQGV      18   \n",
       "4               AACSDRAHGHICESFKSFCKDSGRNGVKLRANCKKTCGLC      40   \n",
       "...                                                  ...     ...   \n",
       "48491    MFFIAVRSRGFLDIHGILAARKGKQVVKSTAGAWIGSRGAVFYSLVS      47   \n",
       "48492        MILLKVNHKPFMLPCVVIASLAYSEQVGWNRQLLPSSGEIKYL      43   \n",
       "48493          MEFCTNTIDTISYTTHESIEEPNLKEKDIEDDLVVVSLIGN      41   \n",
       "48494  MFDLSDSVKNAYLQNIFLLLHCSTLHNDCHDICITIKTRYTMIKNK...      50   \n",
       "48495  MGLWISFGTPPSYTYLLIMNHKLLLINNNNLTEVHTYFNININIDK...      50   \n",
       "\n",
       "       Classification  Molecular_Weight  Isoelectric_Point  \\\n",
       "0                   1         1686.9107          10.302064   \n",
       "1                   1         4527.9440           7.842273   \n",
       "2                   1         1843.0668           4.531511   \n",
       "3                   1         1770.9810           4.507355   \n",
       "4                   1         4302.9452           9.126870   \n",
       "...               ...               ...                ...   \n",
       "48491               0         5069.9290          11.580343   \n",
       "48492               0         4887.8270           9.034938   \n",
       "48493               0         4657.0982           4.050028   \n",
       "48494               0         5814.7990           7.760307   \n",
       "48495               0         5939.8789           6.807743   \n",
       "\n",
       "                                  Amino_Acid_Composition  Hydrophobicity  \\\n",
       "0      {'A': 2, 'C': 0, 'D': 0, 'E': 0, 'F': 2, 'G': ...       -1.013333   \n",
       "1      {'A': 6, 'C': 5, 'D': 1, 'E': 2, 'F': 1, 'G': ...       -0.346512   \n",
       "2      {'A': 3, 'C': 1, 'D': 0, 'E': 2, 'F': 0, 'G': ...        0.077778   \n",
       "3      {'A': 6, 'C': 1, 'D': 0, 'E': 2, 'F': 0, 'G': ...        0.338889   \n",
       "4      {'A': 4, 'C': 6, 'D': 2, 'E': 1, 'F': 2, 'G': ...       -0.457500   \n",
       "...                                                  ...             ...   \n",
       "48491  {'A': 6, 'C': 0, 'D': 1, 'E': 0, 'F': 4, 'G': ...        0.534043   \n",
       "48492  {'A': 2, 'C': 1, 'D': 0, 'E': 2, 'F': 1, 'G': ...        0.393023   \n",
       "48493  {'A': 0, 'C': 1, 'D': 4, 'E': 6, 'F': 1, 'G': ...       -0.292683   \n",
       "48494  {'A': 2, 'C': 3, 'D': 4, 'E': 0, 'F': 2, 'G': ...        0.186000   \n",
       "48495  {'A': 0, 'C': 0, 'D': 1, 'E': 1, 'F': 2, 'G': ...        0.134000   \n",
       "\n",
       "       Instability_Index  \n",
       "0               7.233333  \n",
       "1              29.088372  \n",
       "2              39.944444  \n",
       "3              63.388889  \n",
       "4              31.572500  \n",
       "...                  ...  \n",
       "48491          28.953404  \n",
       "48492          49.139535  \n",
       "48493          45.570732  \n",
       "48494          40.242000  \n",
       "48495          62.616000  \n",
       "\n",
       "[29986 rows x 9 columns]"
      ]
     },
     "execution_count": 641,
     "metadata": {},
     "output_type": "execute_result"
    }
   ],
   "source": [
    "df['Molecular_Weight'] = df['Sequence'].apply(lambda seq: molecular_weight(seq, seq_type='protein'))\n",
    "df['Isoelectric_Point'] = df['Sequence'].apply(lambda seq: ProteinAnalysis(seq).isoelectric_point())\n",
    "df['Amino_Acid_Composition'] = df['Sequence'].apply(lambda seq: ProteinAnalysis(seq).count_amino_acids())\n",
    "df['Hydrophobicity'] = df['Sequence'].apply(lambda seq: ProteinAnalysis(seq).gravy())\n",
    "df['Instability_Index'] = df['Sequence'].apply(lambda seq: ProteinAnalysis(seq).instability_index())\n",
    "\n",
    "df"
   ]
  },
  {
   "cell_type": "markdown",
   "metadata": {},
   "source": [
    "### Save the data"
   ]
  },
  {
   "cell_type": "code",
   "execution_count": 642,
   "metadata": {},
   "outputs": [],
   "source": [
    "df.to_csv('data/amp_data.csv', index=False)"
   ]
  }
 ],
 "metadata": {
  "kernelspec": {
   "display_name": ".venv",
   "language": "python",
   "name": "python3"
  },
  "language_info": {
   "codemirror_mode": {
    "name": "ipython",
    "version": 3
   },
   "file_extension": ".py",
   "mimetype": "text/x-python",
   "name": "python",
   "nbconvert_exporter": "python",
   "pygments_lexer": "ipython3",
   "version": "3.12.1"
  }
 },
 "nbformat": 4,
 "nbformat_minor": 2
}
