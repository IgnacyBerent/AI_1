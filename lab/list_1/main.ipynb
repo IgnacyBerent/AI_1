{
 "cells": [
  {
   "cell_type": "code",
   "execution_count": 1,
   "metadata": {},
   "outputs": [],
   "source": [
    "import pandas as pd\n",
    "from Bio.SeqUtils import molecular_weight\n",
    "from Bio.SeqUtils.ProtParam import ProteinAnalysis\n",
    "from Bio import SeqIO\n",
    "import matplotlib.pyplot as plt"
   ]
  },
  {
   "cell_type": "code",
   "execution_count": 2,
   "metadata": {},
   "outputs": [],
   "source": [
    "valid_chars = set('ACDEFGHIKLMNPQRSTVWY')"
   ]
  },
  {
   "cell_type": "markdown",
   "metadata": {},
   "source": [
    "# Downloading positive data"
   ]
  },
  {
   "cell_type": "markdown",
   "metadata": {},
   "source": [
    "## dbAMP3"
   ]
  },
  {
   "cell_type": "markdown",
   "metadata": {},
   "source": [
    "### Information:\n",
    "- link: https://awi.cuhk.edu.cn/dbAMP/download2024.php\n",
    "- last update in 06/2024\n",
    "- available data: 35600\n",
    "- data downloaded: 35600\n",
    "- formats available: xlsx, fasta"
   ]
  },
  {
   "cell_type": "markdown",
   "metadata": {},
   "source": [
    "### Downloading:\n",
    "- download tab was selected\n",
    "- no filters or queries were applied\n",
    "- Download All Antimicrobial peptides Sequence Data was selected\n",
    "- the data was downloaded in xlsx format"
   ]
  },
  {
   "cell_type": "markdown",
   "metadata": {},
   "source": [
    "### Standardization:"
   ]
  },
  {
   "cell_type": "code",
   "execution_count": 3,
   "metadata": {},
   "outputs": [
    {
     "name": "stdout",
     "output_type": "stream",
     "text": [
      "Index(['dbAMP_ID', 'Name', 'Source', 'Tax', 'Uniprot', 'PDB', 'Targets',\n",
      "       'Seq'],\n",
      "      dtype='object')\n",
      "(35600, 8)\n"
     ]
    }
   ],
   "source": [
    "df_dbamp3 = pd.read_excel('data/dbAMP3.xlsx')\n",
    "print(df_dbamp3.columns)\n",
    "print(df_dbamp3.shape)"
   ]
  },
  {
   "cell_type": "code",
   "execution_count": 4,
   "metadata": {},
   "outputs": [
    {
     "data": {
      "text/html": [
       "<div>\n",
       "<style scoped>\n",
       "    .dataframe tbody tr th:only-of-type {\n",
       "        vertical-align: middle;\n",
       "    }\n",
       "\n",
       "    .dataframe tbody tr th {\n",
       "        vertical-align: top;\n",
       "    }\n",
       "\n",
       "    .dataframe thead th {\n",
       "        text-align: right;\n",
       "    }\n",
       "</style>\n",
       "<table border=\"1\" class=\"dataframe\">\n",
       "  <thead>\n",
       "    <tr style=\"text-align: right;\">\n",
       "      <th></th>\n",
       "      <th>Name</th>\n",
       "      <th>Sequence</th>\n",
       "      <th>Length</th>\n",
       "      <th>Classification</th>\n",
       "    </tr>\n",
       "  </thead>\n",
       "  <tbody>\n",
       "    <tr>\n",
       "      <th>0</th>\n",
       "      <td>Designed AMP No.1</td>\n",
       "      <td>FAAKHNGKSLFKPQN</td>\n",
       "      <td>15</td>\n",
       "      <td>1</td>\n",
       "    </tr>\n",
       "    <tr>\n",
       "      <th>1</th>\n",
       "      <td>Synthetic construct&amp;&amp;4A</td>\n",
       "      <td>AAAAGSVWGAVNYTSDCNGECKRRGYKGGYCGSFANVNCWCET</td>\n",
       "      <td>43</td>\n",
       "      <td>1</td>\n",
       "    </tr>\n",
       "    <tr>\n",
       "      <th>2</th>\n",
       "      <td>gag</td>\n",
       "      <td>AAANPGLLETSEGCRQIL</td>\n",
       "      <td>18</td>\n",
       "      <td>1</td>\n",
       "    </tr>\n",
       "    <tr>\n",
       "      <th>3</th>\n",
       "      <td>gag</td>\n",
       "      <td>AAAPAATLEEHMTACQGV</td>\n",
       "      <td>18</td>\n",
       "      <td>1</td>\n",
       "    </tr>\n",
       "    <tr>\n",
       "      <th>5</th>\n",
       "      <td>jellyfish, Aurelia aurita&amp;&amp;Aurelin (jellyfish,...</td>\n",
       "      <td>AACSDRAHGHICESFKSFCKDSGRNGVKLRANCKKTCGLC</td>\n",
       "      <td>40</td>\n",
       "      <td>1</td>\n",
       "    </tr>\n",
       "    <tr>\n",
       "      <th>...</th>\n",
       "      <td>...</td>\n",
       "      <td>...</td>\n",
       "      <td>...</td>\n",
       "      <td>...</td>\n",
       "    </tr>\n",
       "    <tr>\n",
       "      <th>35595</th>\n",
       "      <td>Designed AMP No.78</td>\n",
       "      <td>LNFHAVRKLFIWIDA</td>\n",
       "      <td>15</td>\n",
       "      <td>1</td>\n",
       "    </tr>\n",
       "    <tr>\n",
       "      <th>35596</th>\n",
       "      <td>Designed AMP No.79</td>\n",
       "      <td>VHFYVAGQYWCRITNHKGRYV</td>\n",
       "      <td>21</td>\n",
       "      <td>1</td>\n",
       "    </tr>\n",
       "    <tr>\n",
       "      <th>35597</th>\n",
       "      <td>Designed AMP No.80</td>\n",
       "      <td>YKQTIAAHNWNYRKYAFCIQVRPYCV</td>\n",
       "      <td>26</td>\n",
       "      <td>1</td>\n",
       "    </tr>\n",
       "    <tr>\n",
       "      <th>35598</th>\n",
       "      <td>Designed AMP No.81</td>\n",
       "      <td>QRRMFRFPMHRFK</td>\n",
       "      <td>13</td>\n",
       "      <td>1</td>\n",
       "    </tr>\n",
       "    <tr>\n",
       "      <th>35599</th>\n",
       "      <td>Designed AMP No.82</td>\n",
       "      <td>AAKVHPAWQIFHWKQAVKVRN</td>\n",
       "      <td>21</td>\n",
       "      <td>1</td>\n",
       "    </tr>\n",
       "  </tbody>\n",
       "</table>\n",
       "<p>23925 rows × 4 columns</p>\n",
       "</div>"
      ],
      "text/plain": [
       "                                                    Name  \\\n",
       "0                                      Designed AMP No.1   \n",
       "1                                Synthetic construct&&4A   \n",
       "2                                                    gag   \n",
       "3                                                    gag   \n",
       "5      jellyfish, Aurelia aurita&&Aurelin (jellyfish,...   \n",
       "...                                                  ...   \n",
       "35595                                 Designed AMP No.78   \n",
       "35596                                 Designed AMP No.79   \n",
       "35597                                 Designed AMP No.80   \n",
       "35598                                 Designed AMP No.81   \n",
       "35599                                 Designed AMP No.82   \n",
       "\n",
       "                                          Sequence  Length  Classification  \n",
       "0                                  FAAKHNGKSLFKPQN      15               1  \n",
       "1      AAAAGSVWGAVNYTSDCNGECKRRGYKGGYCGSFANVNCWCET      43               1  \n",
       "2                               AAANPGLLETSEGCRQIL      18               1  \n",
       "3                               AAAPAATLEEHMTACQGV      18               1  \n",
       "5         AACSDRAHGHICESFKSFCKDSGRNGVKLRANCKKTCGLC      40               1  \n",
       "...                                            ...     ...             ...  \n",
       "35595                              LNFHAVRKLFIWIDA      15               1  \n",
       "35596                        VHFYVAGQYWCRITNHKGRYV      21               1  \n",
       "35597                   YKQTIAAHNWNYRKYAFCIQVRPYCV      26               1  \n",
       "35598                                QRRMFRFPMHRFK      13               1  \n",
       "35599                        AAKVHPAWQIFHWKQAVKVRN      21               1  \n",
       "\n",
       "[23925 rows x 4 columns]"
      ]
     },
     "execution_count": 4,
     "metadata": {},
     "output_type": "execute_result"
    }
   ],
   "source": [
    "# select columns\n",
    "df_dbamp3 = df_dbamp3[['Name', 'Seq']]\n",
    "\n",
    "# add sequence length and Classification\n",
    "df_dbamp3['Length'] = df_dbamp3['Seq'].apply(len)\n",
    "df_dbamp3['Classification'] = 1\n",
    "\n",
    "# rename columns\n",
    "df_dbamp3.rename(columns={'Seq': 'Sequence'}, inplace=True)\n",
    "\n",
    "# remove sequences with length < 10 or > 50\n",
    "df_dbamp3 = df_dbamp3[(df_dbamp3['Length'] >= 10) & (df_dbamp3['Length'] <= 50)]\n",
    "\n",
    "# display first few rows\n",
    "df_dbamp3"
   ]
  },
  {
   "cell_type": "markdown",
   "metadata": {},
   "source": [
    "## DRAMP"
   ]
  },
  {
   "cell_type": "markdown",
   "metadata": {},
   "source": [
    "### Information:\n",
    "- link: http://dramp.cpu-bioinfor.org/downloads/\n",
    "- last update in 09/2024\n",
    "- available data: 30260\n",
    "- data downloaded: 11612\n",
    "- formats available: xlsx, txt, fasta"
   ]
  },
  {
   "cell_type": "markdown",
   "metadata": {},
   "source": [
    "### Downloading:\n",
    "- downloads tab was selected\n",
    "- no filters or queries were applied\n",
    "- General dataset was selected\n",
    "- the data was downloaded in xlsx format "
   ]
  },
  {
   "cell_type": "markdown",
   "metadata": {},
   "source": [
    "### Standardization:"
   ]
  },
  {
   "cell_type": "code",
   "execution_count": 5,
   "metadata": {},
   "outputs": [
    {
     "name": "stdout",
     "output_type": "stream",
     "text": [
      "Index(['DRAMP_ID', 'Sequence', 'Sequence_Length', 'Name', 'Swiss_Prot_Entry',\n",
      "       'Family', 'Gene', 'Source', 'Activity', 'Protein_existence',\n",
      "       'Structure', 'Structure_Description', 'PDB_ID', 'Comments',\n",
      "       'Target_Organism', 'Hemolytic_activity', 'Linear/Cyclic/Branched',\n",
      "       'N-terminal_Modification', 'C-terminal_Modification',\n",
      "       'Other_Modifications', 'Stereochemistry', 'Cytotoxicity',\n",
      "       'Binding_Traget', 'Pubmed_ID', 'Reference', 'Author', 'Title'],\n",
      "      dtype='object')\n",
      "(11612, 27)\n"
     ]
    }
   ],
   "source": [
    "df_dramp = pd.read_excel('data/dramp.xlsx')\n",
    "print(df_dramp.columns)\n",
    "print(df_dramp.shape)"
   ]
  },
  {
   "cell_type": "code",
   "execution_count": 6,
   "metadata": {},
   "outputs": [
    {
     "data": {
      "text/html": [
       "<div>\n",
       "<style scoped>\n",
       "    .dataframe tbody tr th:only-of-type {\n",
       "        vertical-align: middle;\n",
       "    }\n",
       "\n",
       "    .dataframe tbody tr th {\n",
       "        vertical-align: top;\n",
       "    }\n",
       "\n",
       "    .dataframe thead th {\n",
       "        text-align: right;\n",
       "    }\n",
       "</style>\n",
       "<table border=\"1\" class=\"dataframe\">\n",
       "  <thead>\n",
       "    <tr style=\"text-align: right;\">\n",
       "      <th></th>\n",
       "      <th>Name</th>\n",
       "      <th>Sequence</th>\n",
       "      <th>Length</th>\n",
       "      <th>Classification</th>\n",
       "    </tr>\n",
       "  </thead>\n",
       "  <tbody>\n",
       "    <tr>\n",
       "      <th>0</th>\n",
       "      <td>Epicidin 280 (Bacteriocin)</td>\n",
       "      <td>SLGPAIKATRQVCPKATRFVTVSCKKSDCQ</td>\n",
       "      <td>30</td>\n",
       "      <td>1</td>\n",
       "    </tr>\n",
       "    <tr>\n",
       "      <th>1</th>\n",
       "      <td>Microbisporicin A1 (Bacteriocin)</td>\n",
       "      <td>VTSWSLCTPGCTSPGGGSNCSFCC</td>\n",
       "      <td>24</td>\n",
       "      <td>1</td>\n",
       "    </tr>\n",
       "    <tr>\n",
       "      <th>2</th>\n",
       "      <td>Ruminococcin A (RumA; Bacteriocin)</td>\n",
       "      <td>GNGVLKTISHECNMNTWQFLFTCC</td>\n",
       "      <td>24</td>\n",
       "      <td>1</td>\n",
       "    </tr>\n",
       "    <tr>\n",
       "      <th>3</th>\n",
       "      <td>Lantibiotic michiganin-A (Bacteriocin)</td>\n",
       "      <td>SSSGWLCTLTIECGTIICACR</td>\n",
       "      <td>21</td>\n",
       "      <td>1</td>\n",
       "    </tr>\n",
       "    <tr>\n",
       "      <th>5</th>\n",
       "      <td>Garvieacin Q (GarQ; Bacteriocin)</td>\n",
       "      <td>EYHLMNGANGYLTRVNGKTVYRVTKDPVSAVFGVISNCWGSAGAGF...</td>\n",
       "      <td>50</td>\n",
       "      <td>1</td>\n",
       "    </tr>\n",
       "    <tr>\n",
       "      <th>...</th>\n",
       "      <td>...</td>\n",
       "      <td>...</td>\n",
       "      <td>...</td>\n",
       "      <td>...</td>\n",
       "    </tr>\n",
       "    <tr>\n",
       "      <th>11607</th>\n",
       "      <td>C18-PLL11</td>\n",
       "      <td>LLLLLLLLLLL</td>\n",
       "      <td>11</td>\n",
       "      <td>1</td>\n",
       "    </tr>\n",
       "    <tr>\n",
       "      <th>11608</th>\n",
       "      <td>C18-PLL23</td>\n",
       "      <td>LLLLLLLLLLLLLLLLLLLLLLL</td>\n",
       "      <td>23</td>\n",
       "      <td>1</td>\n",
       "    </tr>\n",
       "    <tr>\n",
       "      <th>11609</th>\n",
       "      <td>C18-PLL37</td>\n",
       "      <td>LLLLLLLLLLLLLLLLLLLLLLLLLLLLLLLLLLLLL</td>\n",
       "      <td>37</td>\n",
       "      <td>1</td>\n",
       "    </tr>\n",
       "    <tr>\n",
       "      <th>11610</th>\n",
       "      <td>C18-PLL37</td>\n",
       "      <td>LLLLLLLLLLLLLLLLLLLLLLLLLLLLLLLLLLLLL</td>\n",
       "      <td>37</td>\n",
       "      <td>1</td>\n",
       "    </tr>\n",
       "    <tr>\n",
       "      <th>11611</th>\n",
       "      <td>GE18</td>\n",
       "      <td>GAGIVVASIDTGVRVSHE</td>\n",
       "      <td>18</td>\n",
       "      <td>1</td>\n",
       "    </tr>\n",
       "  </tbody>\n",
       "</table>\n",
       "<p>9364 rows × 4 columns</p>\n",
       "</div>"
      ],
      "text/plain": [
       "                                         Name  \\\n",
       "0                  Epicidin 280 (Bacteriocin)   \n",
       "1            Microbisporicin A1 (Bacteriocin)   \n",
       "2          Ruminococcin A (RumA; Bacteriocin)   \n",
       "3      Lantibiotic michiganin-A (Bacteriocin)   \n",
       "5            Garvieacin Q (GarQ; Bacteriocin)   \n",
       "...                                       ...   \n",
       "11607                               C18-PLL11   \n",
       "11608                               C18-PLL23   \n",
       "11609                               C18-PLL37   \n",
       "11610                               C18-PLL37   \n",
       "11611                                    GE18   \n",
       "\n",
       "                                                Sequence  Length  \\\n",
       "0                         SLGPAIKATRQVCPKATRFVTVSCKKSDCQ      30   \n",
       "1                               VTSWSLCTPGCTSPGGGSNCSFCC      24   \n",
       "2                               GNGVLKTISHECNMNTWQFLFTCC      24   \n",
       "3                                  SSSGWLCTLTIECGTIICACR      21   \n",
       "5      EYHLMNGANGYLTRVNGKTVYRVTKDPVSAVFGVISNCWGSAGAGF...      50   \n",
       "...                                                  ...     ...   \n",
       "11607                                        LLLLLLLLLLL      11   \n",
       "11608                            LLLLLLLLLLLLLLLLLLLLLLL      23   \n",
       "11609              LLLLLLLLLLLLLLLLLLLLLLLLLLLLLLLLLLLLL      37   \n",
       "11610              LLLLLLLLLLLLLLLLLLLLLLLLLLLLLLLLLLLLL      37   \n",
       "11611                                 GAGIVVASIDTGVRVSHE      18   \n",
       "\n",
       "       Classification  \n",
       "0                   1  \n",
       "1                   1  \n",
       "2                   1  \n",
       "3                   1  \n",
       "5                   1  \n",
       "...               ...  \n",
       "11607               1  \n",
       "11608               1  \n",
       "11609               1  \n",
       "11610               1  \n",
       "11611               1  \n",
       "\n",
       "[9364 rows x 4 columns]"
      ]
     },
     "execution_count": 6,
     "metadata": {},
     "output_type": "execute_result"
    }
   ],
   "source": [
    "# select columns\n",
    "df_dramp = df_dramp[['Name', 'Sequence', 'Sequence_Length']]\n",
    "\n",
    "# rename columns\n",
    "df_dramp.rename(columns={'Sequence_Length': 'Length'}, inplace=True)\n",
    "\n",
    "# add Classification\n",
    "df_dramp['Classification'] = 1\n",
    "\n",
    "# remove sequences with length < 10 or > 50\n",
    "df_dramp = df_dramp[(df_dramp['Length'] >= 10) & (df_dramp['Length'] <= 50)]\n",
    "\n",
    "# display first few rows\n",
    "df_dramp"
   ]
  },
  {
   "cell_type": "markdown",
   "metadata": {},
   "source": [
    "## CAMPR3"
   ]
  },
  {
   "cell_type": "markdown",
   "metadata": {},
   "source": [
    "### Information:\n",
    "- link: http://www.camp3.bicnirrh.res.in/index.php\n",
    "- last update unknown\n",
    "- available data: 8164\n",
    "- data downloaded: 4075\n",
    "- formats available: -"
   ]
  },
  {
   "cell_type": "markdown",
   "metadata": {},
   "source": [
    "### Downloading:\n",
    "- due to the lack of download all option, the data was scraped using scrape.py script and saved into a csv file"
   ]
  },
  {
   "cell_type": "markdown",
   "metadata": {},
   "source": [
    "### Standardization:"
   ]
  },
  {
   "cell_type": "code",
   "execution_count": 7,
   "metadata": {},
   "outputs": [
    {
     "name": "stdout",
     "output_type": "stream",
     "text": [
      "Index(['Name', 'Sequence', 'Length'], dtype='object')\n",
      "(4075, 3)\n"
     ]
    }
   ],
   "source": [
    "df_campr3 = pd.read_csv('data/campr3.csv')\n",
    "print(df_campr3.columns)\n",
    "print(df_campr3.shape)"
   ]
  },
  {
   "cell_type": "code",
   "execution_count": 8,
   "metadata": {},
   "outputs": [
    {
     "data": {
      "text/html": [
       "<div>\n",
       "<style scoped>\n",
       "    .dataframe tbody tr th:only-of-type {\n",
       "        vertical-align: middle;\n",
       "    }\n",
       "\n",
       "    .dataframe tbody tr th {\n",
       "        vertical-align: top;\n",
       "    }\n",
       "\n",
       "    .dataframe thead th {\n",
       "        text-align: right;\n",
       "    }\n",
       "</style>\n",
       "<table border=\"1\" class=\"dataframe\">\n",
       "  <thead>\n",
       "    <tr style=\"text-align: right;\">\n",
       "      <th></th>\n",
       "      <th>Name</th>\n",
       "      <th>Sequence</th>\n",
       "      <th>Length</th>\n",
       "      <th>Classification</th>\n",
       "    </tr>\n",
       "  </thead>\n",
       "  <tbody>\n",
       "    <tr>\n",
       "      <th>62</th>\n",
       "      <td>HaA4</td>\n",
       "      <td>IGGYCSWLRL</td>\n",
       "      <td>10</td>\n",
       "      <td>1</td>\n",
       "    </tr>\n",
       "    <tr>\n",
       "      <th>63</th>\n",
       "      <td>Temporin-ECa</td>\n",
       "      <td>FLPGLLAGLL</td>\n",
       "      <td>10</td>\n",
       "      <td>1</td>\n",
       "    </tr>\n",
       "    <tr>\n",
       "      <th>64</th>\n",
       "      <td>Antifungal protein from coconut</td>\n",
       "      <td>EQCREEEDDR</td>\n",
       "      <td>10</td>\n",
       "      <td>1</td>\n",
       "    </tr>\n",
       "    <tr>\n",
       "      <th>65</th>\n",
       "      <td>Sesquin</td>\n",
       "      <td>KTCENLADTY</td>\n",
       "      <td>10</td>\n",
       "      <td>1</td>\n",
       "    </tr>\n",
       "    <tr>\n",
       "      <th>66</th>\n",
       "      <td>Gymnin</td>\n",
       "      <td>KTCENLADDY</td>\n",
       "      <td>10</td>\n",
       "      <td>1</td>\n",
       "    </tr>\n",
       "    <tr>\n",
       "      <th>...</th>\n",
       "      <td>...</td>\n",
       "      <td>...</td>\n",
       "      <td>...</td>\n",
       "      <td>...</td>\n",
       "    </tr>\n",
       "    <tr>\n",
       "      <th>4045</th>\n",
       "      <td>Beta-defensin 50</td>\n",
       "      <td>HPGTFHVRIKCMPKMTAVFGDNCSFYSSMGDLCNNTKSVCCMVPVR...</td>\n",
       "      <td>50</td>\n",
       "      <td>1</td>\n",
       "    </tr>\n",
       "    <tr>\n",
       "      <th>4046</th>\n",
       "      <td>Beta-defensin</td>\n",
       "      <td>KFKICERPNGSCRDFCLETEIHFGRCLNSRPCCLPLGHQPRIESTT...</td>\n",
       "      <td>50</td>\n",
       "      <td>1</td>\n",
       "    </tr>\n",
       "    <tr>\n",
       "      <th>4047</th>\n",
       "      <td>Defensin D1</td>\n",
       "      <td>KFCEKPSGTWSGVCGNSGACKDQCIRLEGAKHGSCNYKPPAHRCIC...</td>\n",
       "      <td>50</td>\n",
       "      <td>1</td>\n",
       "    </tr>\n",
       "    <tr>\n",
       "      <th>4048</th>\n",
       "      <td>Defensin D2</td>\n",
       "      <td>KFCEKPSGTWSGVCGNSGACKDQCIRLEGAKHGSCNYKLPAHRCIC...</td>\n",
       "      <td>50</td>\n",
       "      <td>1</td>\n",
       "    </tr>\n",
       "    <tr>\n",
       "      <th>4049</th>\n",
       "      <td>Truncated beta-defensin 16</td>\n",
       "      <td>FFLLFLQGAAGNSVLCRIRGGRCHVGSCHFPERHIGRCSGFQACCI...</td>\n",
       "      <td>50</td>\n",
       "      <td>1</td>\n",
       "    </tr>\n",
       "  </tbody>\n",
       "</table>\n",
       "<p>3985 rows × 4 columns</p>\n",
       "</div>"
      ],
      "text/plain": [
       "                                 Name  \\\n",
       "62                               HaA4   \n",
       "63                       Temporin-ECa   \n",
       "64    Antifungal protein from coconut   \n",
       "65                            Sesquin   \n",
       "66                             Gymnin   \n",
       "...                               ...   \n",
       "4045                 Beta-defensin 50   \n",
       "4046                    Beta-defensin   \n",
       "4047                      Defensin D1   \n",
       "4048                      Defensin D2   \n",
       "4049       Truncated beta-defensin 16   \n",
       "\n",
       "                                               Sequence  Length  \\\n",
       "62                                           IGGYCSWLRL      10   \n",
       "63                                           FLPGLLAGLL      10   \n",
       "64                                           EQCREEEDDR      10   \n",
       "65                                           KTCENLADTY      10   \n",
       "66                                           KTCENLADDY      10   \n",
       "...                                                 ...     ...   \n",
       "4045  HPGTFHVRIKCMPKMTAVFGDNCSFYSSMGDLCNNTKSVCCMVPVR...      50   \n",
       "4046  KFKICERPNGSCRDFCLETEIHFGRCLNSRPCCLPLGHQPRIESTT...      50   \n",
       "4047  KFCEKPSGTWSGVCGNSGACKDQCIRLEGAKHGSCNYKPPAHRCIC...      50   \n",
       "4048  KFCEKPSGTWSGVCGNSGACKDQCIRLEGAKHGSCNYKLPAHRCIC...      50   \n",
       "4049  FFLLFLQGAAGNSVLCRIRGGRCHVGSCHFPERHIGRCSGFQACCI...      50   \n",
       "\n",
       "      Classification  \n",
       "62                 1  \n",
       "63                 1  \n",
       "64                 1  \n",
       "65                 1  \n",
       "66                 1  \n",
       "...              ...  \n",
       "4045               1  \n",
       "4046               1  \n",
       "4047               1  \n",
       "4048               1  \n",
       "4049               1  \n",
       "\n",
       "[3985 rows x 4 columns]"
      ]
     },
     "execution_count": 8,
     "metadata": {},
     "output_type": "execute_result"
    }
   ],
   "source": [
    "# add Classification\n",
    "df_campr3['Classification'] = 1\n",
    "\n",
    "# remove sequences with length < 10 or > 50\n",
    "df_campr3 = df_campr3[(df_campr3['Length'] >= 10) & (df_campr3['Length'] <= 50)]\n",
    "\n",
    "# display first few rows\n",
    "df_campr3"
   ]
  },
  {
   "cell_type": "markdown",
   "metadata": {},
   "source": [
    "## Merging Data Positive Data"
   ]
  },
  {
   "cell_type": "markdown",
   "metadata": {},
   "source": [
    "### Statistics Before and After Cleaning"
   ]
  },
  {
   "cell_type": "markdown",
   "metadata": {},
   "source": [
    "### Before Cleaning"
   ]
  },
  {
   "cell_type": "code",
   "execution_count": 9,
   "metadata": {},
   "outputs": [
    {
     "data": {
      "text/plain": [
       "(37274, 4)"
      ]
     },
     "execution_count": 9,
     "metadata": {},
     "output_type": "execute_result"
    }
   ],
   "source": [
    "df_positive = pd.concat([df_dbamp3, df_dramp, df_campr3], ignore_index=True)\n",
    "df_positive.shape"
   ]
  },
  {
   "cell_type": "code",
   "execution_count": 10,
   "metadata": {},
   "outputs": [
    {
     "data": {
      "image/png": "[encoded data removed]",
      "text/plain": [
       "<Figure size 640x480 with 1 Axes>"
      ]
     },
     "metadata": {},
     "output_type": "display_data"
    }
   ],
   "source": [
    "# plot histogram of sequence lengths\n",
    "plt.figure()\n",
    "plt.title('Histogram of Sequence Lengths before Data Cleaning')\n",
    "df_positive['Length'].hist(bins=40)\n",
    "plt.xlabel('Sequence Length')\n",
    "plt.ylabel('Frequency')\n",
    "plt.show()"
   ]
  },
  {
   "cell_type": "markdown",
   "metadata": {},
   "source": [
    "### Data Cleaning"
   ]
  },
  {
   "cell_type": "code",
   "execution_count": 11,
   "metadata": {},
   "outputs": [
    {
     "name": "stdout",
     "output_type": "stream",
     "text": [
      "removed rows with duplicates:\n",
      "11700\n",
      "removed rows with invalid characters:\n",
      "3002\n"
     ]
    }
   ],
   "source": [
    "# count and remove duplicates\n",
    "print(\"removed rows with duplicates:\")\n",
    "df_positive[df_positive.duplicated('Sequence')]\n",
    "print(df_positive.duplicated('Sequence').sum())\n",
    "df_positive.drop_duplicates('Sequence', inplace=True)\n",
    "\n",
    "# count and remove data with invalid characters\n",
    "print(\"removed rows with invalid characters:\")\n",
    "df_positive['Valid'] = df_positive['Sequence'].apply(lambda x: set(x).issubset(valid_chars))\n",
    "print(len(df_positive) - df_positive['Valid'].sum())\n",
    "df_positive = df_positive[df_positive['Valid']]\n",
    "df_positive.drop('Valid', axis=1, inplace=True)"
   ]
  },
  {
   "cell_type": "markdown",
   "metadata": {},
   "source": [
    "### After Cleaning"
   ]
  },
  {
   "cell_type": "code",
   "execution_count": 12,
   "metadata": {},
   "outputs": [
    {
     "name": "stdout",
     "output_type": "stream",
     "text": [
      "(22572, 4)\n"
     ]
    },
    {
     "data": {
      "text/html": [
       "<div>\n",
       "<style scoped>\n",
       "    .dataframe tbody tr th:only-of-type {\n",
       "        vertical-align: middle;\n",
       "    }\n",
       "\n",
       "    .dataframe tbody tr th {\n",
       "        vertical-align: top;\n",
       "    }\n",
       "\n",
       "    .dataframe thead th {\n",
       "        text-align: right;\n",
       "    }\n",
       "</style>\n",
       "<table border=\"1\" class=\"dataframe\">\n",
       "  <thead>\n",
       "    <tr style=\"text-align: right;\">\n",
       "      <th></th>\n",
       "      <th>Name</th>\n",
       "      <th>Sequence</th>\n",
       "      <th>Length</th>\n",
       "      <th>Classification</th>\n",
       "    </tr>\n",
       "  </thead>\n",
       "  <tbody>\n",
       "    <tr>\n",
       "      <th>0</th>\n",
       "      <td>Designed AMP No.1</td>\n",
       "      <td>FAAKHNGKSLFKPQN</td>\n",
       "      <td>15</td>\n",
       "      <td>1</td>\n",
       "    </tr>\n",
       "    <tr>\n",
       "      <th>1</th>\n",
       "      <td>Synthetic construct&amp;&amp;4A</td>\n",
       "      <td>AAAAGSVWGAVNYTSDCNGECKRRGYKGGYCGSFANVNCWCET</td>\n",
       "      <td>43</td>\n",
       "      <td>1</td>\n",
       "    </tr>\n",
       "    <tr>\n",
       "      <th>2</th>\n",
       "      <td>gag</td>\n",
       "      <td>AAANPGLLETSEGCRQIL</td>\n",
       "      <td>18</td>\n",
       "      <td>1</td>\n",
       "    </tr>\n",
       "    <tr>\n",
       "      <th>3</th>\n",
       "      <td>gag</td>\n",
       "      <td>AAAPAATLEEHMTACQGV</td>\n",
       "      <td>18</td>\n",
       "      <td>1</td>\n",
       "    </tr>\n",
       "    <tr>\n",
       "      <th>4</th>\n",
       "      <td>jellyfish, Aurelia aurita&amp;&amp;Aurelin (jellyfish,...</td>\n",
       "      <td>AACSDRAHGHICESFKSFCKDSGRNGVKLRANCKKTCGLC</td>\n",
       "      <td>40</td>\n",
       "      <td>1</td>\n",
       "    </tr>\n",
       "  </tbody>\n",
       "</table>\n",
       "</div>"
      ],
      "text/plain": [
       "                                                Name  \\\n",
       "0                                  Designed AMP No.1   \n",
       "1                            Synthetic construct&&4A   \n",
       "2                                                gag   \n",
       "3                                                gag   \n",
       "4  jellyfish, Aurelia aurita&&Aurelin (jellyfish,...   \n",
       "\n",
       "                                      Sequence  Length  Classification  \n",
       "0                              FAAKHNGKSLFKPQN      15               1  \n",
       "1  AAAAGSVWGAVNYTSDCNGECKRRGYKGGYCGSFANVNCWCET      43               1  \n",
       "2                           AAANPGLLETSEGCRQIL      18               1  \n",
       "3                           AAAPAATLEEHMTACQGV      18               1  \n",
       "4     AACSDRAHGHICESFKSFCKDSGRNGVKLRANCKKTCGLC      40               1  "
      ]
     },
     "execution_count": 12,
     "metadata": {},
     "output_type": "execute_result"
    }
   ],
   "source": [
    "print(df_positive.shape)\n",
    "df_positive.head()"
   ]
  },
  {
   "cell_type": "code",
   "execution_count": 13,
   "metadata": {},
   "outputs": [
    {
     "data": {
      "image/png": "[encoded data removed]",
      "text/plain": [
       "<Figure size 640x480 with 1 Axes>"
      ]
     },
     "metadata": {},
     "output_type": "display_data"
    }
   ],
   "source": [
    "# plot histogram of sequence lengths\n",
    "plt.figure()\n",
    "plt.title('Histogram of Sequence Lengths after Data Cleaning')\n",
    "df_positive['Length'].hist(bins=40)\n",
    "plt.xlabel('Sequence Length')\n",
    "plt.ylabel('Frequency')\n",
    "plt.show()"
   ]
  },
  {
   "cell_type": "markdown",
   "metadata": {},
   "source": [
    "# Downloading negativ data"
   ]
  },
  {
   "cell_type": "markdown",
   "metadata": {},
   "source": [
    "## Uniprot"
   ]
  },
  {
   "cell_type": "markdown",
   "metadata": {},
   "source": [
    "### Information:\n",
    "- link: https://www.uniprot.org/\n",
    "- last update in 02/2025\n",
    "- available data: 253,206,170\n",
    "- used data: 3 171 792\n",
    "- formats available: fasta, tsv, excel, json, xml, rdf/xml, text, gff, list, embeddings"
   ]
  },
  {
   "cell_type": "markdown",
   "metadata": {},
   "source": [
    "### Downloading:\n",
    "- follwoing query was applied in search: (length:[10 TO 50]) NOT (keyword:KW-0929) NOT (keyword:KW-0930) NOT (keyword:KW-0295) NOT (keyword:KW-0964) NOT (keyword:KW-0809) NOT (keyword:KW-0929) NOT (keyword:KW-0211) NOT (keyword:KW-0078) NOT (keyword:KW-0295) NOT (keyword:KW-0812) NOT (keyword:KW-0800) NOT (keyword:KW-0051) NOT (keyword:KW-0930)\n",
    "- downloaded all the data\n",
    "- the data was downloaded in fasta format"
   ]
  },
  {
   "cell_type": "markdown",
   "metadata": {},
   "source": [
    "### Standardization:"
   ]
  },
  {
   "cell_type": "code",
   "execution_count": 14,
   "metadata": {},
   "outputs": [
    {
     "data": {
      "text/html": [
       "<div>\n",
       "<style scoped>\n",
       "    .dataframe tbody tr th:only-of-type {\n",
       "        vertical-align: middle;\n",
       "    }\n",
       "\n",
       "    .dataframe tbody tr th {\n",
       "        vertical-align: top;\n",
       "    }\n",
       "\n",
       "    .dataframe thead th {\n",
       "        text-align: right;\n",
       "    }\n",
       "</style>\n",
       "<table border=\"1\" class=\"dataframe\">\n",
       "  <thead>\n",
       "    <tr style=\"text-align: right;\">\n",
       "      <th></th>\n",
       "      <th>Name</th>\n",
       "      <th>Sequence</th>\n",
       "      <th>Length</th>\n",
       "      <th>Classification</th>\n",
       "    </tr>\n",
       "  </thead>\n",
       "  <tbody>\n",
       "    <tr>\n",
       "      <th>0</th>\n",
       "      <td>tr|A0A087WZT3|A0A087WZT3_HUMAN</td>\n",
       "      <td>MELSAEYLREKLQRDLEAEHVLPSPGGVGQVRGETAASETQLGS</td>\n",
       "      <td>44</td>\n",
       "      <td>0</td>\n",
       "    </tr>\n",
       "    <tr>\n",
       "      <th>1</th>\n",
       "      <td>sp|A0A2R8VHR8|DT3UO_MOUSE</td>\n",
       "      <td>MLKMSGWQRQSQNNSRNLRRECSRRKCIFIHHHT</td>\n",
       "      <td>34</td>\n",
       "      <td>0</td>\n",
       "    </tr>\n",
       "    <tr>\n",
       "      <th>2</th>\n",
       "      <td>tr|A6IP77|A6IP77_RAT</td>\n",
       "      <td>MGQRPPGVSNLRTLPILAVPTGTWAVGELTPD</td>\n",
       "      <td>32</td>\n",
       "      <td>0</td>\n",
       "    </tr>\n",
       "    <tr>\n",
       "      <th>3</th>\n",
       "      <td>tr|B7SCJ2|B7SCJ2_RAT</td>\n",
       "      <td>IYSNLANCNPNPENPVVVDHSVRVNSVGSSTSSTQPLLVHEDA</td>\n",
       "      <td>43</td>\n",
       "      <td>0</td>\n",
       "    </tr>\n",
       "    <tr>\n",
       "      <th>4</th>\n",
       "      <td>sp|C0HK49|DEF_NICSU</td>\n",
       "      <td>KDCKRESNTFPGICITKPPCRKACIREKFTDGHCSKILRRCLCTKPC</td>\n",
       "      <td>47</td>\n",
       "      <td>0</td>\n",
       "    </tr>\n",
       "    <tr>\n",
       "      <th>...</th>\n",
       "      <td>...</td>\n",
       "      <td>...</td>\n",
       "      <td>...</td>\n",
       "      <td>...</td>\n",
       "    </tr>\n",
       "    <tr>\n",
       "      <th>3171787</th>\n",
       "      <td>tr|Z9JNS9|Z9JNS9_9GAMM</td>\n",
       "      <td>MQGNAGRLDLKAVDHHDFFKPLRWTVRTGFCGIA</td>\n",
       "      <td>34</td>\n",
       "      <td>0</td>\n",
       "    </tr>\n",
       "    <tr>\n",
       "      <th>3171788</th>\n",
       "      <td>tr|Z9JNT2|Z9JNT2_9GAMM</td>\n",
       "      <td>MSLDARRLNTMNPNGTLAINTAHKQHCIGDPNPQSHHPTKPHHRIRDA</td>\n",
       "      <td>48</td>\n",
       "      <td>0</td>\n",
       "    </tr>\n",
       "    <tr>\n",
       "      <th>3171789</th>\n",
       "      <td>tr|Z9JNW0|Z9JNW0_9GAMM</td>\n",
       "      <td>MSGCALQGITTVQPWPDALLRVVVTAIPGGT</td>\n",
       "      <td>31</td>\n",
       "      <td>0</td>\n",
       "    </tr>\n",
       "    <tr>\n",
       "      <th>3171790</th>\n",
       "      <td>tr|Z9JPG6|Z9JPG6_9MICO</td>\n",
       "      <td>MKVRASLRSLVNKPGAQVVRRRGRLYVINKQNPRFKGRQKG</td>\n",
       "      <td>41</td>\n",
       "      <td>0</td>\n",
       "    </tr>\n",
       "    <tr>\n",
       "      <th>3171791</th>\n",
       "      <td>tr|Z9JR18|Z9JR18_9MICO</td>\n",
       "      <td>MPSEKVQFNVYLPKQLVVAVKHRAIDESTSLSALVEKALTQYLETP...</td>\n",
       "      <td>50</td>\n",
       "      <td>0</td>\n",
       "    </tr>\n",
       "  </tbody>\n",
       "</table>\n",
       "<p>3171792 rows × 4 columns</p>\n",
       "</div>"
      ],
      "text/plain": [
       "                                   Name  \\\n",
       "0        tr|A0A087WZT3|A0A087WZT3_HUMAN   \n",
       "1             sp|A0A2R8VHR8|DT3UO_MOUSE   \n",
       "2                  tr|A6IP77|A6IP77_RAT   \n",
       "3                  tr|B7SCJ2|B7SCJ2_RAT   \n",
       "4                   sp|C0HK49|DEF_NICSU   \n",
       "...                                 ...   \n",
       "3171787          tr|Z9JNS9|Z9JNS9_9GAMM   \n",
       "3171788          tr|Z9JNT2|Z9JNT2_9GAMM   \n",
       "3171789          tr|Z9JNW0|Z9JNW0_9GAMM   \n",
       "3171790          tr|Z9JPG6|Z9JPG6_9MICO   \n",
       "3171791          tr|Z9JR18|Z9JR18_9MICO   \n",
       "\n",
       "                                                  Sequence  Length  \\\n",
       "0             MELSAEYLREKLQRDLEAEHVLPSPGGVGQVRGETAASETQLGS      44   \n",
       "1                       MLKMSGWQRQSQNNSRNLRRECSRRKCIFIHHHT      34   \n",
       "2                         MGQRPPGVSNLRTLPILAVPTGTWAVGELTPD      32   \n",
       "3              IYSNLANCNPNPENPVVVDHSVRVNSVGSSTSSTQPLLVHEDA      43   \n",
       "4          KDCKRESNTFPGICITKPPCRKACIREKFTDGHCSKILRRCLCTKPC      47   \n",
       "...                                                    ...     ...   \n",
       "3171787                 MQGNAGRLDLKAVDHHDFFKPLRWTVRTGFCGIA      34   \n",
       "3171788   MSLDARRLNTMNPNGTLAINTAHKQHCIGDPNPQSHHPTKPHHRIRDA      48   \n",
       "3171789                    MSGCALQGITTVQPWPDALLRVVVTAIPGGT      31   \n",
       "3171790          MKVRASLRSLVNKPGAQVVRRRGRLYVINKQNPRFKGRQKG      41   \n",
       "3171791  MPSEKVQFNVYLPKQLVVAVKHRAIDESTSLSALVEKALTQYLETP...      50   \n",
       "\n",
       "         Classification  \n",
       "0                     0  \n",
       "1                     0  \n",
       "2                     0  \n",
       "3                     0  \n",
       "4                     0  \n",
       "...                 ...  \n",
       "3171787               0  \n",
       "3171788               0  \n",
       "3171789               0  \n",
       "3171790               0  \n",
       "3171791               0  \n",
       "\n",
       "[3171792 rows x 4 columns]"
      ]
     },
     "execution_count": 14,
     "metadata": {},
     "output_type": "execute_result"
    }
   ],
   "source": [
    "records = SeqIO.parse('data/uniprot.fasta', 'fasta')\n",
    "data = [[record.id, str(record.seq), len(record.seq)] for record in records]\n",
    "df_negative = pd.DataFrame(data, columns=['Name', 'Sequence', 'Length'])\n",
    "df_negative['Classification'] = 0\n",
    "\n",
    "df_negative"
   ]
  },
  {
   "cell_type": "markdown",
   "metadata": {},
   "source": [
    "## Statistics Before and After Cleaning"
   ]
  },
  {
   "cell_type": "markdown",
   "metadata": {},
   "source": [
    "### Before Cleaning"
   ]
  },
  {
   "cell_type": "code",
   "execution_count": 15,
   "metadata": {},
   "outputs": [
    {
     "data": {
      "text/plain": [
       "(3171792, 4)"
      ]
     },
     "execution_count": 15,
     "metadata": {},
     "output_type": "execute_result"
    }
   ],
   "source": [
    "df_negative.shape"
   ]
  },
  {
   "cell_type": "code",
   "execution_count": 16,
   "metadata": {},
   "outputs": [
    {
     "data": {
      "image/png": "[encoded data removed]",
      "text/plain": [
       "<Figure size 640x480 with 1 Axes>"
      ]
     },
     "metadata": {},
     "output_type": "display_data"
    }
   ],
   "source": [
    "# plot histogram of sequence lengths\n",
    "plt.figure()\n",
    "plt.title('Histogram of Sequence Lengths before Data Cleaning')\n",
    "df_negative['Length'].hist(bins=40)\n",
    "plt.xlabel('Sequence Length')\n",
    "plt.ylabel('Frequency')\n",
    "plt.show()"
   ]
  },
  {
   "cell_type": "markdown",
   "metadata": {},
   "source": [
    "### Data Cleaning"
   ]
  },
  {
   "cell_type": "code",
   "execution_count": 17,
   "metadata": {},
   "outputs": [
    {
     "name": "stdout",
     "output_type": "stream",
     "text": [
      "removed rows with duplicates:\n",
      "551498\n",
      "removed rows with invalid characters:\n",
      "19846\n"
     ]
    },
    {
     "name": "stderr",
     "output_type": "stream",
     "text": [
      "C:\\Users\\Ignacy\\AppData\\Local\\Temp\\ipykernel_19108\\1185366275.py:12: SettingWithCopyWarning: \n",
      "A value is trying to be set on a copy of a slice from a DataFrame\n",
      "\n",
      "See the caveats in the documentation: https://pandas.pydata.org/pandas-docs/stable/user_guide/indexing.html#returning-a-view-versus-a-copy\n",
      "  df_negative.drop('Valid', axis=1, inplace=True)\n"
     ]
    }
   ],
   "source": [
    "# count and remove duplicates\n",
    "print(\"removed rows with duplicates:\")\n",
    "df_negative[df_negative.duplicated('Sequence')]\n",
    "print(df_negative.duplicated('Sequence').sum())\n",
    "df_negative.drop_duplicates('Sequence', inplace=True)\n",
    "\n",
    "# count and remove data with invalid characters\n",
    "print(\"removed rows with invalid characters:\")\n",
    "df_negative['Valid'] = df_negative['Sequence'].apply(lambda x: set(x).issubset(valid_chars))\n",
    "print(len(df_negative) - df_negative['Valid'].sum())\n",
    "df_negative = df_negative[df_negative['Valid']]\n",
    "df_negative.drop('Valid', axis=1, inplace=True)"
   ]
  },
  {
   "cell_type": "markdown",
   "metadata": {},
   "source": [
    "### After Cleaning"
   ]
  },
  {
   "cell_type": "code",
   "execution_count": 18,
   "metadata": {},
   "outputs": [
    {
     "data": {
      "text/plain": [
       "(2600448, 4)"
      ]
     },
     "execution_count": 18,
     "metadata": {},
     "output_type": "execute_result"
    }
   ],
   "source": [
    "df_negative.shape"
   ]
  },
  {
   "cell_type": "code",
   "execution_count": 19,
   "metadata": {},
   "outputs": [
    {
     "data": {
      "image/png": "[encoded data removed]",
      "text/plain": [
       "<Figure size 640x480 with 1 Axes>"
      ]
     },
     "metadata": {},
     "output_type": "display_data"
    }
   ],
   "source": [
    "# plot histogram of sequence lengths\n",
    "plt.figure()\n",
    "plt.title('Histogram of Sequence Lengths after Data Cleaning')\n",
    "df_negative['Length'].hist(bins=40)\n",
    "plt.xlabel('Sequence Length')\n",
    "plt.ylabel('Frequency')\n",
    "plt.show()"
   ]
  },
  {
   "cell_type": "markdown",
   "metadata": {},
   "source": [
    "## Compare and adjust to the positive data"
   ]
  },
  {
   "cell_type": "code",
   "execution_count": 20,
   "metadata": {},
   "outputs": [
    {
     "data": {
      "image/png": "[encoded data removed]",
      "text/plain": [
       "<Figure size 640x480 with 1 Axes>"
      ]
     },
     "metadata": {},
     "output_type": "display_data"
    }
   ],
   "source": [
    "# plot histogram of sequence lengths\n",
    "plt.figure()\n",
    "plt.title('Histogram of Sequence Lengths of Positive and Negative Data')\n",
    "df_negative['Length'].hist(bins=40, alpha=0.5, label='Negative')\n",
    "df_positive['Length'].hist(bins=40, alpha=0.5, label='Positive')\n",
    "plt.legend()\n",
    "plt.xlabel('Sequence Length')\n",
    "plt.ylabel('Frequency')\n",
    "plt.show()"
   ]
  },
  {
   "cell_type": "markdown",
   "metadata": {},
   "source": [
    "We see huge data inbalance so we need to adjust negative data to the positive data. We will use the same number of negative data as the positive data."
   ]
  },
  {
   "cell_type": "code",
   "execution_count": 21,
   "metadata": {},
   "outputs": [
    {
     "data": {
      "text/plain": [
       "(22572, 4)"
      ]
     },
     "execution_count": 21,
     "metadata": {},
     "output_type": "execute_result"
    }
   ],
   "source": [
    "# undersample negative data at each length to match positive data\n",
    "lengths = df_positive['Length'].unique()\n",
    "df_negative_sampled = pd.DataFrame()\n",
    "for length in lengths:\n",
    "    df_negative_sampled = pd.concat([df_negative_sampled, df_negative[df_negative['Length'] == length].sample(n=df_positive['Length'].value_counts()[length])])\n",
    "\n",
    "df_negative_sampled.shape"
   ]
  },
  {
   "cell_type": "code",
   "execution_count": 22,
   "metadata": {},
   "outputs": [
    {
     "data": {
      "image/png": "[encoded data removed]",
      "text/plain": [
       "<Figure size 640x480 with 1 Axes>"
      ]
     },
     "metadata": {},
     "output_type": "display_data"
    }
   ],
   "source": [
    "# plot histogram of sequence lengths\n",
    "plt.figure()\n",
    "plt.title('Histogram of Sequence Lengths of Positive and Negative Data')\n",
    "df_negative_sampled['Length'].hist(bins=40, alpha=0.5, label='Negative')\n",
    "df_positive['Length'].hist(bins=40, alpha=0.5, label='Positive')\n",
    "plt.legend()\n",
    "plt.xlabel('Sequence Length')\n",
    "plt.ylabel('Frequency')\n",
    "plt.show()"
   ]
  },
  {
   "cell_type": "markdown",
   "metadata": {},
   "source": [
    "# Analysing the Final Dataset"
   ]
  },
  {
   "cell_type": "markdown",
   "metadata": {},
   "source": [
    "## Merging Data"
   ]
  },
  {
   "cell_type": "code",
   "execution_count": 23,
   "metadata": {},
   "outputs": [
    {
     "data": {
      "text/plain": [
       "(45144, 4)"
      ]
     },
     "execution_count": 23,
     "metadata": {},
     "output_type": "execute_result"
    }
   ],
   "source": [
    "# combine positive and negative data\n",
    "df = pd.concat([df_positive, df_negative_sampled], ignore_index=True)\n",
    "df.shape"
   ]
  },
  {
   "cell_type": "code",
   "execution_count": 24,
   "metadata": {},
   "outputs": [
    {
     "name": "stdout",
     "output_type": "stream",
     "text": [
      "removed rows with duplicates:\n",
      "6\n"
     ]
    }
   ],
   "source": [
    "# count and remove duplicates\n",
    "print(\"removed rows with duplicates:\")\n",
    "df[df.duplicated('Sequence')]\n",
    "print(df.duplicated('Sequence').sum())\n",
    "df.drop_duplicates('Sequence', inplace=True)"
   ]
  },
  {
   "cell_type": "code",
   "execution_count": 25,
   "metadata": {},
   "outputs": [
    {
     "data": {
      "text/plain": [
       "Classification\n",
       "1    22572\n",
       "0    22566\n",
       "Name: count, dtype: int64"
      ]
     },
     "execution_count": 25,
     "metadata": {},
     "output_type": "execute_result"
    }
   ],
   "source": [
    "df['Classification'].value_counts()"
   ]
  },
  {
   "cell_type": "markdown",
   "metadata": {},
   "source": [
    "## Calculating Sequence Statistics"
   ]
  },
  {
   "cell_type": "code",
   "execution_count": 26,
   "metadata": {},
   "outputs": [
    {
     "data": {
      "text/html": [
       "<div>\n",
       "<style scoped>\n",
       "    .dataframe tbody tr th:only-of-type {\n",
       "        vertical-align: middle;\n",
       "    }\n",
       "\n",
       "    .dataframe tbody tr th {\n",
       "        vertical-align: top;\n",
       "    }\n",
       "\n",
       "    .dataframe thead th {\n",
       "        text-align: right;\n",
       "    }\n",
       "</style>\n",
       "<table border=\"1\" class=\"dataframe\">\n",
       "  <thead>\n",
       "    <tr style=\"text-align: right;\">\n",
       "      <th></th>\n",
       "      <th>Name</th>\n",
       "      <th>Sequence</th>\n",
       "      <th>Length</th>\n",
       "      <th>Classification</th>\n",
       "      <th>Molecular_Weight</th>\n",
       "      <th>Isoelectric_Point</th>\n",
       "      <th>Amino_Acid_Composition</th>\n",
       "      <th>Hydrophobicity</th>\n",
       "      <th>Instability_Index</th>\n",
       "    </tr>\n",
       "  </thead>\n",
       "  <tbody>\n",
       "    <tr>\n",
       "      <th>0</th>\n",
       "      <td>Designed AMP No.1</td>\n",
       "      <td>FAAKHNGKSLFKPQN</td>\n",
       "      <td>15</td>\n",
       "      <td>1</td>\n",
       "      <td>1686.9107</td>\n",
       "      <td>10.302064</td>\n",
       "      <td>{'A': 2, 'C': 0, 'D': 0, 'E': 0, 'F': 2, 'G': ...</td>\n",
       "      <td>-1.013333</td>\n",
       "      <td>7.233333</td>\n",
       "    </tr>\n",
       "    <tr>\n",
       "      <th>1</th>\n",
       "      <td>Synthetic construct&amp;&amp;4A</td>\n",
       "      <td>AAAAGSVWGAVNYTSDCNGECKRRGYKGGYCGSFANVNCWCET</td>\n",
       "      <td>43</td>\n",
       "      <td>1</td>\n",
       "      <td>4527.9440</td>\n",
       "      <td>7.842273</td>\n",
       "      <td>{'A': 6, 'C': 5, 'D': 1, 'E': 2, 'F': 1, 'G': ...</td>\n",
       "      <td>-0.346512</td>\n",
       "      <td>29.088372</td>\n",
       "    </tr>\n",
       "    <tr>\n",
       "      <th>2</th>\n",
       "      <td>gag</td>\n",
       "      <td>AAANPGLLETSEGCRQIL</td>\n",
       "      <td>18</td>\n",
       "      <td>1</td>\n",
       "      <td>1843.0668</td>\n",
       "      <td>4.531511</td>\n",
       "      <td>{'A': 3, 'C': 1, 'D': 0, 'E': 2, 'F': 0, 'G': ...</td>\n",
       "      <td>0.077778</td>\n",
       "      <td>39.944444</td>\n",
       "    </tr>\n",
       "    <tr>\n",
       "      <th>3</th>\n",
       "      <td>gag</td>\n",
       "      <td>AAAPAATLEEHMTACQGV</td>\n",
       "      <td>18</td>\n",
       "      <td>1</td>\n",
       "      <td>1770.9810</td>\n",
       "      <td>4.507355</td>\n",
       "      <td>{'A': 6, 'C': 1, 'D': 0, 'E': 2, 'F': 0, 'G': ...</td>\n",
       "      <td>0.338889</td>\n",
       "      <td>63.388889</td>\n",
       "    </tr>\n",
       "    <tr>\n",
       "      <th>4</th>\n",
       "      <td>jellyfish, Aurelia aurita&amp;&amp;Aurelin (jellyfish,...</td>\n",
       "      <td>AACSDRAHGHICESFKSFCKDSGRNGVKLRANCKKTCGLC</td>\n",
       "      <td>40</td>\n",
       "      <td>1</td>\n",
       "      <td>4302.9452</td>\n",
       "      <td>9.126870</td>\n",
       "      <td>{'A': 4, 'C': 6, 'D': 2, 'E': 1, 'F': 2, 'G': ...</td>\n",
       "      <td>-0.457500</td>\n",
       "      <td>31.572500</td>\n",
       "    </tr>\n",
       "    <tr>\n",
       "      <th>...</th>\n",
       "      <td>...</td>\n",
       "      <td>...</td>\n",
       "      <td>...</td>\n",
       "      <td>...</td>\n",
       "      <td>...</td>\n",
       "      <td>...</td>\n",
       "      <td>...</td>\n",
       "      <td>...</td>\n",
       "      <td>...</td>\n",
       "    </tr>\n",
       "    <tr>\n",
       "      <th>45139</th>\n",
       "      <td>tr|A0A8C7AXN2|A0A8C7AXN2_NEOVI</td>\n",
       "      <td>MASQNRDPAAASVAAARKGAEHSGGAARGPVGKRLQQELMTLMNQT...</td>\n",
       "      <td>50</td>\n",
       "      <td>0</td>\n",
       "      <td>5173.9116</td>\n",
       "      <td>10.834315</td>\n",
       "      <td>{'A': 10, 'C': 0, 'D': 1, 'E': 2, 'F': 0, 'G':...</td>\n",
       "      <td>-0.194000</td>\n",
       "      <td>31.558000</td>\n",
       "    </tr>\n",
       "    <tr>\n",
       "      <th>45140</th>\n",
       "      <td>tr|H0SRF9|H0SRF9_BRAS3</td>\n",
       "      <td>MLLRLTGHDDARVDLTPVDLSSFEGSLREADQRQYATDDEIKAIWA...</td>\n",
       "      <td>50</td>\n",
       "      <td>0</td>\n",
       "      <td>5674.2754</td>\n",
       "      <td>4.791664</td>\n",
       "      <td>{'A': 5, 'C': 0, 'D': 7, 'E': 3, 'F': 1, 'G': ...</td>\n",
       "      <td>-0.546000</td>\n",
       "      <td>26.850000</td>\n",
       "    </tr>\n",
       "    <tr>\n",
       "      <th>45141</th>\n",
       "      <td>tr|A0A9Q6F244|A0A9Q6F244_9BACI</td>\n",
       "      <td>MKFLLDFFANWTFDKVMDYSLVAVIWFVFKSKSKQNEYLDDFEERR...</td>\n",
       "      <td>50</td>\n",
       "      <td>0</td>\n",
       "      <td>6339.1720</td>\n",
       "      <td>6.160176</td>\n",
       "      <td>{'A': 2, 'C': 0, 'D': 6, 'E': 3, 'F': 7, 'G': ...</td>\n",
       "      <td>-0.496000</td>\n",
       "      <td>29.508000</td>\n",
       "    </tr>\n",
       "    <tr>\n",
       "      <th>45142</th>\n",
       "      <td>tr|X0PCK7|X0PCK7_9LACO</td>\n",
       "      <td>MVNIQLNELDVNGKQTPDLKTHILGYQDEMIILDNKKSISMDDIRH...</td>\n",
       "      <td>50</td>\n",
       "      <td>0</td>\n",
       "      <td>5794.5893</td>\n",
       "      <td>4.734995</td>\n",
       "      <td>{'A': 0, 'C': 0, 'D': 6, 'E': 3, 'F': 0, 'G': ...</td>\n",
       "      <td>-0.430000</td>\n",
       "      <td>60.216000</td>\n",
       "    </tr>\n",
       "    <tr>\n",
       "      <th>45143</th>\n",
       "      <td>tr|A0A3C2DB96|A0A3C2DB96_9BACT</td>\n",
       "      <td>YQTPEGEALRQDDKFAYVSCWEFKGSDAAPELHKEELVYESVSMVQ...</td>\n",
       "      <td>50</td>\n",
       "      <td>0</td>\n",
       "      <td>5873.4093</td>\n",
       "      <td>4.716693</td>\n",
       "      <td>{'A': 4, 'C': 1, 'D': 3, 'E': 7, 'F': 2, 'G': ...</td>\n",
       "      <td>-0.908000</td>\n",
       "      <td>50.066000</td>\n",
       "    </tr>\n",
       "  </tbody>\n",
       "</table>\n",
       "<p>45138 rows × 9 columns</p>\n",
       "</div>"
      ],
      "text/plain": [
       "                                                    Name  \\\n",
       "0                                      Designed AMP No.1   \n",
       "1                                Synthetic construct&&4A   \n",
       "2                                                    gag   \n",
       "3                                                    gag   \n",
       "4      jellyfish, Aurelia aurita&&Aurelin (jellyfish,...   \n",
       "...                                                  ...   \n",
       "45139                     tr|A0A8C7AXN2|A0A8C7AXN2_NEOVI   \n",
       "45140                             tr|H0SRF9|H0SRF9_BRAS3   \n",
       "45141                     tr|A0A9Q6F244|A0A9Q6F244_9BACI   \n",
       "45142                             tr|X0PCK7|X0PCK7_9LACO   \n",
       "45143                     tr|A0A3C2DB96|A0A3C2DB96_9BACT   \n",
       "\n",
       "                                                Sequence  Length  \\\n",
       "0                                        FAAKHNGKSLFKPQN      15   \n",
       "1            AAAAGSVWGAVNYTSDCNGECKRRGYKGGYCGSFANVNCWCET      43   \n",
       "2                                     AAANPGLLETSEGCRQIL      18   \n",
       "3                                     AAAPAATLEEHMTACQGV      18   \n",
       "4               AACSDRAHGHICESFKSFCKDSGRNGVKLRANCKKTCGLC      40   \n",
       "...                                                  ...     ...   \n",
       "45139  MASQNRDPAAASVAAARKGAEHSGGAARGPVGKRLQQELMTLMNQT...      50   \n",
       "45140  MLLRLTGHDDARVDLTPVDLSSFEGSLREADQRQYATDDEIKAIWA...      50   \n",
       "45141  MKFLLDFFANWTFDKVMDYSLVAVIWFVFKSKSKQNEYLDDFEERR...      50   \n",
       "45142  MVNIQLNELDVNGKQTPDLKTHILGYQDEMIILDNKKSISMDDIRH...      50   \n",
       "45143  YQTPEGEALRQDDKFAYVSCWEFKGSDAAPELHKEELVYESVSMVQ...      50   \n",
       "\n",
       "       Classification  Molecular_Weight  Isoelectric_Point  \\\n",
       "0                   1         1686.9107          10.302064   \n",
       "1                   1         4527.9440           7.842273   \n",
       "2                   1         1843.0668           4.531511   \n",
       "3                   1         1770.9810           4.507355   \n",
       "4                   1         4302.9452           9.126870   \n",
       "...               ...               ...                ...   \n",
       "45139               0         5173.9116          10.834315   \n",
       "45140               0         5674.2754           4.791664   \n",
       "45141               0         6339.1720           6.160176   \n",
       "45142               0         5794.5893           4.734995   \n",
       "45143               0         5873.4093           4.716693   \n",
       "\n",
       "                                  Amino_Acid_Composition  Hydrophobicity  \\\n",
       "0      {'A': 2, 'C': 0, 'D': 0, 'E': 0, 'F': 2, 'G': ...       -1.013333   \n",
       "1      {'A': 6, 'C': 5, 'D': 1, 'E': 2, 'F': 1, 'G': ...       -0.346512   \n",
       "2      {'A': 3, 'C': 1, 'D': 0, 'E': 2, 'F': 0, 'G': ...        0.077778   \n",
       "3      {'A': 6, 'C': 1, 'D': 0, 'E': 2, 'F': 0, 'G': ...        0.338889   \n",
       "4      {'A': 4, 'C': 6, 'D': 2, 'E': 1, 'F': 2, 'G': ...       -0.457500   \n",
       "...                                                  ...             ...   \n",
       "45139  {'A': 10, 'C': 0, 'D': 1, 'E': 2, 'F': 0, 'G':...       -0.194000   \n",
       "45140  {'A': 5, 'C': 0, 'D': 7, 'E': 3, 'F': 1, 'G': ...       -0.546000   \n",
       "45141  {'A': 2, 'C': 0, 'D': 6, 'E': 3, 'F': 7, 'G': ...       -0.496000   \n",
       "45142  {'A': 0, 'C': 0, 'D': 6, 'E': 3, 'F': 0, 'G': ...       -0.430000   \n",
       "45143  {'A': 4, 'C': 1, 'D': 3, 'E': 7, 'F': 2, 'G': ...       -0.908000   \n",
       "\n",
       "       Instability_Index  \n",
       "0               7.233333  \n",
       "1              29.088372  \n",
       "2              39.944444  \n",
       "3              63.388889  \n",
       "4              31.572500  \n",
       "...                  ...  \n",
       "45139          31.558000  \n",
       "45140          26.850000  \n",
       "45141          29.508000  \n",
       "45142          60.216000  \n",
       "45143          50.066000  \n",
       "\n",
       "[45138 rows x 9 columns]"
      ]
     },
     "execution_count": 26,
     "metadata": {},
     "output_type": "execute_result"
    }
   ],
   "source": [
    "df['Molecular_Weight'] = df['Sequence'].apply(lambda seq: molecular_weight(seq, seq_type='protein'))\n",
    "df['Isoelectric_Point'] = df['Sequence'].apply(lambda seq: ProteinAnalysis(seq).isoelectric_point())\n",
    "df['Amino_Acid_Composition'] = df['Sequence'].apply(lambda seq: ProteinAnalysis(seq).count_amino_acids())\n",
    "df['Hydrophobicity'] = df['Sequence'].apply(lambda seq: ProteinAnalysis(seq).gravy())\n",
    "df['Instability_Index'] = df['Sequence'].apply(lambda seq: ProteinAnalysis(seq).instability_index())\n",
    "\n",
    "df"
   ]
  },
  {
   "cell_type": "code",
   "execution_count": 47,
   "metadata": {},
   "outputs": [
    {
     "data": {
      "text/html": [
       "<div>\n",
       "<style scoped>\n",
       "    .dataframe tbody tr th:only-of-type {\n",
       "        vertical-align: middle;\n",
       "    }\n",
       "\n",
       "    .dataframe tbody tr th {\n",
       "        vertical-align: top;\n",
       "    }\n",
       "\n",
       "    .dataframe thead th {\n",
       "        text-align: right;\n",
       "    }\n",
       "</style>\n",
       "<table border=\"1\" class=\"dataframe\">\n",
       "  <thead>\n",
       "    <tr style=\"text-align: right;\">\n",
       "      <th></th>\n",
       "      <th>Length</th>\n",
       "      <th>Classification</th>\n",
       "      <th>Molecular_Weight</th>\n",
       "      <th>Isoelectric_Point</th>\n",
       "      <th>Hydrophobicity</th>\n",
       "      <th>Instability_Index</th>\n",
       "    </tr>\n",
       "  </thead>\n",
       "  <tbody>\n",
       "    <tr>\n",
       "      <th>count</th>\n",
       "      <td>45138.000000</td>\n",
       "      <td>45138.000000</td>\n",
       "      <td>45138.000000</td>\n",
       "      <td>45138.000000</td>\n",
       "      <td>45138.000000</td>\n",
       "      <td>45138.000000</td>\n",
       "    </tr>\n",
       "    <tr>\n",
       "      <th>mean</th>\n",
       "      <td>22.857836</td>\n",
       "      <td>0.500066</td>\n",
       "      <td>2610.179499</td>\n",
       "      <td>8.458262</td>\n",
       "      <td>-0.189194</td>\n",
       "      <td>41.074164</td>\n",
       "    </tr>\n",
       "    <tr>\n",
       "      <th>std</th>\n",
       "      <td>10.454980</td>\n",
       "      <td>0.500006</td>\n",
       "      <td>1165.152365</td>\n",
       "      <td>2.589647</td>\n",
       "      <td>0.891444</td>\n",
       "      <td>40.192253</td>\n",
       "    </tr>\n",
       "    <tr>\n",
       "      <th>min</th>\n",
       "      <td>10.000000</td>\n",
       "      <td>0.000000</td>\n",
       "      <td>776.792300</td>\n",
       "      <td>4.050028</td>\n",
       "      <td>-4.500000</td>\n",
       "      <td>-73.339583</td>\n",
       "    </tr>\n",
       "    <tr>\n",
       "      <th>25%</th>\n",
       "      <td>14.000000</td>\n",
       "      <td>0.000000</td>\n",
       "      <td>1691.077375</td>\n",
       "      <td>5.954987</td>\n",
       "      <td>-0.725000</td>\n",
       "      <td>15.276520</td>\n",
       "    </tr>\n",
       "    <tr>\n",
       "      <th>50%</th>\n",
       "      <td>20.000000</td>\n",
       "      <td>1.000000</td>\n",
       "      <td>2295.645600</td>\n",
       "      <td>9.120423</td>\n",
       "      <td>-0.191667</td>\n",
       "      <td>35.809524</td>\n",
       "    </tr>\n",
       "    <tr>\n",
       "      <th>75%</th>\n",
       "      <td>29.000000</td>\n",
       "      <td>1.000000</td>\n",
       "      <td>3271.742600</td>\n",
       "      <td>10.477740</td>\n",
       "      <td>0.373333</td>\n",
       "      <td>59.860000</td>\n",
       "    </tr>\n",
       "    <tr>\n",
       "      <th>max</th>\n",
       "      <td>50.000000</td>\n",
       "      <td>1.000000</td>\n",
       "      <td>6581.010600</td>\n",
       "      <td>11.999968</td>\n",
       "      <td>3.800000</td>\n",
       "      <td>541.171429</td>\n",
       "    </tr>\n",
       "  </tbody>\n",
       "</table>\n",
       "</div>"
      ],
      "text/plain": [
       "             Length  Classification  Molecular_Weight  Isoelectric_Point  \\\n",
       "count  45138.000000    45138.000000      45138.000000       45138.000000   \n",
       "mean      22.857836        0.500066       2610.179499           8.458262   \n",
       "std       10.454980        0.500006       1165.152365           2.589647   \n",
       "min       10.000000        0.000000        776.792300           4.050028   \n",
       "25%       14.000000        0.000000       1691.077375           5.954987   \n",
       "50%       20.000000        1.000000       2295.645600           9.120423   \n",
       "75%       29.000000        1.000000       3271.742600          10.477740   \n",
       "max       50.000000        1.000000       6581.010600          11.999968   \n",
       "\n",
       "       Hydrophobicity  Instability_Index  \n",
       "count    45138.000000       45138.000000  \n",
       "mean        -0.189194          41.074164  \n",
       "std          0.891444          40.192253  \n",
       "min         -4.500000         -73.339583  \n",
       "25%         -0.725000          15.276520  \n",
       "50%         -0.191667          35.809524  \n",
       "75%          0.373333          59.860000  \n",
       "max          3.800000         541.171429  "
      ]
     },
     "execution_count": 47,
     "metadata": {},
     "output_type": "execute_result"
    }
   ],
   "source": [
    "df.describe()"
   ]
  },
  {
   "cell_type": "markdown",
   "metadata": {},
   "source": [
    "## Data Visualization"
   ]
  },
  {
   "cell_type": "markdown",
   "metadata": {},
   "source": [
    "### Length Distribution"
   ]
  },
  {
   "cell_type": "code",
   "execution_count": 27,
   "metadata": {},
   "outputs": [
    {
     "name": "stderr",
     "output_type": "stream",
     "text": [
      "C:\\Users\\Ignacy\\AppData\\Local\\Temp\\ipykernel_19108\\519810754.py:5: UserWarning: No artists with labels found to put in legend.  Note that artists whose label start with an underscore are ignored when legend() is called with no argument.\n",
      "  plt.legend()\n"
     ]
    },
    {
     "data": {
      "image/png": "[encoded data removed]",
      "text/plain": [
       "<Figure size 640x480 with 1 Axes>"
      ]
     },
     "metadata": {},
     "output_type": "display_data"
    }
   ],
   "source": [
    "# plot histogram of sequence lengths\n",
    "plt.figure()\n",
    "plt.title('Histogram of Sequence Lengths of Positive and Negative Data')\n",
    "df['Length'].hist(bins=40)\n",
    "plt.legend()\n",
    "plt.xlabel('Sequence Length')\n",
    "plt.ylabel('Frequency')\n",
    "plt.show()"
   ]
  },
  {
   "cell_type": "markdown",
   "metadata": {},
   "source": [
    "### Molecular Weight Distribution"
   ]
  },
  {
   "cell_type": "code",
   "execution_count": 29,
   "metadata": {},
   "outputs": [
    {
     "data": {
      "image/png": "[encoded data removed]",
      "text/plain": [
       "<Figure size 640x480 with 1 Axes>"
      ]
     },
     "metadata": {},
     "output_type": "display_data"
    }
   ],
   "source": [
    "# plot histogram of molecular weight\n",
    "plt.figure()\n",
    "plt.title('Histogram of Molecular Weight of Positive and Negative Data')\n",
    "df['Molecular_Weight'].hist(bins=40, label='Molecular Weight')\n",
    "plt.legend()\n",
    "plt.xlabel('Molecular Weight')\n",
    "plt.ylabel('Frequency')\n",
    "plt.show()"
   ]
  },
  {
   "cell_type": "markdown",
   "metadata": {},
   "source": [
    "### Isoelectric Point Distribution"
   ]
  },
  {
   "cell_type": "code",
   "execution_count": 34,
   "metadata": {},
   "outputs": [
    {
     "data": {
      "image/png": "[encoded data removed]",
      "text/plain": [
       "<Figure size 640x480 with 1 Axes>"
      ]
     },
     "metadata": {},
     "output_type": "display_data"
    }
   ],
   "source": [
    "# plot histogram of isoelectric point\n",
    "plt.figure()\n",
    "plt.title('Histogram of Isoelectric Point of Positive and Negative Data')\n",
    "df['Isoelectric_Point'].hist(bins=12, label='Isoelectric Point')\n",
    "plt.legend()\n",
    "plt.xlabel('Isoelectric Point')\n",
    "plt.ylabel('Frequency')\n",
    "plt.show()"
   ]
  },
  {
   "cell_type": "markdown",
   "metadata": {},
   "source": [
    "### Hydrophobicity Distribution"
   ]
  },
  {
   "cell_type": "code",
   "execution_count": 38,
   "metadata": {},
   "outputs": [
    {
     "data": {
      "image/png": "[encoded data removed]",
      "text/plain": [
       "<Figure size 640x480 with 1 Axes>"
      ]
     },
     "metadata": {},
     "output_type": "display_data"
    }
   ],
   "source": [
    "# plot histogram of hydrophobicity\n",
    "plt.figure()\n",
    "plt.title('Histogram of Hydrophobicity of Positive and Negative Data')\n",
    "df['Hydrophobicity'].hist(bins=40, label='Hydrophobicity')\n",
    "plt.legend()\n",
    "plt.xlabel('Hydrophobicity')\n",
    "plt.ylabel('Frequency')\n",
    "plt.show()"
   ]
  },
  {
   "cell_type": "markdown",
   "metadata": {},
   "source": [
    "### Hydrophobicity Index Distribution"
   ]
  },
  {
   "cell_type": "code",
   "execution_count": 44,
   "metadata": {},
   "outputs": [
    {
     "data": {
      "image/png": "[encoded data removed]",
      "text/plain": [
       "<Figure size 640x480 with 1 Axes>"
      ]
     },
     "metadata": {},
     "output_type": "display_data"
    }
   ],
   "source": [
    "# plot histogram of instability index\n",
    "plt.figure()\n",
    "plt.title('Histogram of Instability Index of Positive and Negative Data')\n",
    "df['Instability_Index'].hist(bins=40, label='Instability Index')\n",
    "plt.legend()\n",
    "plt.xlabel('Instability Index')\n",
    "plt.ylabel('Frequency')\n",
    "plt.show()"
   ]
  },
  {
   "cell_type": "markdown",
   "metadata": {},
   "source": [
    "### Amino Acid Composition"
   ]
  },
  {
   "cell_type": "code",
   "execution_count": 46,
   "metadata": {},
   "outputs": [
    {
     "data": {
      "image/png": "[encoded data removed]",
      "text/plain": [
       "<Figure size 640x480 with 1 Axes>"
      ]
     },
     "metadata": {},
     "output_type": "display_data"
    }
   ],
   "source": [
    "# plot amino acid composition\n",
    "plt.figure()\n",
    "plt.title('Amino Acid Composition of Positive and Negative Data')\n",
    "df['Amino_Acid_Composition'].apply(lambda x: pd.Series(x)).sum().plot(kind='bar')\n",
    "plt.xlabel('Amino Acid')\n",
    "plt.ylabel('Frequency')\n",
    "plt.show()"
   ]
  }
 ],
 "metadata": {
  "kernelspec": {
   "display_name": ".venv",
   "language": "python",
   "name": "python3"
  },
  "language_info": {
   "codemirror_mode": {
    "name": "ipython",
    "version": 3
   },
   "file_extension": ".py",
   "mimetype": "text/x-python",
   "name": "python",
   "nbconvert_exporter": "python",
   "pygments_lexer": "ipython3",
   "version": "3.12.1"
  }
 },
 "nbformat": 4,
 "nbformat_minor": 2
}
