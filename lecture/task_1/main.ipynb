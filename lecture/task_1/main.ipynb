{
 "cells": [
  {
   "cell_type": "markdown",
   "metadata": {},
   "source": [
    "Ignacy Berent\n",
    "\n",
    "Michał Dziak "
   ]
  },
  {
   "cell_type": "code",
   "execution_count": 381,
   "metadata": {},
   "outputs": [],
   "source": [
    "import pandas as pd\n",
    "import numpy as np\n",
    "import matplotlib.pyplot as plt\n",
    "from sklearn.model_selection import train_test_split\n",
    "from xgboost import XGBClassifier\n",
    "from sklearn.model_selection import StratifiedKFold, cross_val_score\n",
    "from sklearn.metrics import accuracy_score\n",
    "from sklearn.preprocessing import LabelEncoder"
   ]
  },
  {
   "cell_type": "markdown",
   "metadata": {},
   "source": [
    "# Collecting"
   ]
  },
  {
   "cell_type": "code",
   "execution_count": 382,
   "metadata": {},
   "outputs": [],
   "source": [
    "def set_column_names():\n",
    "    global column_names\n",
    "    names = []\n",
    "    # First 15 columns\n",
    "    names.extend([\n",
    "        \"Age\",\n",
    "        \"Sex\",\n",
    "        \"Height\",\n",
    "        \"Weight\",\n",
    "        \"QRS duration\",\n",
    "        \"P-R interval\",\n",
    "        \"Q-T interval\",\n",
    "        \"T interval\",\n",
    "        \"P interval\",\n",
    "        \"QRS angle\",\n",
    "        \"T angle\",\n",
    "        \"P angle\",\n",
    "        \"QRST angle\",\n",
    "        \"J angle\",\n",
    "        \"Heart rate\"\n",
    "    ])\n",
    "    \n",
    "    # Define metrics for average width groups (in msec)\n",
    "    width_metrics = [\n",
    "        \"Q wave\",\n",
    "        \"R wave\",\n",
    "        \"S wave\",\n",
    "        \"R' wave\",\n",
    "        \"S' wave\",\n",
    "        \"Number of intrinsic deflections\",\n",
    "        \"Existence of ragged R wave\",\n",
    "        \"Existence of diphasic derivation of R wave\",\n",
    "        \"Existence of ragged P wave\",\n",
    "        \"Existence of diphasic derivation of P wave\",\n",
    "        \"Existence of ragged T wave\",\n",
    "        \"Existence of diphasic derivation of T wave\"\n",
    "    ]\n",
    "    # Channels for average width attributes\n",
    "    channels_width = [\"DI\", \"DII\", \"DIII\", \"AVR\", \"AVL\", \"AVF\", \"V1\", \"V2\", \"V3\", \"V4\", \"V5\", \"V6\"]\n",
    "    for channel in channels_width:\n",
    "        for metric in width_metrics:\n",
    "            # Append channel info plus metric and indication that these are width measurements\n",
    "            names.append(f\"{channel} {metric} (width)\")\n",
    "    \n",
    "    # Define metrics for amplitude groups (amplitude * 0.1 mV)\n",
    "    amplitude_metrics = [\n",
    "        \"JJ wave\",\n",
    "        \"Q wave\",\n",
    "        \"R wave\",\n",
    "        \"S wave\",\n",
    "        \"R' wave\",\n",
    "        \"S' wave\",\n",
    "        \"P wave\",\n",
    "        \"T wave\",\n",
    "        \"QRSA\",\n",
    "        \"QRSTA\"\n",
    "    ]\n",
    "    # Channels for amplitude attributes\n",
    "    channels_amplitude = [\"DI\", \"DII\", \"DIII\", \"AVR\", \"AVL\", \"AVF\", \"V1\", \"V2\", \"V3\", \"V4\", \"V5\", \"V6\"]\n",
    "    for channel in channels_amplitude:\n",
    "        for metric in amplitude_metrics:\n",
    "            names.append(f\"{channel} {metric} (amplitude)\")\n",
    "            \n",
    "    names.append(\"Class code\")\n",
    "    column_names = names\n",
    "\n",
    "# Initialize column_names by calling the function\n",
    "set_column_names()"
   ]
  },
  {
   "cell_type": "code",
   "execution_count": 383,
   "metadata": {},
   "outputs": [
    {
     "data": {
      "text/html": [
       "<div>\n",
       "<style scoped>\n",
       "    .dataframe tbody tr th:only-of-type {\n",
       "        vertical-align: middle;\n",
       "    }\n",
       "\n",
       "    .dataframe tbody tr th {\n",
       "        vertical-align: top;\n",
       "    }\n",
       "\n",
       "    .dataframe thead th {\n",
       "        text-align: right;\n",
       "    }\n",
       "</style>\n",
       "<table border=\"1\" class=\"dataframe\">\n",
       "  <thead>\n",
       "    <tr style=\"text-align: right;\">\n",
       "      <th></th>\n",
       "      <th>Age</th>\n",
       "      <th>Sex</th>\n",
       "      <th>Height</th>\n",
       "      <th>Weight</th>\n",
       "      <th>QRS duration</th>\n",
       "      <th>P-R interval</th>\n",
       "      <th>Q-T interval</th>\n",
       "      <th>T interval</th>\n",
       "      <th>P interval</th>\n",
       "      <th>QRS angle</th>\n",
       "      <th>...</th>\n",
       "      <th>V6 Q wave (amplitude)</th>\n",
       "      <th>V6 R wave (amplitude)</th>\n",
       "      <th>V6 S wave (amplitude)</th>\n",
       "      <th>V6 R' wave (amplitude)</th>\n",
       "      <th>V6 S' wave (amplitude)</th>\n",
       "      <th>V6 P wave (amplitude)</th>\n",
       "      <th>V6 T wave (amplitude)</th>\n",
       "      <th>V6 QRSA (amplitude)</th>\n",
       "      <th>V6 QRSTA (amplitude)</th>\n",
       "      <th>Class code</th>\n",
       "    </tr>\n",
       "  </thead>\n",
       "  <tbody>\n",
       "    <tr>\n",
       "      <th>0</th>\n",
       "      <td>75</td>\n",
       "      <td>0</td>\n",
       "      <td>190</td>\n",
       "      <td>80</td>\n",
       "      <td>91</td>\n",
       "      <td>193</td>\n",
       "      <td>371</td>\n",
       "      <td>174</td>\n",
       "      <td>121</td>\n",
       "      <td>-16</td>\n",
       "      <td>...</td>\n",
       "      <td>0.0</td>\n",
       "      <td>9.0</td>\n",
       "      <td>-0.9</td>\n",
       "      <td>0.0</td>\n",
       "      <td>0.0</td>\n",
       "      <td>0.9</td>\n",
       "      <td>2.9</td>\n",
       "      <td>23.3</td>\n",
       "      <td>49.4</td>\n",
       "      <td>8</td>\n",
       "    </tr>\n",
       "    <tr>\n",
       "      <th>1</th>\n",
       "      <td>56</td>\n",
       "      <td>1</td>\n",
       "      <td>165</td>\n",
       "      <td>64</td>\n",
       "      <td>81</td>\n",
       "      <td>174</td>\n",
       "      <td>401</td>\n",
       "      <td>149</td>\n",
       "      <td>39</td>\n",
       "      <td>25</td>\n",
       "      <td>...</td>\n",
       "      <td>0.0</td>\n",
       "      <td>8.5</td>\n",
       "      <td>0.0</td>\n",
       "      <td>0.0</td>\n",
       "      <td>0.0</td>\n",
       "      <td>0.2</td>\n",
       "      <td>2.1</td>\n",
       "      <td>20.4</td>\n",
       "      <td>38.8</td>\n",
       "      <td>6</td>\n",
       "    </tr>\n",
       "    <tr>\n",
       "      <th>2</th>\n",
       "      <td>54</td>\n",
       "      <td>0</td>\n",
       "      <td>172</td>\n",
       "      <td>95</td>\n",
       "      <td>138</td>\n",
       "      <td>163</td>\n",
       "      <td>386</td>\n",
       "      <td>185</td>\n",
       "      <td>102</td>\n",
       "      <td>96</td>\n",
       "      <td>...</td>\n",
       "      <td>0.0</td>\n",
       "      <td>9.5</td>\n",
       "      <td>-2.4</td>\n",
       "      <td>0.0</td>\n",
       "      <td>0.0</td>\n",
       "      <td>0.3</td>\n",
       "      <td>3.4</td>\n",
       "      <td>12.3</td>\n",
       "      <td>49.0</td>\n",
       "      <td>10</td>\n",
       "    </tr>\n",
       "    <tr>\n",
       "      <th>3</th>\n",
       "      <td>55</td>\n",
       "      <td>0</td>\n",
       "      <td>175</td>\n",
       "      <td>94</td>\n",
       "      <td>100</td>\n",
       "      <td>202</td>\n",
       "      <td>380</td>\n",
       "      <td>179</td>\n",
       "      <td>143</td>\n",
       "      <td>28</td>\n",
       "      <td>...</td>\n",
       "      <td>0.0</td>\n",
       "      <td>12.2</td>\n",
       "      <td>-2.2</td>\n",
       "      <td>0.0</td>\n",
       "      <td>0.0</td>\n",
       "      <td>0.4</td>\n",
       "      <td>2.6</td>\n",
       "      <td>34.6</td>\n",
       "      <td>61.6</td>\n",
       "      <td>1</td>\n",
       "    </tr>\n",
       "    <tr>\n",
       "      <th>4</th>\n",
       "      <td>75</td>\n",
       "      <td>0</td>\n",
       "      <td>190</td>\n",
       "      <td>80</td>\n",
       "      <td>88</td>\n",
       "      <td>181</td>\n",
       "      <td>360</td>\n",
       "      <td>177</td>\n",
       "      <td>103</td>\n",
       "      <td>-16</td>\n",
       "      <td>...</td>\n",
       "      <td>0.0</td>\n",
       "      <td>13.1</td>\n",
       "      <td>-3.6</td>\n",
       "      <td>0.0</td>\n",
       "      <td>0.0</td>\n",
       "      <td>-0.1</td>\n",
       "      <td>3.9</td>\n",
       "      <td>25.4</td>\n",
       "      <td>62.8</td>\n",
       "      <td>7</td>\n",
       "    </tr>\n",
       "  </tbody>\n",
       "</table>\n",
       "<p>5 rows × 280 columns</p>\n",
       "</div>"
      ],
      "text/plain": [
       "   Age  Sex  Height  Weight  QRS duration  P-R interval  Q-T interval  \\\n",
       "0   75    0     190      80            91           193           371   \n",
       "1   56    1     165      64            81           174           401   \n",
       "2   54    0     172      95           138           163           386   \n",
       "3   55    0     175      94           100           202           380   \n",
       "4   75    0     190      80            88           181           360   \n",
       "\n",
       "   T interval  P interval  QRS angle  ...  V6 Q wave (amplitude)  \\\n",
       "0         174         121        -16  ...                    0.0   \n",
       "1         149          39         25  ...                    0.0   \n",
       "2         185         102         96  ...                    0.0   \n",
       "3         179         143         28  ...                    0.0   \n",
       "4         177         103        -16  ...                    0.0   \n",
       "\n",
       "   V6 R wave (amplitude)  V6 S wave (amplitude)  V6 R' wave (amplitude)  \\\n",
       "0                    9.0                   -0.9                     0.0   \n",
       "1                    8.5                    0.0                     0.0   \n",
       "2                    9.5                   -2.4                     0.0   \n",
       "3                   12.2                   -2.2                     0.0   \n",
       "4                   13.1                   -3.6                     0.0   \n",
       "\n",
       "   V6 S' wave (amplitude)  V6 P wave (amplitude)  V6 T wave (amplitude)  \\\n",
       "0                     0.0                    0.9                    2.9   \n",
       "1                     0.0                    0.2                    2.1   \n",
       "2                     0.0                    0.3                    3.4   \n",
       "3                     0.0                    0.4                    2.6   \n",
       "4                     0.0                   -0.1                    3.9   \n",
       "\n",
       "   V6 QRSA (amplitude)  V6 QRSTA (amplitude)  Class code  \n",
       "0                 23.3                  49.4           8  \n",
       "1                 20.4                  38.8           6  \n",
       "2                 12.3                  49.0          10  \n",
       "3                 34.6                  61.6           1  \n",
       "4                 25.4                  62.8           7  \n",
       "\n",
       "[5 rows x 280 columns]"
      ]
     },
     "execution_count": 383,
     "metadata": {},
     "output_type": "execute_result"
    }
   ],
   "source": [
    "df = pd.read_csv('data/arrhythmia.data', header=None, na_values='?', names=column_names)\n",
    "df.head()"
   ]
  },
  {
   "cell_type": "markdown",
   "metadata": {},
   "source": [
    "# Cleaning"
   ]
  },
  {
   "cell_type": "markdown",
   "metadata": {},
   "source": [
    "## Duplicates"
   ]
  },
  {
   "cell_type": "code",
   "execution_count": 384,
   "metadata": {},
   "outputs": [
    {
     "name": "stdout",
     "output_type": "stream",
     "text": [
      "Number of duplicates: 0\n"
     ]
    }
   ],
   "source": [
    "# check for duplicates\n",
    "duplicates = df.duplicated()\n",
    "print(f\"Number of duplicates: {duplicates.sum()}\")"
   ]
  },
  {
   "cell_type": "markdown",
   "metadata": {},
   "source": [
    "## Nan values"
   ]
  },
  {
   "cell_type": "code",
   "execution_count": 385,
   "metadata": {},
   "outputs": [
    {
     "name": "stdout",
     "output_type": "stream",
     "text": [
      "Missing data: 408\n"
     ]
    }
   ],
   "source": [
    "# check missing data\n",
    "missing = df.isnull().sum()\n",
    "print(f\"Missing data: {missing.sum()}\")"
   ]
  },
  {
   "cell_type": "code",
   "execution_count": 386,
   "metadata": {},
   "outputs": [
    {
     "name": "stdout",
     "output_type": "stream",
     "text": [
      "Missing data in columns: \n",
      "T angle         8\n",
      "P angle        22\n",
      "QRST angle      1\n",
      "J angle       376\n",
      "Heart rate      1\n",
      "dtype: int64\n"
     ]
    }
   ],
   "source": [
    "# check where missing data is\n",
    "missing = df.isnull().sum()\n",
    "missing = missing[missing > 0]\n",
    "print(f\"Missing data in columns: \\n{missing}\")"
   ]
  },
  {
   "cell_type": "code",
   "execution_count": 387,
   "metadata": {},
   "outputs": [],
   "source": [
    "# remove J angle column due to high number of missing values\n",
    "df = df.drop(columns=[\"J angle\"])\n",
    "\n",
    "# fill remaining missing values with median since it is the easiest way\n",
    "df['T angle'] = df['T angle'].fillna(df['T angle'].median())\n",
    "df['P angle'] = df['P angle'].fillna(df['P angle'].median())\n",
    "df['QRST angle'] = df['QRST angle'].fillna(df['QRST angle'].median())\n",
    "df['Heart rate'] = df['Heart rate'].fillna(df['Heart rate'].median())"
   ]
  },
  {
   "cell_type": "code",
   "execution_count": 388,
   "metadata": {},
   "outputs": [
    {
     "name": "stdout",
     "output_type": "stream",
     "text": [
      "Missing data in columns: \n",
      "Series([], dtype: int64)\n"
     ]
    }
   ],
   "source": [
    "# check where missing data is\n",
    "missing = df.isnull().sum()\n",
    "missing = missing[missing > 0]\n",
    "print(f\"Missing data in columns: \\n{missing}\")"
   ]
  },
  {
   "cell_type": "markdown",
   "metadata": {},
   "source": [
    "## Outliers"
   ]
  },
  {
   "cell_type": "code",
   "execution_count": 389,
   "metadata": {},
   "outputs": [
    {
     "data": {
      "text/html": [
       "<div>\n",
       "<style scoped>\n",
       "    .dataframe tbody tr th:only-of-type {\n",
       "        vertical-align: middle;\n",
       "    }\n",
       "\n",
       "    .dataframe tbody tr th {\n",
       "        vertical-align: top;\n",
       "    }\n",
       "\n",
       "    .dataframe thead th {\n",
       "        text-align: right;\n",
       "    }\n",
       "</style>\n",
       "<table border=\"1\" class=\"dataframe\">\n",
       "  <thead>\n",
       "    <tr style=\"text-align: right;\">\n",
       "      <th></th>\n",
       "      <th>Age</th>\n",
       "      <th>Sex</th>\n",
       "      <th>Height</th>\n",
       "      <th>Weight</th>\n",
       "      <th>QRS duration</th>\n",
       "      <th>P-R interval</th>\n",
       "      <th>Q-T interval</th>\n",
       "      <th>T interval</th>\n",
       "      <th>P interval</th>\n",
       "      <th>QRS angle</th>\n",
       "      <th>...</th>\n",
       "      <th>V6 Q wave (amplitude)</th>\n",
       "      <th>V6 R wave (amplitude)</th>\n",
       "      <th>V6 S wave (amplitude)</th>\n",
       "      <th>V6 R' wave (amplitude)</th>\n",
       "      <th>V6 S' wave (amplitude)</th>\n",
       "      <th>V6 P wave (amplitude)</th>\n",
       "      <th>V6 T wave (amplitude)</th>\n",
       "      <th>V6 QRSA (amplitude)</th>\n",
       "      <th>V6 QRSTA (amplitude)</th>\n",
       "      <th>Class code</th>\n",
       "    </tr>\n",
       "  </thead>\n",
       "  <tbody>\n",
       "    <tr>\n",
       "      <th>count</th>\n",
       "      <td>452.000000</td>\n",
       "      <td>452.000000</td>\n",
       "      <td>452.000000</td>\n",
       "      <td>452.000000</td>\n",
       "      <td>452.000000</td>\n",
       "      <td>452.000000</td>\n",
       "      <td>452.000000</td>\n",
       "      <td>452.000000</td>\n",
       "      <td>452.000000</td>\n",
       "      <td>452.000000</td>\n",
       "      <td>...</td>\n",
       "      <td>452.000000</td>\n",
       "      <td>452.000000</td>\n",
       "      <td>452.000000</td>\n",
       "      <td>452.000000</td>\n",
       "      <td>452.0</td>\n",
       "      <td>452.000000</td>\n",
       "      <td>452.000000</td>\n",
       "      <td>452.000000</td>\n",
       "      <td>452.000000</td>\n",
       "      <td>452.000000</td>\n",
       "    </tr>\n",
       "    <tr>\n",
       "      <th>mean</th>\n",
       "      <td>46.471239</td>\n",
       "      <td>0.550885</td>\n",
       "      <td>166.188053</td>\n",
       "      <td>68.170354</td>\n",
       "      <td>88.920354</td>\n",
       "      <td>155.152655</td>\n",
       "      <td>367.207965</td>\n",
       "      <td>169.949115</td>\n",
       "      <td>90.004425</td>\n",
       "      <td>33.676991</td>\n",
       "      <td>...</td>\n",
       "      <td>-0.278982</td>\n",
       "      <td>9.048009</td>\n",
       "      <td>-1.457301</td>\n",
       "      <td>0.003982</td>\n",
       "      <td>0.0</td>\n",
       "      <td>0.514823</td>\n",
       "      <td>1.222345</td>\n",
       "      <td>19.326106</td>\n",
       "      <td>29.473230</td>\n",
       "      <td>3.880531</td>\n",
       "    </tr>\n",
       "    <tr>\n",
       "      <th>std</th>\n",
       "      <td>16.466631</td>\n",
       "      <td>0.497955</td>\n",
       "      <td>37.170340</td>\n",
       "      <td>16.590803</td>\n",
       "      <td>15.364394</td>\n",
       "      <td>44.842283</td>\n",
       "      <td>33.385421</td>\n",
       "      <td>35.633072</td>\n",
       "      <td>25.826643</td>\n",
       "      <td>45.431434</td>\n",
       "      <td>...</td>\n",
       "      <td>0.548876</td>\n",
       "      <td>3.472862</td>\n",
       "      <td>2.002430</td>\n",
       "      <td>0.050118</td>\n",
       "      <td>0.0</td>\n",
       "      <td>0.347531</td>\n",
       "      <td>1.426052</td>\n",
       "      <td>13.503922</td>\n",
       "      <td>18.493927</td>\n",
       "      <td>4.407097</td>\n",
       "    </tr>\n",
       "    <tr>\n",
       "      <th>min</th>\n",
       "      <td>0.000000</td>\n",
       "      <td>0.000000</td>\n",
       "      <td>105.000000</td>\n",
       "      <td>6.000000</td>\n",
       "      <td>55.000000</td>\n",
       "      <td>0.000000</td>\n",
       "      <td>232.000000</td>\n",
       "      <td>108.000000</td>\n",
       "      <td>0.000000</td>\n",
       "      <td>-172.000000</td>\n",
       "      <td>...</td>\n",
       "      <td>-4.100000</td>\n",
       "      <td>0.000000</td>\n",
       "      <td>-28.600000</td>\n",
       "      <td>0.000000</td>\n",
       "      <td>0.0</td>\n",
       "      <td>-0.800000</td>\n",
       "      <td>-6.000000</td>\n",
       "      <td>-44.200000</td>\n",
       "      <td>-38.600000</td>\n",
       "      <td>1.000000</td>\n",
       "    </tr>\n",
       "    <tr>\n",
       "      <th>25%</th>\n",
       "      <td>36.000000</td>\n",
       "      <td>0.000000</td>\n",
       "      <td>160.000000</td>\n",
       "      <td>59.000000</td>\n",
       "      <td>80.000000</td>\n",
       "      <td>142.000000</td>\n",
       "      <td>350.000000</td>\n",
       "      <td>148.000000</td>\n",
       "      <td>79.000000</td>\n",
       "      <td>3.750000</td>\n",
       "      <td>...</td>\n",
       "      <td>-0.425000</td>\n",
       "      <td>6.600000</td>\n",
       "      <td>-2.100000</td>\n",
       "      <td>0.000000</td>\n",
       "      <td>0.0</td>\n",
       "      <td>0.400000</td>\n",
       "      <td>0.500000</td>\n",
       "      <td>11.450000</td>\n",
       "      <td>17.550000</td>\n",
       "      <td>1.000000</td>\n",
       "    </tr>\n",
       "    <tr>\n",
       "      <th>50%</th>\n",
       "      <td>47.000000</td>\n",
       "      <td>1.000000</td>\n",
       "      <td>164.000000</td>\n",
       "      <td>68.000000</td>\n",
       "      <td>86.000000</td>\n",
       "      <td>157.000000</td>\n",
       "      <td>367.000000</td>\n",
       "      <td>162.000000</td>\n",
       "      <td>91.000000</td>\n",
       "      <td>40.000000</td>\n",
       "      <td>...</td>\n",
       "      <td>0.000000</td>\n",
       "      <td>8.800000</td>\n",
       "      <td>-1.100000</td>\n",
       "      <td>0.000000</td>\n",
       "      <td>0.0</td>\n",
       "      <td>0.500000</td>\n",
       "      <td>1.350000</td>\n",
       "      <td>18.100000</td>\n",
       "      <td>27.900000</td>\n",
       "      <td>1.000000</td>\n",
       "    </tr>\n",
       "    <tr>\n",
       "      <th>75%</th>\n",
       "      <td>58.000000</td>\n",
       "      <td>1.000000</td>\n",
       "      <td>170.000000</td>\n",
       "      <td>79.000000</td>\n",
       "      <td>94.000000</td>\n",
       "      <td>175.000000</td>\n",
       "      <td>384.000000</td>\n",
       "      <td>179.000000</td>\n",
       "      <td>102.000000</td>\n",
       "      <td>66.000000</td>\n",
       "      <td>...</td>\n",
       "      <td>0.000000</td>\n",
       "      <td>11.200000</td>\n",
       "      <td>0.000000</td>\n",
       "      <td>0.000000</td>\n",
       "      <td>0.0</td>\n",
       "      <td>0.700000</td>\n",
       "      <td>2.100000</td>\n",
       "      <td>25.825000</td>\n",
       "      <td>41.125000</td>\n",
       "      <td>6.000000</td>\n",
       "    </tr>\n",
       "    <tr>\n",
       "      <th>max</th>\n",
       "      <td>83.000000</td>\n",
       "      <td>1.000000</td>\n",
       "      <td>780.000000</td>\n",
       "      <td>176.000000</td>\n",
       "      <td>188.000000</td>\n",
       "      <td>524.000000</td>\n",
       "      <td>509.000000</td>\n",
       "      <td>381.000000</td>\n",
       "      <td>205.000000</td>\n",
       "      <td>169.000000</td>\n",
       "      <td>...</td>\n",
       "      <td>0.000000</td>\n",
       "      <td>23.600000</td>\n",
       "      <td>0.000000</td>\n",
       "      <td>0.800000</td>\n",
       "      <td>0.0</td>\n",
       "      <td>2.400000</td>\n",
       "      <td>6.000000</td>\n",
       "      <td>88.800000</td>\n",
       "      <td>115.900000</td>\n",
       "      <td>16.000000</td>\n",
       "    </tr>\n",
       "  </tbody>\n",
       "</table>\n",
       "<p>8 rows × 279 columns</p>\n",
       "</div>"
      ],
      "text/plain": [
       "              Age         Sex      Height      Weight  QRS duration  \\\n",
       "count  452.000000  452.000000  452.000000  452.000000    452.000000   \n",
       "mean    46.471239    0.550885  166.188053   68.170354     88.920354   \n",
       "std     16.466631    0.497955   37.170340   16.590803     15.364394   \n",
       "min      0.000000    0.000000  105.000000    6.000000     55.000000   \n",
       "25%     36.000000    0.000000  160.000000   59.000000     80.000000   \n",
       "50%     47.000000    1.000000  164.000000   68.000000     86.000000   \n",
       "75%     58.000000    1.000000  170.000000   79.000000     94.000000   \n",
       "max     83.000000    1.000000  780.000000  176.000000    188.000000   \n",
       "\n",
       "       P-R interval  Q-T interval  T interval  P interval   QRS angle  ...  \\\n",
       "count    452.000000    452.000000  452.000000  452.000000  452.000000  ...   \n",
       "mean     155.152655    367.207965  169.949115   90.004425   33.676991  ...   \n",
       "std       44.842283     33.385421   35.633072   25.826643   45.431434  ...   \n",
       "min        0.000000    232.000000  108.000000    0.000000 -172.000000  ...   \n",
       "25%      142.000000    350.000000  148.000000   79.000000    3.750000  ...   \n",
       "50%      157.000000    367.000000  162.000000   91.000000   40.000000  ...   \n",
       "75%      175.000000    384.000000  179.000000  102.000000   66.000000  ...   \n",
       "max      524.000000    509.000000  381.000000  205.000000  169.000000  ...   \n",
       "\n",
       "       V6 Q wave (amplitude)  V6 R wave (amplitude)  V6 S wave (amplitude)  \\\n",
       "count             452.000000             452.000000             452.000000   \n",
       "mean               -0.278982               9.048009              -1.457301   \n",
       "std                 0.548876               3.472862               2.002430   \n",
       "min                -4.100000               0.000000             -28.600000   \n",
       "25%                -0.425000               6.600000              -2.100000   \n",
       "50%                 0.000000               8.800000              -1.100000   \n",
       "75%                 0.000000              11.200000               0.000000   \n",
       "max                 0.000000              23.600000               0.000000   \n",
       "\n",
       "       V6 R' wave (amplitude)  V6 S' wave (amplitude)  V6 P wave (amplitude)  \\\n",
       "count              452.000000                   452.0             452.000000   \n",
       "mean                 0.003982                     0.0               0.514823   \n",
       "std                  0.050118                     0.0               0.347531   \n",
       "min                  0.000000                     0.0              -0.800000   \n",
       "25%                  0.000000                     0.0               0.400000   \n",
       "50%                  0.000000                     0.0               0.500000   \n",
       "75%                  0.000000                     0.0               0.700000   \n",
       "max                  0.800000                     0.0               2.400000   \n",
       "\n",
       "       V6 T wave (amplitude)  V6 QRSA (amplitude)  V6 QRSTA (amplitude)  \\\n",
       "count             452.000000           452.000000            452.000000   \n",
       "mean                1.222345            19.326106             29.473230   \n",
       "std                 1.426052            13.503922             18.493927   \n",
       "min                -6.000000           -44.200000            -38.600000   \n",
       "25%                 0.500000            11.450000             17.550000   \n",
       "50%                 1.350000            18.100000             27.900000   \n",
       "75%                 2.100000            25.825000             41.125000   \n",
       "max                 6.000000            88.800000            115.900000   \n",
       "\n",
       "       Class code  \n",
       "count  452.000000  \n",
       "mean     3.880531  \n",
       "std      4.407097  \n",
       "min      1.000000  \n",
       "25%      1.000000  \n",
       "50%      1.000000  \n",
       "75%      6.000000  \n",
       "max     16.000000  \n",
       "\n",
       "[8 rows x 279 columns]"
      ]
     },
     "execution_count": 389,
     "metadata": {},
     "output_type": "execute_result"
    }
   ],
   "source": [
    "# check for outliers\n",
    "df.describe()"
   ]
  },
  {
   "cell_type": "code",
   "execution_count": 390,
   "metadata": {},
   "outputs": [
    {
     "name": "stdout",
     "output_type": "stream",
     "text": [
      "Number of outliers: \n",
      "Age                       0\n",
      "Sex                       0\n",
      "Height                    2\n",
      "Weight                    7\n",
      "QRS duration             11\n",
      "                         ..\n",
      "V6 P wave (amplitude)     4\n",
      "V6 T wave (amplitude)     6\n",
      "V6 QRSA (amplitude)       5\n",
      "V6 QRSTA (amplitude)      5\n",
      "Class code                0\n",
      "Length: 279, dtype: int64\n",
      "1513\n"
     ]
    }
   ],
   "source": [
    "# calculate z-scores for each column\n",
    "z_scores = (df - df.mean()) / df.std()\n",
    "# calculate the absolute z-scores\n",
    "z_scores = z_scores.abs()\n",
    "# check for outliers\n",
    "outliers = z_scores > 3\n",
    "outliers = outliers.sum()\n",
    "print(f\"Number of outliers: \\n{outliers}\")\n",
    "print(sum(outliers))"
   ]
  },
  {
   "cell_type": "code",
   "execution_count": 391,
   "metadata": {},
   "outputs": [],
   "source": [
    "# cap the outliers with winsorization\n",
    "# define the quantile limits\n",
    "lower_limit = 0.01\n",
    "upper_limit = 0.99\n",
    "# calculate the quantile values\n",
    "lower_quantile = df.quantile(lower_limit)\n",
    "upper_quantile = df.quantile(upper_limit)\n",
    "# cap the values\n",
    "df = df.clip(lower_quantile, upper_quantile, axis=1)"
   ]
  },
  {
   "cell_type": "markdown",
   "metadata": {},
   "source": [
    "# Imbalance"
   ]
  },
  {
   "cell_type": "code",
   "execution_count": 392,
   "metadata": {},
   "outputs": [],
   "source": [
    "def plot_class_distribution(df: pd.DataFrame):\n",
    "    edges = np.linspace(1, 17, 17)\n",
    "    df['Class code'].hist(bins=edges)\n",
    "    plt.title('Distribution of class code')\n",
    "    plt.xlabel('Class code')\n",
    "    plt.ylabel('Frequency')\n",
    "\n",
    "    # calculate bin centers\n",
    "    bin_centers = edges[:-1] + (edges[1] - edges[0]) / 2\n",
    "    plt.xticks(bin_centers, labels=np.arange(1, 17))\n",
    "    plt.xlim(1, 17)\n",
    "    plt.grid(axis='x')\n",
    "    plt.show()"
   ]
  },
  {
   "cell_type": "code",
   "execution_count": 393,
   "metadata": {},
   "outputs": [
    {
     "data": {
      "image/png": "[encoded data removed]",
      "text/plain": [
       "<Figure size 640x480 with 1 Axes>"
      ]
     },
     "metadata": {},
     "output_type": "display_data"
    }
   ],
   "source": [
    "plot_class_distribution(df)"
   ]
  },
  {
   "cell_type": "code",
   "execution_count": 394,
   "metadata": {},
   "outputs": [],
   "source": [
    "def test_model(df: pd.DataFrame):\n",
    "    # split the data into features and target\n",
    "    X = df.drop(columns=['Class code'])\n",
    "    y = df['Class code']\n",
    "\n",
    "    # Due to missing representations encoding is needed\n",
    "    le = LabelEncoder()\n",
    "    y_encoded = le.fit_transform(y)\n",
    "\n",
    "    # split the data into training and testing sets\n",
    "    skfold = StratifiedKFold(n_splits=5, shuffle=True, random_state=42)\n",
    "\n",
    "    # initialize the model\n",
    "    model = XGBClassifier()\n",
    "\n",
    "    # calculate the cross validation score\n",
    "    results = cross_val_score(model, X, y_encoded, cv=skfold, scoring='accuracy')\n",
    "    print(f\"Accuracy: {results.mean()}\")\n",
    "    print(f\"Standard deviation: {results.std()}\")\n",
    "    print(results)"
   ]
  },
  {
   "cell_type": "markdown",
   "metadata": {},
   "source": [
    "### Vanilla model"
   ]
  },
  {
   "cell_type": "code",
   "execution_count": 395,
   "metadata": {},
   "outputs": [
    {
     "name": "stderr",
     "output_type": "stream",
     "text": [
      "c:\\Users\\Ignacy\\Desktop\\programowanie\\Studia\\sem6\\AI_1\\.venv\\Lib\\site-packages\\sklearn\\model_selection\\_split.py:805: UserWarning: The least populated class in y has only 2 members, which is less than n_splits=5.\n",
      "  warnings.warn(\n"
     ]
    },
    {
     "name": "stdout",
     "output_type": "stream",
     "text": [
      "Accuracy: 0.7411721611721612\n",
      "Standard deviation: 0.020249546021415352\n",
      "[0.74725275 0.72527473 0.76666667 0.75555556 0.71111111]\n"
     ]
    }
   ],
   "source": [
    "test_model(df)"
   ]
  },
  {
   "cell_type": "markdown",
   "metadata": {},
   "source": [
    "### duplicated on class 7, 8, 14, 15 model"
   ]
  },
  {
   "cell_type": "code",
   "execution_count": 396,
   "metadata": {},
   "outputs": [
    {
     "data": {
      "image/png": "[encoded data removed]",
      "text/plain": [
       "<Figure size 640x480 with 1 Axes>"
      ]
     },
     "metadata": {},
     "output_type": "display_data"
    }
   ],
   "source": [
    "# duplicate data belonging to class 7, 8, 14 and 15\n",
    "df_copies1 = df[df['Class code'].isin([7, 8, 14, 15])]\n",
    "df_copies2 = df[df['Class code'].isin([7, 8, 14, 15])]\n",
    "\n",
    "df_duplicated = pd.concat([df, df_copies1, df_copies2])\n",
    "\n",
    "plot_class_distribution(df_duplicated)"
   ]
  },
  {
   "cell_type": "code",
   "execution_count": 397,
   "metadata": {},
   "outputs": [
    {
     "name": "stdout",
     "output_type": "stream",
     "text": [
      "Accuracy: 0.7729166666666667\n",
      "Standard deviation: 0.01792151097300549\n",
      "[0.80208333 0.77083333 0.76041667 0.75       0.78125   ]\n"
     ]
    }
   ],
   "source": [
    "test_model(df_duplicated)"
   ]
  },
  {
   "cell_type": "markdown",
   "metadata": {},
   "source": [
    "### trimmed on class 1 by 70% model"
   ]
  },
  {
   "cell_type": "code",
   "execution_count": 398,
   "metadata": {},
   "outputs": [
    {
     "data": {
      "image/png": "[encoded data removed]",
      "text/plain": [
       "<Figure size 640x480 with 1 Axes>"
      ]
     },
     "metadata": {},
     "output_type": "display_data"
    }
   ],
   "source": [
    "# trim data belonging to class 1 by 70%\n",
    "df_trimmed1 = df.drop(df[df['Class code'] == 1].sample(frac=0.70).index)\n",
    "\n",
    "plot_class_distribution(df_trimmed1)"
   ]
  },
  {
   "cell_type": "code",
   "execution_count": 399,
   "metadata": {},
   "outputs": [
    {
     "name": "stderr",
     "output_type": "stream",
     "text": [
      "c:\\Users\\Ignacy\\Desktop\\programowanie\\Studia\\sem6\\AI_1\\.venv\\Lib\\site-packages\\sklearn\\model_selection\\_split.py:805: UserWarning: The least populated class in y has only 2 members, which is less than n_splits=5.\n",
      "  warnings.warn(\n"
     ]
    },
    {
     "name": "stdout",
     "output_type": "stream",
     "text": [
      "Accuracy: 0.6642857142857143\n",
      "Standard deviation: 0.05911766199016732\n",
      "[0.67857143 0.71428571 0.625      0.73214286 0.57142857]\n"
     ]
    }
   ],
   "source": [
    "test_model(df_trimmed1)"
   ]
  },
  {
   "cell_type": "markdown",
   "metadata": {},
   "source": [
    "### trimmed on class 1 by 25% model"
   ]
  },
  {
   "cell_type": "code",
   "execution_count": 400,
   "metadata": {},
   "outputs": [
    {
     "data": {
      "image/png": "[encoded data removed]",
      "text/plain": [
       "<Figure size 640x480 with 1 Axes>"
      ]
     },
     "metadata": {},
     "output_type": "display_data"
    }
   ],
   "source": [
    "# trim data belonging to class 1 by 25%\n",
    "df_trimmed2 = df.drop(df[df['Class code'] == 1].sample(frac=0.25).index)\n",
    "\n",
    "plot_class_distribution(df_trimmed2)"
   ]
  },
  {
   "cell_type": "code",
   "execution_count": 401,
   "metadata": {},
   "outputs": [
    {
     "name": "stderr",
     "output_type": "stream",
     "text": [
      "c:\\Users\\Ignacy\\Desktop\\programowanie\\Studia\\sem6\\AI_1\\.venv\\Lib\\site-packages\\sklearn\\model_selection\\_split.py:805: UserWarning: The least populated class in y has only 2 members, which is less than n_splits=5.\n",
      "  warnings.warn(\n"
     ]
    },
    {
     "name": "stdout",
     "output_type": "stream",
     "text": [
      "Accuracy: 0.7161635832521909\n",
      "Standard deviation: 0.019678684052222156\n",
      "[0.69620253 0.73076923 0.69230769 0.71794872 0.74358974]\n"
     ]
    }
   ],
   "source": [
    "test_model(df_trimmed2)"
   ]
  },
  {
   "cell_type": "markdown",
   "metadata": {},
   "source": [
    "### trimmed by 25% and duplicated model"
   ]
  },
  {
   "cell_type": "code",
   "execution_count": 402,
   "metadata": {},
   "outputs": [
    {
     "data": {
      "image/png": "[encoded data removed]",
      "text/plain": [
       "<Figure size 640x480 with 1 Axes>"
      ]
     },
     "metadata": {},
     "output_type": "display_data"
    }
   ],
   "source": [
    "# trim data belonging to class 1 by 25% and duplicate data belonging to class 7, 8, 14 and 15\n",
    "df_trimmed_duplicated = pd.concat([df_trimmed2, df_copies1, df_copies2])\n",
    "\n",
    "plot_class_distribution(df_trimmed_duplicated)"
   ]
  },
  {
   "cell_type": "code",
   "execution_count": 403,
   "metadata": {},
   "outputs": [
    {
     "name": "stdout",
     "output_type": "stream",
     "text": [
      "Accuracy: 0.7781411359724614\n",
      "Standard deviation: 0.04639037616676894\n",
      "[0.80952381 0.77380952 0.79761905 0.69047619 0.81927711]\n"
     ]
    }
   ],
   "source": [
    "test_model(df_trimmed_duplicated)"
   ]
  },
  {
   "cell_type": "markdown",
   "metadata": {},
   "source": [
    "## Conclusion\n",
    "\n",
    "Duplicating data for underrepresented classes helps significantly to improve the model, with additional trimming of the overrepresented class, the model can be further improved. Just trimming the overrepresented class does not help much."
   ]
  }
 ],
 "metadata": {
  "kernelspec": {
   "display_name": ".venv",
   "language": "python",
   "name": "python3"
  },
  "language_info": {
   "codemirror_mode": {
    "name": "ipython",
    "version": 3
   },
   "file_extension": ".py",
   "mimetype": "text/x-python",
   "name": "python",
   "nbconvert_exporter": "python",
   "pygments_lexer": "ipython3",
   "version": "3.12.1"
  }
 },
 "nbformat": 4,
 "nbformat_minor": 2
}
