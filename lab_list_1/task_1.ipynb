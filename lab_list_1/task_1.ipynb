{
 "cells": [
  {
   "cell_type": "code",
   "execution_count": null,
   "metadata": {},
   "outputs": [],
   "source": [
    "import pandas as pd\n",
    "import Bio"
   ]
  },
  {
   "cell_type": "markdown",
   "metadata": {},
   "source": [
    "# Downloading data"
   ]
  },
  {
   "cell_type": "markdown",
   "metadata": {},
   "source": [
    "## dbAMP"
   ]
  },
  {
   "cell_type": "markdown",
   "metadata": {},
   "source": [
    "### Information:\n",
    "- link: https://awi.cuhk.edu.cn/dbAMP/download2024.php\n",
    "- last update in 06/2024\n",
    "- available data: 35600 AMPs\n",
    "- used data: 35600 AMPs\n",
    "- formats available: xlsx, fasta"
   ]
  },
  {
   "cell_type": "markdown",
   "metadata": {},
   "source": [
    "### Downloading:\n",
    "- download tab was selected\n",
    "- no filters or queries were applied\n",
    "- Download All Antimicrobial peptides Sequence Data was selected\n",
    "- the file was downloaded in xlsx format"
   ]
  },
  {
   "cell_type": "markdown",
   "metadata": {},
   "source": [
    "### Preprocessing"
   ]
  },
  {
   "cell_type": "code",
   "execution_count": 76,
   "metadata": {},
   "outputs": [
    {
     "data": {
      "text/plain": [
       "Index(['dbAMP_ID', 'Name', 'Source', 'Tax', 'Uniprot', 'PDB', 'Targets',\n",
       "       'Seq'],\n",
       "      dtype='object')"
      ]
     },
     "execution_count": 76,
     "metadata": {},
     "output_type": "execute_result"
    }
   ],
   "source": [
    "df_dbamp3 = pd.read_excel('data/dbAMP3.xlsx')\n",
    "df_dbamp3.columns"
   ]
  },
  {
   "cell_type": "code",
   "execution_count": 77,
   "metadata": {},
   "outputs": [
    {
     "data": {
      "text/html": [
       "<div>\n",
       "<style scoped>\n",
       "    .dataframe tbody tr th:only-of-type {\n",
       "        vertical-align: middle;\n",
       "    }\n",
       "\n",
       "    .dataframe tbody tr th {\n",
       "        vertical-align: top;\n",
       "    }\n",
       "\n",
       "    .dataframe thead th {\n",
       "        text-align: right;\n",
       "    }\n",
       "</style>\n",
       "<table border=\"1\" class=\"dataframe\">\n",
       "  <thead>\n",
       "    <tr style=\"text-align: right;\">\n",
       "      <th></th>\n",
       "      <th>Name</th>\n",
       "      <th>Sequence</th>\n",
       "      <th>Length</th>\n",
       "      <th>Classification</th>\n",
       "    </tr>\n",
       "  </thead>\n",
       "  <tbody>\n",
       "    <tr>\n",
       "      <th>0</th>\n",
       "      <td>Designed AMP No.1</td>\n",
       "      <td>FAAKHNGKSLFKPQN</td>\n",
       "      <td>15</td>\n",
       "      <td>1</td>\n",
       "    </tr>\n",
       "    <tr>\n",
       "      <th>1</th>\n",
       "      <td>Synthetic construct&amp;&amp;4A</td>\n",
       "      <td>AAAAGSVWGAVNYTSDCNGECKRRGYKGGYCGSFANVNCWCET</td>\n",
       "      <td>43</td>\n",
       "      <td>1</td>\n",
       "    </tr>\n",
       "    <tr>\n",
       "      <th>2</th>\n",
       "      <td>gag</td>\n",
       "      <td>AAANPGLLETSEGCRQIL</td>\n",
       "      <td>18</td>\n",
       "      <td>1</td>\n",
       "    </tr>\n",
       "    <tr>\n",
       "      <th>3</th>\n",
       "      <td>gag</td>\n",
       "      <td>AAAPAATLEEHMTACQGV</td>\n",
       "      <td>18</td>\n",
       "      <td>1</td>\n",
       "    </tr>\n",
       "    <tr>\n",
       "      <th>5</th>\n",
       "      <td>jellyfish, Aurelia aurita&amp;&amp;Aurelin (jellyfish,...</td>\n",
       "      <td>AACSDRAHGHICESFKSFCKDSGRNGVKLRANCKKTCGLC</td>\n",
       "      <td>40</td>\n",
       "      <td>1</td>\n",
       "    </tr>\n",
       "  </tbody>\n",
       "</table>\n",
       "</div>"
      ],
      "text/plain": [
       "                                                Name  \\\n",
       "0                                  Designed AMP No.1   \n",
       "1                            Synthetic construct&&4A   \n",
       "2                                                gag   \n",
       "3                                                gag   \n",
       "5  jellyfish, Aurelia aurita&&Aurelin (jellyfish,...   \n",
       "\n",
       "                                      Sequence  Length  Classification  \n",
       "0                              FAAKHNGKSLFKPQN      15               1  \n",
       "1  AAAAGSVWGAVNYTSDCNGECKRRGYKGGYCGSFANVNCWCET      43               1  \n",
       "2                           AAANPGLLETSEGCRQIL      18               1  \n",
       "3                           AAAPAATLEEHMTACQGV      18               1  \n",
       "5     AACSDRAHGHICESFKSFCKDSGRNGVKLRANCKKTCGLC      40               1  "
      ]
     },
     "execution_count": 77,
     "metadata": {},
     "output_type": "execute_result"
    }
   ],
   "source": [
    "# select columns\n",
    "df_dbamp3 = df_dbamp3[['Name', 'Seq']]\n",
    "\n",
    "# add sequence length and Classification\n",
    "df_dbamp3['Length'] = df_dbamp3['Seq'].apply(len)\n",
    "df_dbamp3['Classification'] = 1\n",
    "\n",
    "# rename columns\n",
    "df_dbamp3.rename(columns={'Seq': 'Sequence'}, inplace=True)\n",
    "\n",
    "# remove sequences with length < 10 or > 50\n",
    "df_dbamp3 = df_dbamp3[(df_dbamp3['Length'] >= 10) & (df_dbamp3['Length'] <= 50)]\n",
    "\n",
    "# display first few rows\n",
    "df_dbamp3.head()"
   ]
  },
  {
   "cell_type": "code",
   "execution_count": null,
   "metadata": {},
   "outputs": [],
   "source": []
  },
  {
   "cell_type": "markdown",
   "metadata": {},
   "source": [
    "## DRAMP"
   ]
  },
  {
   "cell_type": "markdown",
   "metadata": {},
   "source": [
    "### Information:\n",
    "- link: http://dramp.cpu-bioinfor.org/downloads/\n",
    "- last update in 09/2024\n",
    "- available data: 30260 AMPs\n",
    "- used data: 11612 AMPs\n",
    "- formats available: xlsx, txt, fasta"
   ]
  },
  {
   "cell_type": "markdown",
   "metadata": {},
   "source": [
    "### Downloading:\n",
    "- downloads tab was selected\n",
    "- no filters or queries were applied\n",
    "- General dataset was selected\n",
    "- the file was downloaded in xlsx format "
   ]
  },
  {
   "cell_type": "markdown",
   "metadata": {},
   "source": [
    "### Preprocessing"
   ]
  },
  {
   "cell_type": "code",
   "execution_count": 78,
   "metadata": {},
   "outputs": [
    {
     "data": {
      "text/plain": [
       "Index(['DRAMP_ID', 'Sequence', 'Sequence_Length', 'Name', 'Swiss_Prot_Entry',\n",
       "       'Family', 'Gene', 'Source', 'Activity', 'Protein_existence',\n",
       "       'Structure', 'Structure_Description', 'PDB_ID', 'Comments',\n",
       "       'Target_Organism', 'Hemolytic_activity', 'Linear/Cyclic/Branched',\n",
       "       'N-terminal_Modification', 'C-terminal_Modification',\n",
       "       'Other_Modifications', 'Stereochemistry', 'Cytotoxicity',\n",
       "       'Binding_Traget', 'Pubmed_ID', 'Reference', 'Author', 'Title'],\n",
       "      dtype='object')"
      ]
     },
     "execution_count": 78,
     "metadata": {},
     "output_type": "execute_result"
    }
   ],
   "source": [
    "df_dramp = pd.read_excel('data/dramp.xlsx')\n",
    "df_dramp.columns"
   ]
  },
  {
   "cell_type": "code",
   "execution_count": 79,
   "metadata": {},
   "outputs": [
    {
     "data": {
      "text/html": [
       "<div>\n",
       "<style scoped>\n",
       "    .dataframe tbody tr th:only-of-type {\n",
       "        vertical-align: middle;\n",
       "    }\n",
       "\n",
       "    .dataframe tbody tr th {\n",
       "        vertical-align: top;\n",
       "    }\n",
       "\n",
       "    .dataframe thead th {\n",
       "        text-align: right;\n",
       "    }\n",
       "</style>\n",
       "<table border=\"1\" class=\"dataframe\">\n",
       "  <thead>\n",
       "    <tr style=\"text-align: right;\">\n",
       "      <th></th>\n",
       "      <th>Name</th>\n",
       "      <th>Sequence</th>\n",
       "      <th>Length</th>\n",
       "      <th>Classification</th>\n",
       "    </tr>\n",
       "  </thead>\n",
       "  <tbody>\n",
       "    <tr>\n",
       "      <th>0</th>\n",
       "      <td>Epicidin 280 (Bacteriocin)</td>\n",
       "      <td>SLGPAIKATRQVCPKATRFVTVSCKKSDCQ</td>\n",
       "      <td>30</td>\n",
       "      <td>1</td>\n",
       "    </tr>\n",
       "    <tr>\n",
       "      <th>1</th>\n",
       "      <td>Microbisporicin A1 (Bacteriocin)</td>\n",
       "      <td>VTSWSLCTPGCTSPGGGSNCSFCC</td>\n",
       "      <td>24</td>\n",
       "      <td>1</td>\n",
       "    </tr>\n",
       "    <tr>\n",
       "      <th>2</th>\n",
       "      <td>Ruminococcin A (RumA; Bacteriocin)</td>\n",
       "      <td>GNGVLKTISHECNMNTWQFLFTCC</td>\n",
       "      <td>24</td>\n",
       "      <td>1</td>\n",
       "    </tr>\n",
       "    <tr>\n",
       "      <th>3</th>\n",
       "      <td>Lantibiotic michiganin-A (Bacteriocin)</td>\n",
       "      <td>SSSGWLCTLTIECGTIICACR</td>\n",
       "      <td>21</td>\n",
       "      <td>1</td>\n",
       "    </tr>\n",
       "    <tr>\n",
       "      <th>5</th>\n",
       "      <td>Garvieacin Q (GarQ; Bacteriocin)</td>\n",
       "      <td>EYHLMNGANGYLTRVNGKTVYRVTKDPVSAVFGVISNCWGSAGAGF...</td>\n",
       "      <td>50</td>\n",
       "      <td>1</td>\n",
       "    </tr>\n",
       "  </tbody>\n",
       "</table>\n",
       "</div>"
      ],
      "text/plain": [
       "                                     Name  \\\n",
       "0              Epicidin 280 (Bacteriocin)   \n",
       "1        Microbisporicin A1 (Bacteriocin)   \n",
       "2      Ruminococcin A (RumA; Bacteriocin)   \n",
       "3  Lantibiotic michiganin-A (Bacteriocin)   \n",
       "5        Garvieacin Q (GarQ; Bacteriocin)   \n",
       "\n",
       "                                            Sequence  Length  Classification  \n",
       "0                     SLGPAIKATRQVCPKATRFVTVSCKKSDCQ      30               1  \n",
       "1                           VTSWSLCTPGCTSPGGGSNCSFCC      24               1  \n",
       "2                           GNGVLKTISHECNMNTWQFLFTCC      24               1  \n",
       "3                              SSSGWLCTLTIECGTIICACR      21               1  \n",
       "5  EYHLMNGANGYLTRVNGKTVYRVTKDPVSAVFGVISNCWGSAGAGF...      50               1  "
      ]
     },
     "execution_count": 79,
     "metadata": {},
     "output_type": "execute_result"
    }
   ],
   "source": [
    "# select columns\n",
    "df_dramp = df_dramp[['Name', 'Sequence', 'Sequence_Length']]\n",
    "\n",
    "# rename columns\n",
    "df_dramp.rename(columns={'Sequence_Length': 'Length'}, inplace=True)\n",
    "\n",
    "# add Classification\n",
    "df_dramp['Classification'] = 1\n",
    "\n",
    "# remove sequences with length < 10 or > 50\n",
    "df_dramp = df_dramp[(df_dramp['Length'] >= 10) & (df_dramp['Length'] <= 50)]\n",
    "\n",
    "# display first few rows\n",
    "df_dramp.head()"
   ]
  },
  {
   "cell_type": "code",
   "execution_count": null,
   "metadata": {},
   "outputs": [],
   "source": []
  },
  {
   "cell_type": "markdown",
   "metadata": {},
   "source": [
    "## CAMPR3"
   ]
  },
  {
   "cell_type": "markdown",
   "metadata": {},
   "source": []
  },
  {
   "cell_type": "markdown",
   "metadata": {},
   "source": [
    "## UniProt"
   ]
  }
 ],
 "metadata": {
  "kernelspec": {
   "display_name": ".venv",
   "language": "python",
   "name": "python3"
  },
  "language_info": {
   "codemirror_mode": {
    "name": "ipython",
    "version": 3
   },
   "file_extension": ".py",
   "mimetype": "text/x-python",
   "name": "python",
   "nbconvert_exporter": "python",
   "pygments_lexer": "ipython3",
   "version": "3.12.1"
  }
 },
 "nbformat": 4,
 "nbformat_minor": 2
}
