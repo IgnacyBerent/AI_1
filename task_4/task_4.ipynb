{
 "cells": [
  {
   "cell_type": "code",
   "execution_count": 1,
   "id": "fbc121e30a2defb3",
   "metadata": {
    "ExecuteTime": {
     "end_time": "2025-06-17T18:25:12.705620Z",
     "start_time": "2025-06-17T18:25:08.632130Z"
    }
   },
   "outputs": [],
   "source": [
    "import numpy as np\n",
    "import torch\n",
    "from torchvision import datasets, transforms\n",
    "import torch.nn as nn\n",
    "import torch.nn.functional as F\n",
    "import torch.optim as optim\n",
    "import matplotlib.pyplot as plt"
   ]
  },
  {
   "cell_type": "markdown",
   "id": "fb47c2d4",
   "metadata": {},
   "source": [
    "# Find best filters using evolutionary algorithm"
   ]
  },
  {
   "cell_type": "markdown",
   "id": "0a1f9b1b",
   "metadata": {},
   "source": [
    "## Calculations"
   ]
  },
  {
   "cell_type": "code",
   "execution_count": 3,
   "id": "7e6cbd8510acdc7d",
   "metadata": {
    "ExecuteTime": {
     "end_time": "2025-06-17T18:28:54.501214Z",
     "start_time": "2025-06-17T18:25:57.629633Z"
    }
   },
   "outputs": [
    {
     "name": "stdout",
     "output_type": "stream",
     "text": [
      "Generation 1, Best Fitness: 4.6076\n",
      "Generation 2, Best Fitness: 3.3855\n",
      "Generation 3, Best Fitness: 3.1137\n",
      "Generation 4, Best Fitness: 3.1017\n",
      "Generation 5, Best Fitness: 3.1017\n",
      "Generation 6, Best Fitness: 3.1017\n",
      "Population size is less than 2. Ending simulation.\n",
      "Generation 7: Fitness list is empty. Ending simulation.\n"
     ]
    }
   ],
   "source": [
    "transform = transforms.Compose([transforms.ToTensor()])\n",
    "mnist_train = datasets.MNIST('../data', train=True, download=True, transform=transform)\n",
    "train_images = mnist_train.data.float() / 255.0 \n",
    "\n",
    "#\n",
    "population_size = 20\n",
    "filter_size = 7\n",
    "num_filters = 5\n",
    "generations = 50\n",
    "mutation_rate = 0.1\n",
    "\n",
    "def initialize_population(pop_size, num_filters, filter_size):\n",
    "    if pop_size < 2:\n",
    "        raise ValueError(\"Population size must be at least 2.\")\n",
    "    return [np.random.uniform(-1, 1, (num_filters, filter_size, filter_size)) for _ in range(pop_size)]\n",
    "\n",
    "def compute_fitness(filters, images):\n",
    "    responses = []\n",
    "    for filter_set in filters:\n",
    "        response = 0\n",
    "        for f in filter_set:\n",
    "            conv_result = torch.nn.functional.conv2d(\n",
    "                images.unsqueeze(1), \n",
    "                torch.tensor(f, dtype=torch.float32).unsqueeze(0).unsqueeze(0), \n",
    "                padding=filter_size // 2\n",
    "            )\n",
    "            response += torch.abs(conv_result).mean().item()\n",
    "        responses.append(response)\n",
    "    return responses\n",
    "\n",
    "def select_parents(population, fitness):\n",
    "    selected = []\n",
    "    if len(population) < 2:\n",
    "        print(\"Population size is less than 2. Ending simulation.\")\n",
    "        return []  \n",
    "    for _ in range(len(population)):\n",
    "        i, j = np.random.choice(len(population), 2, replace=False)\n",
    "        selected.append(population[i] if fitness[i] > fitness[j] else population[j])\n",
    "    return selected\n",
    "\n",
    "def crossover(parent1, parent2):\n",
    "    child = []\n",
    "    for f1, f2 in zip(parent1, parent2):\n",
    "        alpha = np.random.uniform(0, 1)\n",
    "        child.append(alpha * f1 + (1 - alpha) * f2)\n",
    "    return np.array(child)\n",
    "\n",
    "def mutate(filters, mutation_rate):\n",
    "    for f in filters:\n",
    "        if np.random.rand() < mutation_rate:\n",
    "            f += np.random.normal(0, 0.1, f.shape)\n",
    "    return filters\n",
    "\n",
    "\n",
    "def evolve(images, pop_size, num_filters, filter_size, generations, mutation_rate):\n",
    "    population = initialize_population(pop_size, num_filters, filter_size)\n",
    "    best_filters = None\n",
    "    best_fitness = float('-inf')  \n",
    "\n",
    "    for generation in range(generations):\n",
    "        fitness = compute_fitness(population, images)\n",
    "\n",
    "        \n",
    "        if not fitness:\n",
    "            print(f\"Generation {generation + 1}: Fitness list is empty. Ending simulation.\")\n",
    "            return best_filters  \n",
    "\n",
    "        current_best_fitness = max(fitness)\n",
    "        if current_best_fitness > best_fitness:\n",
    "            best_fitness = current_best_fitness\n",
    "            best_filters = population[np.argmax(fitness)]\n",
    "\n",
    "        print(f\"Generation {generation + 1}, Best Fitness: {current_best_fitness:.4f}\")\n",
    "        parents = select_parents(population, fitness)\n",
    "\n",
    "        if len(parents) % 2 != 0:\n",
    "            parents.append(parents[-1])  \n",
    "\n",
    "        offspring = [crossover(parents[i], parents[i + 1]) for i in range(0, len(parents), 2)]\n",
    "        population = [mutate(child, mutation_rate) for child in offspring]\n",
    "\n",
    "    return best_filters\n",
    "\n",
    "best_filters = evolve(train_images, population_size, num_filters, filter_size, generations, mutation_rate)\n"
   ]
  },
  {
   "cell_type": "markdown",
   "id": "7dfe8021",
   "metadata": {},
   "source": [
    "## Results"
   ]
  },
  {
   "cell_type": "code",
   "execution_count": 4,
   "id": "3858302ff603f223",
   "metadata": {},
   "outputs": [
    {
     "data": {
      "image/png": "[encoded data removed]",
      "text/plain": [
       "<Figure size 1500x500 with 5 Axes>"
      ]
     },
     "metadata": {},
     "output_type": "display_data"
    }
   ],
   "source": [
    "plt.figure(figsize=(15, 5))\n",
    "for i, f in enumerate(best_filters):\n",
    "    plt.subplot(1, num_filters, i + 1)\n",
    "    plt.imshow(f, cmap='gray')\n",
    "    plt.title(f\"Filter {i + 1}\")\n",
    "plt.show()"
   ]
  },
  {
   "cell_type": "code",
   "execution_count": 5,
   "id": "e000b458",
   "metadata": {},
   "outputs": [
    {
     "data": {
      "text/plain": [
       "(5, 7, 7)"
      ]
     },
     "execution_count": 5,
     "metadata": {},
     "output_type": "execute_result"
    }
   ],
   "source": [
    "best_filters.shape"
   ]
  },
  {
   "cell_type": "code",
   "execution_count": 6,
   "id": "8fa0e76e",
   "metadata": {},
   "outputs": [
    {
     "data": {
      "text/plain": [
       "(5, 7, 1, 7)"
      ]
     },
     "execution_count": 6,
     "metadata": {},
     "output_type": "execute_result"
    }
   ],
   "source": [
    "best_filters = best_filters.reshape(5, 7, 1, 7)\n",
    "best_filters.shape"
   ]
  },
  {
   "cell_type": "markdown",
   "id": "4ffc64d4",
   "metadata": {},
   "source": [
    "# Test the best filters"
   ]
  },
  {
   "cell_type": "markdown",
   "id": "02dc9b5a",
   "metadata": {},
   "source": [
    "## Setup"
   ]
  },
  {
   "cell_type": "code",
   "execution_count": 8,
   "id": "eb652124",
   "metadata": {},
   "outputs": [],
   "source": [
    "# load the MINST dataset via torchvision\n",
    "transform = transforms.Compose([transforms.ToTensor(),\n",
    "                              transforms.Normalize((0.1307,), (0.3081,))])\n",
    "#Using default values (like 0.5/0.5) might work \"okay,\" but It doesn’t provide an optimal data distribution\n",
    "mnist_train = datasets.MNIST('../data', train=True, download=True, transform=transform)\n",
    "# we divide this data into training and validation subsets\n",
    "train_subset, validation_subset = torch.utils.data.random_split(mnist_train, [50000, 10000])\n",
    "#test data separately – these are 10000 images the model has never seen before.\n",
    "test_subset = datasets.MNIST('../data', train=False, download=True, transform=transform)\n",
    "\n",
    "# define dataloaders - objects responsible for loading data during model training.\n",
    "loader_kwargs = {'batch_size': 128,\n",
    "                 'num_workers': 2,\n",
    "                 'pin_memory': True,\n",
    "                 'shuffle': True} #randomly shuffles the data in each epoch – this prevents the model from memorizing the order and improves generalization.\n",
    "#We create 3 separate DataLoaders – one for each data subset:\n",
    "train_loader = torch.utils.data.DataLoader(train_subset, **loader_kwargs)\n",
    "validation_loader = torch.utils.data.DataLoader(validation_subset, **loader_kwargs)\n",
    "test_loader = torch.utils.data.DataLoader(test_subset, **loader_kwargs)"
   ]
  },
  {
   "cell_type": "code",
   "execution_count": 9,
   "id": "ecd5ec9a",
   "metadata": {},
   "outputs": [],
   "source": [
    "#And define training, testing, and plotting utils:\n",
    "def train(model, device, train_loader, optimizer, epoch_number):\n",
    "    model.train()\n",
    "    train_loss = 0.\n",
    "    # get subsequent batches over the data in a given epoch\n",
    "    for batch_idx, (data, target) in enumerate(train_loader):\n",
    "        # send data tensors to GPU (or CPU)\n",
    "        data, target = data.to(device), target.to(device)\n",
    "        # this will zero out the gradients for this batch\n",
    "        optimizer.zero_grad()\n",
    "        # this will execute the forward() function\n",
    "        output = model(data)\n",
    "        # calculate the negative-log-likelihood loss\n",
    "        loss = F.nll_loss(output, target, reduction='mean')\n",
    "        # backpropagate the loss\n",
    "        loss.backward()\n",
    "        # update the model weights (with assumed learning rate)\n",
    "        optimizer.step()\n",
    "        if batch_idx % 100 == 0:\n",
    "            print('Train Epoch: {} [{}/{} ({:.0f}%)]\\tLoss: {:.6f}'.format(\n",
    "                epoch_number, batch_idx * len(data), len(train_loader.dataset),\n",
    "                100. * batch_idx / len(train_loader), loss.item()))\n",
    "        train_loss += loss.item()\n",
    "    train_loss /= len(train_loader)\n",
    "    print('\\nTrain set: Average loss: {:.4f}'.format(train_loss))\n",
    "    return train_loss\n",
    "\n",
    "def test(model, device, test_loader, message):\n",
    "    model.eval()\n",
    "    test_loss = 0.\n",
    "    correct = 0\n",
    "    # this is just inference, we don't need to calculate gradients\n",
    "    with torch.no_grad():\n",
    "        for data, target in test_loader:\n",
    "            data, target = data.to(device), target.to(device)\n",
    "            output = model(data)\n",
    "            # calculate and sum up batch loss\n",
    "            test_loss += F.nll_loss(output, target, reduction='mean')\n",
    "            # get the index of class with the max log-probability\n",
    "            prediction = output.argmax(dim=1)\n",
    "            # item() returns value of the given tensor\n",
    "            correct += prediction.eq(target).sum().item()\n",
    "    test_loss /= len(test_loader)\n",
    "    print('{}: Average loss: {:.4f}, Accuracy: {}/{} ({:.0f}%)\\n'.format(\n",
    "        message, test_loss, correct, len(test_loader.dataset),\n",
    "        100. * correct / len(test_loader.dataset)))\n",
    "    return test_loss.cpu()\n",
    "\n",
    "def plot_loss(train_loss, validation_loss, title):\n",
    "    plt.grid(True)\n",
    "    plt.xlabel(\"subsequent epochs\")\n",
    "    plt.ylabel('average loss')\n",
    "    plt.plot(range(1, len(train_loss)+1), train_loss, 'o-', label='training')\n",
    "    plt.plot(range(1, len(validation_loss)+1), validation_loss, 'o-', label='validation')\n",
    "    plt.legend()\n",
    "    plt.title(title)\n",
    "    plt.show()"
   ]
  },
  {
   "cell_type": "code",
   "execution_count": null,
   "id": "d6ca3bf5",
   "metadata": {},
   "outputs": [],
   "source": [
    "import torch\n",
    "import torch.nn as nn\n",
    "import torch.optim as optim\n",
    "\n",
    "device = torch.device(\"cuda\" if torch.cuda.is_available() else \"cpu\")\n",
    "\n",
    "class Net(nn.Module):\n",
    "    def __init__(self, kernel: torch.Tensor):\n",
    "        super().__init__()\n",
    "        self.conv = nn.Conv2d(1, kernel.size(0), kernel.size(2),\n",
    "                              padding=kernel.size(2)//2, bias=False)\n",
    "        self.conv.weight.data = kernel\n",
    "        self.conv.weight.requires_grad_(False) # Freeze the weights on filters\n",
    "        self.pool = nn.MaxPool2d(2,2)\n",
    "        # run a dummy through to get the flattened size\n",
    "        with torch.no_grad():\n",
    "            dummy = torch.zeros(1,1,28,28)\n",
    "            out = self.pool(torch.relu(self.conv(dummy)))\n",
    "            n_feats = out.view(1,-1).size(1)\n",
    "        self.fc1 = nn.Linear(n_feats, 128)\n",
    "        self.dropout = nn.Dropout(0.5)\n",
    "        self.fc2 = nn.Linear(128, 10)\n",
    "\n",
    "    def forward(self, x):\n",
    "        x = torch.relu(self.conv(x))\n",
    "        x = self.pool(x)\n",
    "        x = x.view(x.size(0), -1)\n",
    "        x = torch.relu(self.fc1(x))\n",
    "        x = self.dropout(x)\n",
    "        x = self.fc2(x)\n",
    "        return F.log_softmax(x, dim=1)"
   ]
  },
  {
   "cell_type": "markdown",
   "id": "0ad03aa4",
   "metadata": {},
   "source": [
    "## Applay the best filters"
   ]
  },
  {
   "cell_type": "code",
   "execution_count": null,
   "id": "865f2348",
   "metadata": {},
   "outputs": [],
   "source": [
    "# load filters from the previous step\n",
    "kernel = torch.from_numpy(best_filters).permute(3,2,0,1).float()\n",
    "model = Net(kernel).to(device)"
   ]
  },
  {
   "cell_type": "code",
   "execution_count": 23,
   "id": "ba7bd087",
   "metadata": {},
   "outputs": [
    {
     "name": "stderr",
     "output_type": "stream",
     "text": [
      "c:\\Users\\Ignacy\\Desktop\\programowanie\\Studia\\sem6\\AI_1\\.venv\\Lib\\site-packages\\torch\\utils\\data\\dataloader.py:665: UserWarning: 'pin_memory' argument is set as true but no accelerator is found, then device pinned memory won't be used.\n",
      "  warnings.warn(warn_msg)\n"
     ]
    },
    {
     "name": "stdout",
     "output_type": "stream",
     "text": [
      "Train Epoch: 1 [0/50000 (0%)]\tLoss: 3.213757\n",
      "Train Epoch: 1 [12800/50000 (26%)]\tLoss: 0.581196\n",
      "Train Epoch: 1 [25600/50000 (51%)]\tLoss: 0.336958\n",
      "Train Epoch: 1 [38400/50000 (77%)]\tLoss: 0.470520\n",
      "\n",
      "Train set: Average loss: 0.4503\n",
      "Val: Average loss: 0.1734, Accuracy: 9472/10000 (95%)\n",
      "\n",
      "Train Epoch: 2 [0/50000 (0%)]\tLoss: 0.227794\n",
      "Train Epoch: 2 [12800/50000 (26%)]\tLoss: 0.370211\n",
      "Train Epoch: 2 [25600/50000 (51%)]\tLoss: 0.120586\n",
      "Train Epoch: 2 [38400/50000 (77%)]\tLoss: 0.374276\n",
      "\n",
      "Train set: Average loss: 0.2619\n",
      "Val: Average loss: 0.1418, Accuracy: 9590/10000 (96%)\n",
      "\n",
      "Train Epoch: 3 [0/50000 (0%)]\tLoss: 0.356195\n",
      "Train Epoch: 3 [12800/50000 (26%)]\tLoss: 0.272311\n",
      "Train Epoch: 3 [25600/50000 (51%)]\tLoss: 0.305803\n",
      "Train Epoch: 3 [38400/50000 (77%)]\tLoss: 0.205211\n",
      "\n",
      "Train set: Average loss: 0.2231\n",
      "Val: Average loss: 0.1208, Accuracy: 9620/10000 (96%)\n",
      "\n",
      "Train Epoch: 4 [0/50000 (0%)]\tLoss: 0.130719\n",
      "Train Epoch: 4 [12800/50000 (26%)]\tLoss: 0.124145\n",
      "Train Epoch: 4 [25600/50000 (51%)]\tLoss: 0.205220\n",
      "Train Epoch: 4 [38400/50000 (77%)]\tLoss: 0.089940\n",
      "\n",
      "Train set: Average loss: 0.2038\n",
      "Val: Average loss: 0.1217, Accuracy: 9632/10000 (96%)\n",
      "\n",
      "Train Epoch: 5 [0/50000 (0%)]\tLoss: 0.140487\n",
      "Train Epoch: 5 [12800/50000 (26%)]\tLoss: 0.292916\n",
      "Train Epoch: 5 [25600/50000 (51%)]\tLoss: 0.321710\n",
      "Train Epoch: 5 [38400/50000 (77%)]\tLoss: 0.211200\n",
      "\n",
      "Train set: Average loss: 0.1936\n",
      "Val: Average loss: 0.1068, Accuracy: 9688/10000 (97%)\n",
      "\n",
      "Train Epoch: 6 [0/50000 (0%)]\tLoss: 0.288197\n",
      "Train Epoch: 6 [12800/50000 (26%)]\tLoss: 0.146138\n",
      "Train Epoch: 6 [25600/50000 (51%)]\tLoss: 0.131897\n",
      "Train Epoch: 6 [38400/50000 (77%)]\tLoss: 0.185354\n",
      "\n",
      "Train set: Average loss: 0.1774\n",
      "Val: Average loss: 0.1115, Accuracy: 9651/10000 (97%)\n",
      "\n",
      "Train Epoch: 7 [0/50000 (0%)]\tLoss: 0.282894\n",
      "Train Epoch: 7 [12800/50000 (26%)]\tLoss: 0.235312\n",
      "Train Epoch: 7 [25600/50000 (51%)]\tLoss: 0.210552\n",
      "Train Epoch: 7 [38400/50000 (77%)]\tLoss: 0.285064\n",
      "\n",
      "Train set: Average loss: 0.1711\n",
      "Val: Average loss: 0.1069, Accuracy: 9683/10000 (97%)\n",
      "\n",
      "Train Epoch: 8 [0/50000 (0%)]\tLoss: 0.100333\n",
      "Train Epoch: 8 [12800/50000 (26%)]\tLoss: 0.258181\n",
      "Train Epoch: 8 [25600/50000 (51%)]\tLoss: 0.270151\n",
      "Train Epoch: 8 [38400/50000 (77%)]\tLoss: 0.116877\n",
      "\n",
      "Train set: Average loss: 0.1700\n",
      "Val: Average loss: 0.0983, Accuracy: 9722/10000 (97%)\n",
      "\n",
      "Train Epoch: 9 [0/50000 (0%)]\tLoss: 0.121898\n",
      "Train Epoch: 9 [12800/50000 (26%)]\tLoss: 0.193108\n",
      "Train Epoch: 9 [25600/50000 (51%)]\tLoss: 0.116591\n",
      "Train Epoch: 9 [38400/50000 (77%)]\tLoss: 0.156071\n",
      "\n",
      "Train set: Average loss: 0.1623\n",
      "Val: Average loss: 0.0981, Accuracy: 9728/10000 (97%)\n",
      "\n",
      "Train Epoch: 10 [0/50000 (0%)]\tLoss: 0.196866\n",
      "Train Epoch: 10 [12800/50000 (26%)]\tLoss: 0.124752\n",
      "Train Epoch: 10 [25600/50000 (51%)]\tLoss: 0.064687\n",
      "Train Epoch: 10 [38400/50000 (77%)]\tLoss: 0.231355\n",
      "\n",
      "Train set: Average loss: 0.1500\n",
      "Val: Average loss: 0.0949, Accuracy: 9722/10000 (97%)\n",
      "\n",
      "Test set: Average loss: 0.0847, Accuracy: 9740/10000 (97%)\n",
      "\n"
     ]
    },
    {
     "data": {
      "image/png": "[encoded data removed]",
      "text/plain": [
       "<Figure size 640x480 with 1 Axes>"
      ]
     },
     "metadata": {},
     "output_type": "display_data"
    }
   ],
   "source": [
    "device = torch.device(\"cuda\" if torch.cuda.is_available() else \"cpu\")\n",
    "torch.manual_seed(42)\n",
    "train_loss = []\n",
    "validation_loss = []\n",
    "\n",
    "optimizer = optim.Adam(model.parameters(), lr=0.001, weight_decay=1e-5)\n",
    "scheduler = optim.lr_scheduler.StepLR(optimizer, step_size=10, gamma=0.5)\n",
    "\n",
    "for epoch in range(1, 10+1):\n",
    "    train_loss.append(train(model, device, train_loader, optimizer, epoch))\n",
    "    validation_loss.append(test(model, device, validation_loader, 'Val'))\n",
    "    scheduler.step()\n",
    "\n",
    "test(model, device, test_loader, 'Test set')\n",
    "plot_loss(train_loss, validation_loss, 'CNN model')"
   ]
  },
  {
   "cell_type": "markdown",
   "id": "720f1878",
   "metadata": {},
   "source": [
    "Final result is accuracy of 97.4%"
   ]
  }
 ],
 "metadata": {
  "kernelspec": {
   "display_name": ".venv",
   "language": "python",
   "name": "python3"
  },
  "language_info": {
   "codemirror_mode": {
    "name": "ipython",
    "version": 3
   },
   "file_extension": ".py",
   "mimetype": "text/x-python",
   "name": "python",
   "nbconvert_exporter": "python",
   "pygments_lexer": "ipython3",
   "version": "3.12.1"
  }
 },
 "nbformat": 4,
 "nbformat_minor": 5
}
